{
 "cells": [
  {
   "cell_type": "code",
   "id": "117c0712",
   "metadata": {
    "execution": {
     "iopub.execute_input": "2023-10-01T16:09:06.331762Z",
     "iopub.status.busy": "2023-10-01T16:09:06.331213Z",
     "iopub.status.idle": "2023-10-01T16:09:09.223883Z",
     "shell.execute_reply": "2023-10-01T16:09:09.223005Z",
     "shell.execute_reply.started": "2023-10-01T16:09:06.331734Z"
    },
    "papermill": {
     "duration": 0.042712,
     "end_time": "2023-11-04T22:17:40.151872",
     "exception": false,
     "start_time": "2023-11-04T22:17:40.109160",
     "status": "completed"
    },
    "tags": [],
    "ExecuteTime": {
     "end_time": "2024-09-16T17:36:41.722647Z",
     "start_time": "2024-09-16T17:36:41.716253Z"
    }
   },
   "source": [],
   "outputs": [],
   "execution_count": null
  },
  {
   "cell_type": "code",
   "id": "95378bc2",
   "metadata": {
    "execution": {
     "iopub.execute_input": "2023-11-04T22:17:40.512738Z",
     "iopub.status.busy": "2023-11-04T22:17:40.512318Z",
     "iopub.status.idle": "2023-11-04T22:17:43.791578Z",
     "shell.execute_reply": "2023-11-04T22:17:43.789882Z"
    },
    "papermill": {
     "duration": 3.32797,
     "end_time": "2023-11-04T22:17:43.795334",
     "exception": false,
     "start_time": "2023-11-04T22:17:40.467364",
     "status": "completed"
    },
    "tags": [],
    "ExecuteTime": {
     "end_time": "2024-09-16T17:36:42.616642Z",
     "start_time": "2024-09-16T17:36:41.725659Z"
    }
   },
   "source": [
    "import pandas as pd\n",
    "import numpy as np\n",
    "\n",
    "import seaborn as sns\n",
    "import matplotlib.pyplot as plt\n",
    "%matplotlib inline\n",
    "\n",
    "from sklearn.preprocessing import OrdinalEncoder, OneHotEncoder\n",
    "\n",
    "from sklearn.impute import SimpleImputer\n",
    "\n",
    "from sklearn.compose import make_column_transformer, ColumnTransformer\n",
    "from sklearn.pipeline import Pipeline, make_pipeline\n",
    "\n",
    "from sklearn.linear_model import LogisticRegression\n",
    "from sklearn.svm import SVC\n",
    "from sklearn.tree import DecisionTreeClassifier\n",
    "from sklearn.neighbors import KNeighborsClassifier\n",
    "from sklearn.naive_bayes import GaussianNB\n",
    "from xgboost import XGBClassifier\n",
    "from sklearn.ensemble import RandomForestClassifier, AdaBoostClassifier, GradientBoostingClassifier, ExtraTreesClassifier, VotingClassifier\n",
    "\n",
    "\n",
    "from sklearn.model_selection import cross_val_score, StratifiedKFold, train_test_split, GridSearchCV"
   ],
   "outputs": [],
   "execution_count": 1
  },
  {
   "cell_type": "markdown",
   "id": "58c1bcad",
   "metadata": {
    "papermill": {
     "duration": 0.042698,
     "end_time": "2023-11-04T22:17:43.883261",
     "exception": false,
     "start_time": "2023-11-04T22:17:43.840563",
     "status": "completed"
    },
    "tags": []
   },
   "source": [
    "Bring in Train and Test Datasets"
   ]
  },
  {
   "cell_type": "code",
   "id": "b7c56e4f",
   "metadata": {
    "execution": {
     "iopub.execute_input": "2023-11-04T22:17:43.972523Z",
     "iopub.status.busy": "2023-11-04T22:17:43.971943Z",
     "iopub.status.idle": "2023-11-04T22:17:44.018374Z",
     "shell.execute_reply": "2023-11-04T22:17:44.016675Z"
    },
    "papermill": {
     "duration": 0.095181,
     "end_time": "2023-11-04T22:17:44.022258",
     "exception": false,
     "start_time": "2023-11-04T22:17:43.927077",
     "status": "completed"
    },
    "tags": [],
    "ExecuteTime": {
     "end_time": "2024-09-16T17:36:42.644781Z",
     "start_time": "2024-09-16T17:36:42.620652Z"
    }
   },
   "source": [
    "# train_df = pd.read_csv('/kaggle/input/titanic/train.csv')\n",
    "# test_df = pd.read_csv('/kaggle/input/titanic/test.csv')\n",
    "train_df = pd.read_csv('train.csv')\n",
    "test_df = pd.read_csv('test.csv')"
   ],
   "outputs": [],
   "execution_count": 2
  },
  {
   "cell_type": "code",
   "id": "35b1d676",
   "metadata": {
    "execution": {
     "iopub.execute_input": "2023-11-04T22:17:44.114135Z",
     "iopub.status.busy": "2023-11-04T22:17:44.112473Z",
     "iopub.status.idle": "2023-11-04T22:17:44.148049Z",
     "shell.execute_reply": "2023-11-04T22:17:44.146717Z"
    },
    "papermill": {
     "duration": 0.086437,
     "end_time": "2023-11-04T22:17:44.153035",
     "exception": false,
     "start_time": "2023-11-04T22:17:44.066598",
     "status": "completed"
    },
    "tags": [],
    "ExecuteTime": {
     "end_time": "2024-09-16T17:36:42.683985Z",
     "start_time": "2024-09-16T17:36:42.649793Z"
    }
   },
   "source": [
    "train_df.head()"
   ],
   "outputs": [
    {
     "data": {
      "text/plain": [
       "   PassengerId  Survived  Pclass  \\\n",
       "0            1         0       3   \n",
       "1            2         1       1   \n",
       "2            3         1       3   \n",
       "3            4         1       1   \n",
       "4            5         0       3   \n",
       "\n",
       "                                                Name     Sex   Age  SibSp  \\\n",
       "0                            Braund, Mr. Owen Harris    male  22.0      1   \n",
       "1  Cumings, Mrs. John Bradley (Florence Briggs Th...  female  38.0      1   \n",
       "2                             Heikkinen, Miss. Laina  female  26.0      0   \n",
       "3       Futrelle, Mrs. Jacques Heath (Lily May Peel)  female  35.0      1   \n",
       "4                           Allen, Mr. William Henry    male  35.0      0   \n",
       "\n",
       "   Parch            Ticket     Fare Cabin Embarked  \n",
       "0      0         A/5 21171   7.2500   NaN        S  \n",
       "1      0          PC 17599  71.2833   C85        C  \n",
       "2      0  STON/O2. 3101282   7.9250   NaN        S  \n",
       "3      0            113803  53.1000  C123        S  \n",
       "4      0            373450   8.0500   NaN        S  "
      ],
      "text/html": [
       "<div>\n",
       "<style scoped>\n",
       "    .dataframe tbody tr th:only-of-type {\n",
       "        vertical-align: middle;\n",
       "    }\n",
       "\n",
       "    .dataframe tbody tr th {\n",
       "        vertical-align: top;\n",
       "    }\n",
       "\n",
       "    .dataframe thead th {\n",
       "        text-align: right;\n",
       "    }\n",
       "</style>\n",
       "<table border=\"1\" class=\"dataframe\">\n",
       "  <thead>\n",
       "    <tr style=\"text-align: right;\">\n",
       "      <th></th>\n",
       "      <th>PassengerId</th>\n",
       "      <th>Survived</th>\n",
       "      <th>Pclass</th>\n",
       "      <th>Name</th>\n",
       "      <th>Sex</th>\n",
       "      <th>Age</th>\n",
       "      <th>SibSp</th>\n",
       "      <th>Parch</th>\n",
       "      <th>Ticket</th>\n",
       "      <th>Fare</th>\n",
       "      <th>Cabin</th>\n",
       "      <th>Embarked</th>\n",
       "    </tr>\n",
       "  </thead>\n",
       "  <tbody>\n",
       "    <tr>\n",
       "      <th>0</th>\n",
       "      <td>1</td>\n",
       "      <td>0</td>\n",
       "      <td>3</td>\n",
       "      <td>Braund, Mr. Owen Harris</td>\n",
       "      <td>male</td>\n",
       "      <td>22.0</td>\n",
       "      <td>1</td>\n",
       "      <td>0</td>\n",
       "      <td>A/5 21171</td>\n",
       "      <td>7.2500</td>\n",
       "      <td>NaN</td>\n",
       "      <td>S</td>\n",
       "    </tr>\n",
       "    <tr>\n",
       "      <th>1</th>\n",
       "      <td>2</td>\n",
       "      <td>1</td>\n",
       "      <td>1</td>\n",
       "      <td>Cumings, Mrs. John Bradley (Florence Briggs Th...</td>\n",
       "      <td>female</td>\n",
       "      <td>38.0</td>\n",
       "      <td>1</td>\n",
       "      <td>0</td>\n",
       "      <td>PC 17599</td>\n",
       "      <td>71.2833</td>\n",
       "      <td>C85</td>\n",
       "      <td>C</td>\n",
       "    </tr>\n",
       "    <tr>\n",
       "      <th>2</th>\n",
       "      <td>3</td>\n",
       "      <td>1</td>\n",
       "      <td>3</td>\n",
       "      <td>Heikkinen, Miss. Laina</td>\n",
       "      <td>female</td>\n",
       "      <td>26.0</td>\n",
       "      <td>0</td>\n",
       "      <td>0</td>\n",
       "      <td>STON/O2. 3101282</td>\n",
       "      <td>7.9250</td>\n",
       "      <td>NaN</td>\n",
       "      <td>S</td>\n",
       "    </tr>\n",
       "    <tr>\n",
       "      <th>3</th>\n",
       "      <td>4</td>\n",
       "      <td>1</td>\n",
       "      <td>1</td>\n",
       "      <td>Futrelle, Mrs. Jacques Heath (Lily May Peel)</td>\n",
       "      <td>female</td>\n",
       "      <td>35.0</td>\n",
       "      <td>1</td>\n",
       "      <td>0</td>\n",
       "      <td>113803</td>\n",
       "      <td>53.1000</td>\n",
       "      <td>C123</td>\n",
       "      <td>S</td>\n",
       "    </tr>\n",
       "    <tr>\n",
       "      <th>4</th>\n",
       "      <td>5</td>\n",
       "      <td>0</td>\n",
       "      <td>3</td>\n",
       "      <td>Allen, Mr. William Henry</td>\n",
       "      <td>male</td>\n",
       "      <td>35.0</td>\n",
       "      <td>0</td>\n",
       "      <td>0</td>\n",
       "      <td>373450</td>\n",
       "      <td>8.0500</td>\n",
       "      <td>NaN</td>\n",
       "      <td>S</td>\n",
       "    </tr>\n",
       "  </tbody>\n",
       "</table>\n",
       "</div>"
      ]
     },
     "execution_count": 3,
     "metadata": {},
     "output_type": "execute_result"
    }
   ],
   "execution_count": 3
  },
  {
   "cell_type": "code",
   "id": "b376d823",
   "metadata": {
    "execution": {
     "iopub.execute_input": "2023-11-04T22:17:44.252163Z",
     "iopub.status.busy": "2023-11-04T22:17:44.251674Z",
     "iopub.status.idle": "2023-11-04T22:17:44.289492Z",
     "shell.execute_reply": "2023-11-04T22:17:44.287724Z"
    },
    "papermill": {
     "duration": 0.090402,
     "end_time": "2023-11-04T22:17:44.292825",
     "exception": false,
     "start_time": "2023-11-04T22:17:44.202423",
     "status": "completed"
    },
    "tags": [],
    "ExecuteTime": {
     "end_time": "2024-09-16T17:36:42.707273Z",
     "start_time": "2024-09-16T17:36:42.687995Z"
    }
   },
   "source": [
    "train_df.info()"
   ],
   "outputs": [
    {
     "name": "stdout",
     "output_type": "stream",
     "text": [
      "<class 'pandas.core.frame.DataFrame'>\n",
      "RangeIndex: 891 entries, 0 to 890\n",
      "Data columns (total 12 columns):\n",
      " #   Column       Non-Null Count  Dtype  \n",
      "---  ------       --------------  -----  \n",
      " 0   PassengerId  891 non-null    int64  \n",
      " 1   Survived     891 non-null    int64  \n",
      " 2   Pclass       891 non-null    int64  \n",
      " 3   Name         891 non-null    object \n",
      " 4   Sex          891 non-null    object \n",
      " 5   Age          714 non-null    float64\n",
      " 6   SibSp        891 non-null    int64  \n",
      " 7   Parch        891 non-null    int64  \n",
      " 8   Ticket       891 non-null    object \n",
      " 9   Fare         891 non-null    float64\n",
      " 10  Cabin        204 non-null    object \n",
      " 11  Embarked     889 non-null    object \n",
      "dtypes: float64(2), int64(5), object(5)\n",
      "memory usage: 83.7+ KB\n"
     ]
    }
   ],
   "execution_count": 4
  },
  {
   "cell_type": "code",
   "id": "d86e9d6b",
   "metadata": {
    "execution": {
     "iopub.execute_input": "2023-11-04T22:17:44.384605Z",
     "iopub.status.busy": "2023-11-04T22:17:44.384086Z",
     "iopub.status.idle": "2023-11-04T22:17:44.429323Z",
     "shell.execute_reply": "2023-11-04T22:17:44.428041Z"
    },
    "papermill": {
     "duration": 0.095255,
     "end_time": "2023-11-04T22:17:44.434063",
     "exception": false,
     "start_time": "2023-11-04T22:17:44.338808",
     "status": "completed"
    },
    "tags": [],
    "ExecuteTime": {
     "end_time": "2024-09-16T17:36:42.751166Z",
     "start_time": "2024-09-16T17:36:42.711282Z"
    }
   },
   "source": [
    "train_df.describe()"
   ],
   "outputs": [
    {
     "data": {
      "text/plain": [
       "       PassengerId    Survived      Pclass         Age       SibSp  \\\n",
       "count   891.000000  891.000000  891.000000  714.000000  891.000000   \n",
       "mean    446.000000    0.383838    2.308642   29.699118    0.523008   \n",
       "std     257.353842    0.486592    0.836071   14.526497    1.102743   \n",
       "min       1.000000    0.000000    1.000000    0.420000    0.000000   \n",
       "25%     223.500000    0.000000    2.000000   20.125000    0.000000   \n",
       "50%     446.000000    0.000000    3.000000   28.000000    0.000000   \n",
       "75%     668.500000    1.000000    3.000000   38.000000    1.000000   \n",
       "max     891.000000    1.000000    3.000000   80.000000    8.000000   \n",
       "\n",
       "            Parch        Fare  \n",
       "count  891.000000  891.000000  \n",
       "mean     0.381594   32.204208  \n",
       "std      0.806057   49.693429  \n",
       "min      0.000000    0.000000  \n",
       "25%      0.000000    7.910400  \n",
       "50%      0.000000   14.454200  \n",
       "75%      0.000000   31.000000  \n",
       "max      6.000000  512.329200  "
      ],
      "text/html": [
       "<div>\n",
       "<style scoped>\n",
       "    .dataframe tbody tr th:only-of-type {\n",
       "        vertical-align: middle;\n",
       "    }\n",
       "\n",
       "    .dataframe tbody tr th {\n",
       "        vertical-align: top;\n",
       "    }\n",
       "\n",
       "    .dataframe thead th {\n",
       "        text-align: right;\n",
       "    }\n",
       "</style>\n",
       "<table border=\"1\" class=\"dataframe\">\n",
       "  <thead>\n",
       "    <tr style=\"text-align: right;\">\n",
       "      <th></th>\n",
       "      <th>PassengerId</th>\n",
       "      <th>Survived</th>\n",
       "      <th>Pclass</th>\n",
       "      <th>Age</th>\n",
       "      <th>SibSp</th>\n",
       "      <th>Parch</th>\n",
       "      <th>Fare</th>\n",
       "    </tr>\n",
       "  </thead>\n",
       "  <tbody>\n",
       "    <tr>\n",
       "      <th>count</th>\n",
       "      <td>891.000000</td>\n",
       "      <td>891.000000</td>\n",
       "      <td>891.000000</td>\n",
       "      <td>714.000000</td>\n",
       "      <td>891.000000</td>\n",
       "      <td>891.000000</td>\n",
       "      <td>891.000000</td>\n",
       "    </tr>\n",
       "    <tr>\n",
       "      <th>mean</th>\n",
       "      <td>446.000000</td>\n",
       "      <td>0.383838</td>\n",
       "      <td>2.308642</td>\n",
       "      <td>29.699118</td>\n",
       "      <td>0.523008</td>\n",
       "      <td>0.381594</td>\n",
       "      <td>32.204208</td>\n",
       "    </tr>\n",
       "    <tr>\n",
       "      <th>std</th>\n",
       "      <td>257.353842</td>\n",
       "      <td>0.486592</td>\n",
       "      <td>0.836071</td>\n",
       "      <td>14.526497</td>\n",
       "      <td>1.102743</td>\n",
       "      <td>0.806057</td>\n",
       "      <td>49.693429</td>\n",
       "    </tr>\n",
       "    <tr>\n",
       "      <th>min</th>\n",
       "      <td>1.000000</td>\n",
       "      <td>0.000000</td>\n",
       "      <td>1.000000</td>\n",
       "      <td>0.420000</td>\n",
       "      <td>0.000000</td>\n",
       "      <td>0.000000</td>\n",
       "      <td>0.000000</td>\n",
       "    </tr>\n",
       "    <tr>\n",
       "      <th>25%</th>\n",
       "      <td>223.500000</td>\n",
       "      <td>0.000000</td>\n",
       "      <td>2.000000</td>\n",
       "      <td>20.125000</td>\n",
       "      <td>0.000000</td>\n",
       "      <td>0.000000</td>\n",
       "      <td>7.910400</td>\n",
       "    </tr>\n",
       "    <tr>\n",
       "      <th>50%</th>\n",
       "      <td>446.000000</td>\n",
       "      <td>0.000000</td>\n",
       "      <td>3.000000</td>\n",
       "      <td>28.000000</td>\n",
       "      <td>0.000000</td>\n",
       "      <td>0.000000</td>\n",
       "      <td>14.454200</td>\n",
       "    </tr>\n",
       "    <tr>\n",
       "      <th>75%</th>\n",
       "      <td>668.500000</td>\n",
       "      <td>1.000000</td>\n",
       "      <td>3.000000</td>\n",
       "      <td>38.000000</td>\n",
       "      <td>1.000000</td>\n",
       "      <td>0.000000</td>\n",
       "      <td>31.000000</td>\n",
       "    </tr>\n",
       "    <tr>\n",
       "      <th>max</th>\n",
       "      <td>891.000000</td>\n",
       "      <td>1.000000</td>\n",
       "      <td>3.000000</td>\n",
       "      <td>80.000000</td>\n",
       "      <td>8.000000</td>\n",
       "      <td>6.000000</td>\n",
       "      <td>512.329200</td>\n",
       "    </tr>\n",
       "  </tbody>\n",
       "</table>\n",
       "</div>"
      ]
     },
     "execution_count": 5,
     "metadata": {},
     "output_type": "execute_result"
    }
   ],
   "execution_count": 5
  },
  {
   "cell_type": "code",
   "id": "102bc951",
   "metadata": {
    "execution": {
     "iopub.execute_input": "2023-11-04T22:17:44.533226Z",
     "iopub.status.busy": "2023-11-04T22:17:44.532174Z",
     "iopub.status.idle": "2023-11-04T22:17:44.556186Z",
     "shell.execute_reply": "2023-11-04T22:17:44.555255Z"
    },
    "papermill": {
     "duration": 0.074635,
     "end_time": "2023-11-04T22:17:44.560208",
     "exception": false,
     "start_time": "2023-11-04T22:17:44.485573",
     "status": "completed"
    },
    "tags": [],
    "ExecuteTime": {
     "end_time": "2024-09-16T17:36:42.789371Z",
     "start_time": "2024-09-16T17:36:42.754176Z"
    }
   },
   "source": [
    "train_df.describe(include=['O'])"
   ],
   "outputs": [
    {
     "data": {
      "text/plain": [
       "                           Name   Sex  Ticket    Cabin Embarked\n",
       "count                       891   891     891      204      889\n",
       "unique                      891     2     681      147        3\n",
       "top     Braund, Mr. Owen Harris  male  347082  B96 B98        S\n",
       "freq                          1   577       7        4      644"
      ],
      "text/html": [
       "<div>\n",
       "<style scoped>\n",
       "    .dataframe tbody tr th:only-of-type {\n",
       "        vertical-align: middle;\n",
       "    }\n",
       "\n",
       "    .dataframe tbody tr th {\n",
       "        vertical-align: top;\n",
       "    }\n",
       "\n",
       "    .dataframe thead th {\n",
       "        text-align: right;\n",
       "    }\n",
       "</style>\n",
       "<table border=\"1\" class=\"dataframe\">\n",
       "  <thead>\n",
       "    <tr style=\"text-align: right;\">\n",
       "      <th></th>\n",
       "      <th>Name</th>\n",
       "      <th>Sex</th>\n",
       "      <th>Ticket</th>\n",
       "      <th>Cabin</th>\n",
       "      <th>Embarked</th>\n",
       "    </tr>\n",
       "  </thead>\n",
       "  <tbody>\n",
       "    <tr>\n",
       "      <th>count</th>\n",
       "      <td>891</td>\n",
       "      <td>891</td>\n",
       "      <td>891</td>\n",
       "      <td>204</td>\n",
       "      <td>889</td>\n",
       "    </tr>\n",
       "    <tr>\n",
       "      <th>unique</th>\n",
       "      <td>891</td>\n",
       "      <td>2</td>\n",
       "      <td>681</td>\n",
       "      <td>147</td>\n",
       "      <td>3</td>\n",
       "    </tr>\n",
       "    <tr>\n",
       "      <th>top</th>\n",
       "      <td>Braund, Mr. Owen Harris</td>\n",
       "      <td>male</td>\n",
       "      <td>347082</td>\n",
       "      <td>B96 B98</td>\n",
       "      <td>S</td>\n",
       "    </tr>\n",
       "    <tr>\n",
       "      <th>freq</th>\n",
       "      <td>1</td>\n",
       "      <td>577</td>\n",
       "      <td>7</td>\n",
       "      <td>4</td>\n",
       "      <td>644</td>\n",
       "    </tr>\n",
       "  </tbody>\n",
       "</table>\n",
       "</div>"
      ]
     },
     "execution_count": 6,
     "metadata": {},
     "output_type": "execute_result"
    }
   ],
   "execution_count": 6
  },
  {
   "cell_type": "code",
   "id": "595f209d",
   "metadata": {
    "execution": {
     "iopub.execute_input": "2023-11-04T22:17:44.650862Z",
     "iopub.status.busy": "2023-11-04T22:17:44.649898Z",
     "iopub.status.idle": "2023-11-04T22:17:44.670546Z",
     "shell.execute_reply": "2023-11-04T22:17:44.668864Z"
    },
    "papermill": {
     "duration": 0.068063,
     "end_time": "2023-11-04T22:17:44.673362",
     "exception": false,
     "start_time": "2023-11-04T22:17:44.605299",
     "status": "completed"
    },
    "tags": [],
    "ExecuteTime": {
     "end_time": "2024-09-16T17:36:42.812581Z",
     "start_time": "2024-09-16T17:36:42.792370Z"
    }
   },
   "source": [
    "train_df.groupby(['Pclass'], as_index=False)['Survived'].mean()"
   ],
   "outputs": [
    {
     "data": {
      "text/plain": [
       "   Pclass  Survived\n",
       "0       1  0.629630\n",
       "1       2  0.472826\n",
       "2       3  0.242363"
      ],
      "text/html": [
       "<div>\n",
       "<style scoped>\n",
       "    .dataframe tbody tr th:only-of-type {\n",
       "        vertical-align: middle;\n",
       "    }\n",
       "\n",
       "    .dataframe tbody tr th {\n",
       "        vertical-align: top;\n",
       "    }\n",
       "\n",
       "    .dataframe thead th {\n",
       "        text-align: right;\n",
       "    }\n",
       "</style>\n",
       "<table border=\"1\" class=\"dataframe\">\n",
       "  <thead>\n",
       "    <tr style=\"text-align: right;\">\n",
       "      <th></th>\n",
       "      <th>Pclass</th>\n",
       "      <th>Survived</th>\n",
       "    </tr>\n",
       "  </thead>\n",
       "  <tbody>\n",
       "    <tr>\n",
       "      <th>0</th>\n",
       "      <td>1</td>\n",
       "      <td>0.629630</td>\n",
       "    </tr>\n",
       "    <tr>\n",
       "      <th>1</th>\n",
       "      <td>2</td>\n",
       "      <td>0.472826</td>\n",
       "    </tr>\n",
       "    <tr>\n",
       "      <th>2</th>\n",
       "      <td>3</td>\n",
       "      <td>0.242363</td>\n",
       "    </tr>\n",
       "  </tbody>\n",
       "</table>\n",
       "</div>"
      ]
     },
     "execution_count": 7,
     "metadata": {},
     "output_type": "execute_result"
    }
   ],
   "execution_count": 7
  },
  {
   "cell_type": "code",
   "id": "8980f48f",
   "metadata": {
    "execution": {
     "iopub.execute_input": "2023-11-04T22:17:44.757799Z",
     "iopub.status.busy": "2023-11-04T22:17:44.756825Z",
     "iopub.status.idle": "2023-11-04T22:17:44.772226Z",
     "shell.execute_reply": "2023-11-04T22:17:44.770605Z"
    },
    "papermill": {
     "duration": 0.060883,
     "end_time": "2023-11-04T22:17:44.775226",
     "exception": false,
     "start_time": "2023-11-04T22:17:44.714343",
     "status": "completed"
    },
    "tags": [],
    "ExecuteTime": {
     "end_time": "2024-09-16T17:36:42.834172Z",
     "start_time": "2024-09-16T17:36:42.815620Z"
    }
   },
   "source": [
    "train_df.groupby(['Sex'], as_index=False)['Survived'].mean()"
   ],
   "outputs": [
    {
     "data": {
      "text/plain": [
       "      Sex  Survived\n",
       "0  female  0.742038\n",
       "1    male  0.188908"
      ],
      "text/html": [
       "<div>\n",
       "<style scoped>\n",
       "    .dataframe tbody tr th:only-of-type {\n",
       "        vertical-align: middle;\n",
       "    }\n",
       "\n",
       "    .dataframe tbody tr th {\n",
       "        vertical-align: top;\n",
       "    }\n",
       "\n",
       "    .dataframe thead th {\n",
       "        text-align: right;\n",
       "    }\n",
       "</style>\n",
       "<table border=\"1\" class=\"dataframe\">\n",
       "  <thead>\n",
       "    <tr style=\"text-align: right;\">\n",
       "      <th></th>\n",
       "      <th>Sex</th>\n",
       "      <th>Survived</th>\n",
       "    </tr>\n",
       "  </thead>\n",
       "  <tbody>\n",
       "    <tr>\n",
       "      <th>0</th>\n",
       "      <td>female</td>\n",
       "      <td>0.742038</td>\n",
       "    </tr>\n",
       "    <tr>\n",
       "      <th>1</th>\n",
       "      <td>male</td>\n",
       "      <td>0.188908</td>\n",
       "    </tr>\n",
       "  </tbody>\n",
       "</table>\n",
       "</div>"
      ]
     },
     "execution_count": 8,
     "metadata": {},
     "output_type": "execute_result"
    }
   ],
   "execution_count": 8
  },
  {
   "cell_type": "code",
   "id": "66bad71e",
   "metadata": {
    "execution": {
     "iopub.execute_input": "2023-11-04T22:17:44.859515Z",
     "iopub.status.busy": "2023-11-04T22:17:44.858964Z",
     "iopub.status.idle": "2023-11-04T22:17:44.878683Z",
     "shell.execute_reply": "2023-11-04T22:17:44.877062Z"
    },
    "papermill": {
     "duration": 0.065541,
     "end_time": "2023-11-04T22:17:44.881780",
     "exception": false,
     "start_time": "2023-11-04T22:17:44.816239",
     "status": "completed"
    },
    "tags": [],
    "ExecuteTime": {
     "end_time": "2024-09-16T17:36:42.853730Z",
     "start_time": "2024-09-16T17:36:42.838183Z"
    }
   },
   "source": [
    "train_df.groupby(['SibSp'], as_index=False)['Survived'].mean()"
   ],
   "outputs": [
    {
     "data": {
      "text/plain": [
       "   SibSp  Survived\n",
       "0      0  0.345395\n",
       "1      1  0.535885\n",
       "2      2  0.464286\n",
       "3      3  0.250000\n",
       "4      4  0.166667\n",
       "5      5  0.000000\n",
       "6      8  0.000000"
      ],
      "text/html": [
       "<div>\n",
       "<style scoped>\n",
       "    .dataframe tbody tr th:only-of-type {\n",
       "        vertical-align: middle;\n",
       "    }\n",
       "\n",
       "    .dataframe tbody tr th {\n",
       "        vertical-align: top;\n",
       "    }\n",
       "\n",
       "    .dataframe thead th {\n",
       "        text-align: right;\n",
       "    }\n",
       "</style>\n",
       "<table border=\"1\" class=\"dataframe\">\n",
       "  <thead>\n",
       "    <tr style=\"text-align: right;\">\n",
       "      <th></th>\n",
       "      <th>SibSp</th>\n",
       "      <th>Survived</th>\n",
       "    </tr>\n",
       "  </thead>\n",
       "  <tbody>\n",
       "    <tr>\n",
       "      <th>0</th>\n",
       "      <td>0</td>\n",
       "      <td>0.345395</td>\n",
       "    </tr>\n",
       "    <tr>\n",
       "      <th>1</th>\n",
       "      <td>1</td>\n",
       "      <td>0.535885</td>\n",
       "    </tr>\n",
       "    <tr>\n",
       "      <th>2</th>\n",
       "      <td>2</td>\n",
       "      <td>0.464286</td>\n",
       "    </tr>\n",
       "    <tr>\n",
       "      <th>3</th>\n",
       "      <td>3</td>\n",
       "      <td>0.250000</td>\n",
       "    </tr>\n",
       "    <tr>\n",
       "      <th>4</th>\n",
       "      <td>4</td>\n",
       "      <td>0.166667</td>\n",
       "    </tr>\n",
       "    <tr>\n",
       "      <th>5</th>\n",
       "      <td>5</td>\n",
       "      <td>0.000000</td>\n",
       "    </tr>\n",
       "    <tr>\n",
       "      <th>6</th>\n",
       "      <td>8</td>\n",
       "      <td>0.000000</td>\n",
       "    </tr>\n",
       "  </tbody>\n",
       "</table>\n",
       "</div>"
      ]
     },
     "execution_count": 9,
     "metadata": {},
     "output_type": "execute_result"
    }
   ],
   "execution_count": 9
  },
  {
   "cell_type": "code",
   "id": "f0bc6e30",
   "metadata": {
    "execution": {
     "iopub.execute_input": "2023-11-04T22:17:44.981103Z",
     "iopub.status.busy": "2023-11-04T22:17:44.980226Z",
     "iopub.status.idle": "2023-11-04T22:17:44.996123Z",
     "shell.execute_reply": "2023-11-04T22:17:44.994749Z"
    },
    "papermill": {
     "duration": 0.065838,
     "end_time": "2023-11-04T22:17:44.998710",
     "exception": false,
     "start_time": "2023-11-04T22:17:44.932872",
     "status": "completed"
    },
    "tags": [],
    "ExecuteTime": {
     "end_time": "2024-09-16T17:36:42.881199Z",
     "start_time": "2024-09-16T17:36:42.861759Z"
    }
   },
   "source": [
    "train_df.groupby(['Parch'], as_index=False)['Survived'].mean()"
   ],
   "outputs": [
    {
     "data": {
      "text/plain": [
       "   Parch  Survived\n",
       "0      0  0.343658\n",
       "1      1  0.550847\n",
       "2      2  0.500000\n",
       "3      3  0.600000\n",
       "4      4  0.000000\n",
       "5      5  0.200000\n",
       "6      6  0.000000"
      ],
      "text/html": [
       "<div>\n",
       "<style scoped>\n",
       "    .dataframe tbody tr th:only-of-type {\n",
       "        vertical-align: middle;\n",
       "    }\n",
       "\n",
       "    .dataframe tbody tr th {\n",
       "        vertical-align: top;\n",
       "    }\n",
       "\n",
       "    .dataframe thead th {\n",
       "        text-align: right;\n",
       "    }\n",
       "</style>\n",
       "<table border=\"1\" class=\"dataframe\">\n",
       "  <thead>\n",
       "    <tr style=\"text-align: right;\">\n",
       "      <th></th>\n",
       "      <th>Parch</th>\n",
       "      <th>Survived</th>\n",
       "    </tr>\n",
       "  </thead>\n",
       "  <tbody>\n",
       "    <tr>\n",
       "      <th>0</th>\n",
       "      <td>0</td>\n",
       "      <td>0.343658</td>\n",
       "    </tr>\n",
       "    <tr>\n",
       "      <th>1</th>\n",
       "      <td>1</td>\n",
       "      <td>0.550847</td>\n",
       "    </tr>\n",
       "    <tr>\n",
       "      <th>2</th>\n",
       "      <td>2</td>\n",
       "      <td>0.500000</td>\n",
       "    </tr>\n",
       "    <tr>\n",
       "      <th>3</th>\n",
       "      <td>3</td>\n",
       "      <td>0.600000</td>\n",
       "    </tr>\n",
       "    <tr>\n",
       "      <th>4</th>\n",
       "      <td>4</td>\n",
       "      <td>0.000000</td>\n",
       "    </tr>\n",
       "    <tr>\n",
       "      <th>5</th>\n",
       "      <td>5</td>\n",
       "      <td>0.200000</td>\n",
       "    </tr>\n",
       "    <tr>\n",
       "      <th>6</th>\n",
       "      <td>6</td>\n",
       "      <td>0.000000</td>\n",
       "    </tr>\n",
       "  </tbody>\n",
       "</table>\n",
       "</div>"
      ]
     },
     "execution_count": 10,
     "metadata": {},
     "output_type": "execute_result"
    }
   ],
   "execution_count": 10
  },
  {
   "cell_type": "code",
   "id": "af5a291e",
   "metadata": {
    "execution": {
     "iopub.execute_input": "2023-11-04T22:17:45.111275Z",
     "iopub.status.busy": "2023-11-04T22:17:45.110386Z",
     "iopub.status.idle": "2023-11-04T22:17:45.119583Z",
     "shell.execute_reply": "2023-11-04T22:17:45.118690Z"
    },
    "papermill": {
     "duration": 0.069176,
     "end_time": "2023-11-04T22:17:45.122613",
     "exception": false,
     "start_time": "2023-11-04T22:17:45.053437",
     "status": "completed"
    },
    "tags": [],
    "ExecuteTime": {
     "end_time": "2024-09-16T17:36:42.894044Z",
     "start_time": "2024-09-16T17:36:42.883209Z"
    }
   },
   "source": [
    "train_df['Family_Size'] = train_df['SibSp'] + train_df['Parch'] + 1\n",
    "test_df['Family_Size'] = test_df['SibSp'] + test_df['Parch'] + 1"
   ],
   "outputs": [],
   "execution_count": 11
  },
  {
   "cell_type": "code",
   "id": "1f28f522",
   "metadata": {
    "execution": {
     "iopub.execute_input": "2023-11-04T22:17:45.214155Z",
     "iopub.status.busy": "2023-11-04T22:17:45.213468Z",
     "iopub.status.idle": "2023-11-04T22:17:45.228392Z",
     "shell.execute_reply": "2023-11-04T22:17:45.226837Z"
    },
    "papermill": {
     "duration": 0.065859,
     "end_time": "2023-11-04T22:17:45.231846",
     "exception": false,
     "start_time": "2023-11-04T22:17:45.165987",
     "status": "completed"
    },
    "tags": [],
    "ExecuteTime": {
     "end_time": "2024-09-16T17:36:42.915531Z",
     "start_time": "2024-09-16T17:36:42.898056Z"
    }
   },
   "source": [
    "train_df.groupby(['Family_Size'], as_index=False)['Survived'].mean()"
   ],
   "outputs": [
    {
     "data": {
      "text/plain": [
       "   Family_Size  Survived\n",
       "0            1  0.303538\n",
       "1            2  0.552795\n",
       "2            3  0.578431\n",
       "3            4  0.724138\n",
       "4            5  0.200000\n",
       "5            6  0.136364\n",
       "6            7  0.333333\n",
       "7            8  0.000000\n",
       "8           11  0.000000"
      ],
      "text/html": [
       "<div>\n",
       "<style scoped>\n",
       "    .dataframe tbody tr th:only-of-type {\n",
       "        vertical-align: middle;\n",
       "    }\n",
       "\n",
       "    .dataframe tbody tr th {\n",
       "        vertical-align: top;\n",
       "    }\n",
       "\n",
       "    .dataframe thead th {\n",
       "        text-align: right;\n",
       "    }\n",
       "</style>\n",
       "<table border=\"1\" class=\"dataframe\">\n",
       "  <thead>\n",
       "    <tr style=\"text-align: right;\">\n",
       "      <th></th>\n",
       "      <th>Family_Size</th>\n",
       "      <th>Survived</th>\n",
       "    </tr>\n",
       "  </thead>\n",
       "  <tbody>\n",
       "    <tr>\n",
       "      <th>0</th>\n",
       "      <td>1</td>\n",
       "      <td>0.303538</td>\n",
       "    </tr>\n",
       "    <tr>\n",
       "      <th>1</th>\n",
       "      <td>2</td>\n",
       "      <td>0.552795</td>\n",
       "    </tr>\n",
       "    <tr>\n",
       "      <th>2</th>\n",
       "      <td>3</td>\n",
       "      <td>0.578431</td>\n",
       "    </tr>\n",
       "    <tr>\n",
       "      <th>3</th>\n",
       "      <td>4</td>\n",
       "      <td>0.724138</td>\n",
       "    </tr>\n",
       "    <tr>\n",
       "      <th>4</th>\n",
       "      <td>5</td>\n",
       "      <td>0.200000</td>\n",
       "    </tr>\n",
       "    <tr>\n",
       "      <th>5</th>\n",
       "      <td>6</td>\n",
       "      <td>0.136364</td>\n",
       "    </tr>\n",
       "    <tr>\n",
       "      <th>6</th>\n",
       "      <td>7</td>\n",
       "      <td>0.333333</td>\n",
       "    </tr>\n",
       "    <tr>\n",
       "      <th>7</th>\n",
       "      <td>8</td>\n",
       "      <td>0.000000</td>\n",
       "    </tr>\n",
       "    <tr>\n",
       "      <th>8</th>\n",
       "      <td>11</td>\n",
       "      <td>0.000000</td>\n",
       "    </tr>\n",
       "  </tbody>\n",
       "</table>\n",
       "</div>"
      ]
     },
     "execution_count": 12,
     "metadata": {},
     "output_type": "execute_result"
    }
   ],
   "execution_count": 12
  },
  {
   "cell_type": "code",
   "id": "0ee89ae9",
   "metadata": {
    "execution": {
     "iopub.execute_input": "2023-11-04T22:17:45.325547Z",
     "iopub.status.busy": "2023-11-04T22:17:45.324480Z",
     "iopub.status.idle": "2023-11-04T22:17:45.339776Z",
     "shell.execute_reply": "2023-11-04T22:17:45.338279Z"
    },
    "papermill": {
     "duration": 0.065422,
     "end_time": "2023-11-04T22:17:45.343788",
     "exception": false,
     "start_time": "2023-11-04T22:17:45.278366",
     "status": "completed"
    },
    "tags": [],
    "ExecuteTime": {
     "end_time": "2024-09-16T17:36:42.938098Z",
     "start_time": "2024-09-16T17:36:42.918545Z"
    }
   },
   "source": [
    "family_map = {1: 'Alone', 2: 'Small', 3: 'Small', 4: 'Small', 5: 'Medium', 6: 'Medium', 7: 'Large', 8: 'Large', 11: 'Large'}\n",
    "train_df['Family_Size_Grouped'] = train_df['Family_Size'].map(family_map)\n",
    "test_df['Family_Size_Grouped'] = train_df['Family_Size'].map(family_map)"
   ],
   "outputs": [],
   "execution_count": 13
  },
  {
   "cell_type": "code",
   "id": "064d54a0",
   "metadata": {
    "execution": {
     "iopub.execute_input": "2023-11-04T22:17:45.451548Z",
     "iopub.status.busy": "2023-11-04T22:17:45.449760Z",
     "iopub.status.idle": "2023-11-04T22:17:45.465735Z",
     "shell.execute_reply": "2023-11-04T22:17:45.464306Z"
    },
    "papermill": {
     "duration": 0.065898,
     "end_time": "2023-11-04T22:17:45.468781",
     "exception": false,
     "start_time": "2023-11-04T22:17:45.402883",
     "status": "completed"
    },
    "tags": [],
    "ExecuteTime": {
     "end_time": "2024-09-16T17:36:42.963099Z",
     "start_time": "2024-09-16T17:36:42.941108Z"
    }
   },
   "source": [
    "train_df.groupby(['Family_Size_Grouped'], as_index=False)['Survived'].mean()"
   ],
   "outputs": [
    {
     "data": {
      "text/plain": [
       "  Family_Size_Grouped  Survived\n",
       "0               Alone  0.303538\n",
       "1               Large  0.160000\n",
       "2              Medium  0.162162\n",
       "3               Small  0.578767"
      ],
      "text/html": [
       "<div>\n",
       "<style scoped>\n",
       "    .dataframe tbody tr th:only-of-type {\n",
       "        vertical-align: middle;\n",
       "    }\n",
       "\n",
       "    .dataframe tbody tr th {\n",
       "        vertical-align: top;\n",
       "    }\n",
       "\n",
       "    .dataframe thead th {\n",
       "        text-align: right;\n",
       "    }\n",
       "</style>\n",
       "<table border=\"1\" class=\"dataframe\">\n",
       "  <thead>\n",
       "    <tr style=\"text-align: right;\">\n",
       "      <th></th>\n",
       "      <th>Family_Size_Grouped</th>\n",
       "      <th>Survived</th>\n",
       "    </tr>\n",
       "  </thead>\n",
       "  <tbody>\n",
       "    <tr>\n",
       "      <th>0</th>\n",
       "      <td>Alone</td>\n",
       "      <td>0.303538</td>\n",
       "    </tr>\n",
       "    <tr>\n",
       "      <th>1</th>\n",
       "      <td>Large</td>\n",
       "      <td>0.160000</td>\n",
       "    </tr>\n",
       "    <tr>\n",
       "      <th>2</th>\n",
       "      <td>Medium</td>\n",
       "      <td>0.162162</td>\n",
       "    </tr>\n",
       "    <tr>\n",
       "      <th>3</th>\n",
       "      <td>Small</td>\n",
       "      <td>0.578767</td>\n",
       "    </tr>\n",
       "  </tbody>\n",
       "</table>\n",
       "</div>"
      ]
     },
     "execution_count": 14,
     "metadata": {},
     "output_type": "execute_result"
    }
   ],
   "execution_count": 14
  },
  {
   "cell_type": "code",
   "id": "4ee85d69",
   "metadata": {
    "execution": {
     "iopub.execute_input": "2023-11-04T22:17:45.554529Z",
     "iopub.status.busy": "2023-11-04T22:17:45.554002Z",
     "iopub.status.idle": "2023-11-04T22:17:45.569568Z",
     "shell.execute_reply": "2023-11-04T22:17:45.568349Z"
    },
    "papermill": {
     "duration": 0.061747,
     "end_time": "2023-11-04T22:17:45.572040",
     "exception": false,
     "start_time": "2023-11-04T22:17:45.510293",
     "status": "completed"
    },
    "tags": [],
    "ExecuteTime": {
     "end_time": "2024-09-16T17:36:42.991499Z",
     "start_time": "2024-09-16T17:36:42.968084Z"
    }
   },
   "source": [
    "train_df.groupby(['Embarked'], as_index=False)['Survived'].mean()"
   ],
   "outputs": [
    {
     "data": {
      "text/plain": [
       "  Embarked  Survived\n",
       "0        C  0.553571\n",
       "1        Q  0.389610\n",
       "2        S  0.336957"
      ],
      "text/html": [
       "<div>\n",
       "<style scoped>\n",
       "    .dataframe tbody tr th:only-of-type {\n",
       "        vertical-align: middle;\n",
       "    }\n",
       "\n",
       "    .dataframe tbody tr th {\n",
       "        vertical-align: top;\n",
       "    }\n",
       "\n",
       "    .dataframe thead th {\n",
       "        text-align: right;\n",
       "    }\n",
       "</style>\n",
       "<table border=\"1\" class=\"dataframe\">\n",
       "  <thead>\n",
       "    <tr style=\"text-align: right;\">\n",
       "      <th></th>\n",
       "      <th>Embarked</th>\n",
       "      <th>Survived</th>\n",
       "    </tr>\n",
       "  </thead>\n",
       "  <tbody>\n",
       "    <tr>\n",
       "      <th>0</th>\n",
       "      <td>C</td>\n",
       "      <td>0.553571</td>\n",
       "    </tr>\n",
       "    <tr>\n",
       "      <th>1</th>\n",
       "      <td>Q</td>\n",
       "      <td>0.389610</td>\n",
       "    </tr>\n",
       "    <tr>\n",
       "      <th>2</th>\n",
       "      <td>S</td>\n",
       "      <td>0.336957</td>\n",
       "    </tr>\n",
       "  </tbody>\n",
       "</table>\n",
       "</div>"
      ]
     },
     "execution_count": 15,
     "metadata": {},
     "output_type": "execute_result"
    }
   ],
   "execution_count": 15
  },
  {
   "cell_type": "code",
   "id": "e7a4c246",
   "metadata": {
    "execution": {
     "iopub.execute_input": "2023-11-04T22:17:45.659471Z",
     "iopub.status.busy": "2023-11-04T22:17:45.658468Z",
     "iopub.status.idle": "2023-11-04T22:17:46.633439Z",
     "shell.execute_reply": "2023-11-04T22:17:46.631751Z"
    },
    "papermill": {
     "duration": 1.022099,
     "end_time": "2023-11-04T22:17:46.636219",
     "exception": false,
     "start_time": "2023-11-04T22:17:45.614120",
     "status": "completed"
    },
    "tags": [],
    "ExecuteTime": {
     "end_time": "2024-09-16T17:36:44.526927Z",
     "start_time": "2024-09-16T17:36:43.002499Z"
    }
   },
   "source": [
    "sns.displot(train_df, x='Age', col='Survived', binwidth=10, height=5)"
   ],
   "outputs": [
    {
     "data": {
      "text/plain": [
       "<seaborn.axisgrid.FacetGrid at 0x1ffdabf0980>"
      ]
     },
     "execution_count": 16,
     "metadata": {},
     "output_type": "execute_result"
    },
    {
     "data": {
      "text/plain": [
       "<Figure size 1000x500 with 2 Axes>"
      ],
      "image/png": "[encoded data removed]"
     },
     "metadata": {},
     "output_type": "display_data"
    }
   ],
   "execution_count": 16
  },
  {
   "cell_type": "code",
   "id": "a247843e",
   "metadata": {
    "execution": {
     "iopub.execute_input": "2023-11-04T22:17:46.724459Z",
     "iopub.status.busy": "2023-11-04T22:17:46.723000Z",
     "iopub.status.idle": "2023-11-04T22:17:46.744218Z",
     "shell.execute_reply": "2023-11-04T22:17:46.742522Z"
    },
    "papermill": {
     "duration": 0.068628,
     "end_time": "2023-11-04T22:17:46.747251",
     "exception": false,
     "start_time": "2023-11-04T22:17:46.678623",
     "status": "completed"
    },
    "tags": [],
    "ExecuteTime": {
     "end_time": "2024-09-16T17:36:44.540869Z",
     "start_time": "2024-09-16T17:36:44.527933Z"
    }
   },
   "source": [
    "train_df['Age_Cut'] = pd.qcut(train_df['Age'], 5)\n",
    "test_df['Age_Cut'] = pd.qcut(test_df['Age'], 5)"
   ],
   "outputs": [],
   "execution_count": 17
  },
  {
   "cell_type": "code",
   "id": "7831e058",
   "metadata": {
    "execution": {
     "iopub.execute_input": "2023-11-04T22:17:46.836528Z",
     "iopub.status.busy": "2023-11-04T22:17:46.836123Z",
     "iopub.status.idle": "2023-11-04T22:17:46.854144Z",
     "shell.execute_reply": "2023-11-04T22:17:46.852642Z"
    },
    "papermill": {
     "duration": 0.066054,
     "end_time": "2023-11-04T22:17:46.857101",
     "exception": false,
     "start_time": "2023-11-04T22:17:46.791047",
     "status": "completed"
    },
    "tags": [],
    "ExecuteTime": {
     "end_time": "2024-09-16T17:36:44.558749Z",
     "start_time": "2024-09-16T17:36:44.541880Z"
    }
   },
   "source": [
    "train_df.groupby(['Age_Cut'], as_index=False)['Survived'].mean()"
   ],
   "outputs": [
    {
     "name": "stderr",
     "output_type": "stream",
     "text": [
      "C:\\Users\\iruka\\AppData\\Local\\Temp\\ipykernel_11900\\3081839371.py:1: FutureWarning: The default of observed=False is deprecated and will be changed to True in a future version of pandas. Pass observed=False to retain current behavior or observed=True to adopt the future default and silence this warning.\n",
      "  train_df.groupby(['Age_Cut'], as_index=False)['Survived'].mean()\n"
     ]
    },
    {
     "data": {
      "text/plain": [
       "         Age_Cut  Survived\n",
       "0  (0.419, 19.0]  0.481707\n",
       "1   (19.0, 25.0]  0.328467\n",
       "2   (25.0, 31.8]  0.393701\n",
       "3   (31.8, 41.0]  0.437500\n",
       "4   (41.0, 80.0]  0.373239"
      ],
      "text/html": [
       "<div>\n",
       "<style scoped>\n",
       "    .dataframe tbody tr th:only-of-type {\n",
       "        vertical-align: middle;\n",
       "    }\n",
       "\n",
       "    .dataframe tbody tr th {\n",
       "        vertical-align: top;\n",
       "    }\n",
       "\n",
       "    .dataframe thead th {\n",
       "        text-align: right;\n",
       "    }\n",
       "</style>\n",
       "<table border=\"1\" class=\"dataframe\">\n",
       "  <thead>\n",
       "    <tr style=\"text-align: right;\">\n",
       "      <th></th>\n",
       "      <th>Age_Cut</th>\n",
       "      <th>Survived</th>\n",
       "    </tr>\n",
       "  </thead>\n",
       "  <tbody>\n",
       "    <tr>\n",
       "      <th>0</th>\n",
       "      <td>(0.419, 19.0]</td>\n",
       "      <td>0.481707</td>\n",
       "    </tr>\n",
       "    <tr>\n",
       "      <th>1</th>\n",
       "      <td>(19.0, 25.0]</td>\n",
       "      <td>0.328467</td>\n",
       "    </tr>\n",
       "    <tr>\n",
       "      <th>2</th>\n",
       "      <td>(25.0, 31.8]</td>\n",
       "      <td>0.393701</td>\n",
       "    </tr>\n",
       "    <tr>\n",
       "      <th>3</th>\n",
       "      <td>(31.8, 41.0]</td>\n",
       "      <td>0.437500</td>\n",
       "    </tr>\n",
       "    <tr>\n",
       "      <th>4</th>\n",
       "      <td>(41.0, 80.0]</td>\n",
       "      <td>0.373239</td>\n",
       "    </tr>\n",
       "  </tbody>\n",
       "</table>\n",
       "</div>"
      ]
     },
     "execution_count": 18,
     "metadata": {},
     "output_type": "execute_result"
    }
   ],
   "execution_count": 18
  },
  {
   "cell_type": "code",
   "id": "81eb3da7",
   "metadata": {
    "execution": {
     "iopub.execute_input": "2023-11-04T22:17:46.946704Z",
     "iopub.status.busy": "2023-11-04T22:17:46.946139Z",
     "iopub.status.idle": "2023-11-04T22:17:46.975551Z",
     "shell.execute_reply": "2023-11-04T22:17:46.974139Z"
    },
    "papermill": {
     "duration": 0.078235,
     "end_time": "2023-11-04T22:17:46.978227",
     "exception": false,
     "start_time": "2023-11-04T22:17:46.899992",
     "status": "completed"
    },
    "tags": [],
    "ExecuteTime": {
     "end_time": "2024-09-16T17:36:44.587746Z",
     "start_time": "2024-09-16T17:36:44.560760Z"
    }
   },
   "source": [
    "train_df.loc[train_df['Age'] <= 19, 'Age'] = 0\n",
    "train_df.loc[(train_df['Age'] > 19) & (train_df['Age'] <= 25), 'Age'] = 1\n",
    "train_df.loc[(train_df['Age'] > 25) & (train_df['Age'] <= 31.8), 'Age'] = 2\n",
    "train_df.loc[(train_df['Age'] > 31.8) & (train_df['Age'] <= 41), 'Age'] = 3\n",
    "train_df.loc[(train_df['Age'] > 41) & (train_df['Age'] <= 80), 'Age'] = 4\n",
    "train_df.loc[train_df['Age'] > 80, 'Age'] \n",
    "\n",
    "test_df.loc[test_df['Age'] <= 19, 'Age'] = 0\n",
    "test_df.loc[(test_df['Age'] > 19) & (test_df['Age'] <= 25), 'Age'] = 1\n",
    "test_df.loc[(test_df['Age'] > 25) & (test_df['Age'] <= 31.8), 'Age'] = 2\n",
    "test_df.loc[(test_df['Age'] > 31.8) & (test_df['Age'] <= 41), 'Age'] = 3\n",
    "test_df.loc[(test_df['Age'] > 41) & (test_df['Age'] <= 80), 'Age'] = 4\n",
    "test_df.loc[test_df['Age'] > 80, 'Age'] "
   ],
   "outputs": [
    {
     "data": {
      "text/plain": [
       "Series([], Name: Age, dtype: float64)"
      ]
     },
     "execution_count": 19,
     "metadata": {},
     "output_type": "execute_result"
    }
   ],
   "execution_count": 19
  },
  {
   "cell_type": "code",
   "id": "8fd832b3",
   "metadata": {
    "execution": {
     "iopub.execute_input": "2023-11-04T22:17:47.068960Z",
     "iopub.status.busy": "2023-11-04T22:17:47.067947Z",
     "iopub.status.idle": "2023-11-04T22:17:47.093526Z",
     "shell.execute_reply": "2023-11-04T22:17:47.091995Z"
    },
    "papermill": {
     "duration": 0.074311,
     "end_time": "2023-11-04T22:17:47.096281",
     "exception": false,
     "start_time": "2023-11-04T22:17:47.021970",
     "status": "completed"
    },
    "tags": [],
    "ExecuteTime": {
     "end_time": "2024-09-16T17:36:44.606928Z",
     "start_time": "2024-09-16T17:36:44.588761Z"
    }
   },
   "source": [
    "train_df.head()"
   ],
   "outputs": [
    {
     "data": {
      "text/plain": [
       "   PassengerId  Survived  Pclass  \\\n",
       "0            1         0       3   \n",
       "1            2         1       1   \n",
       "2            3         1       3   \n",
       "3            4         1       1   \n",
       "4            5         0       3   \n",
       "\n",
       "                                                Name     Sex  Age  SibSp  \\\n",
       "0                            Braund, Mr. Owen Harris    male  1.0      1   \n",
       "1  Cumings, Mrs. John Bradley (Florence Briggs Th...  female  3.0      1   \n",
       "2                             Heikkinen, Miss. Laina  female  2.0      0   \n",
       "3       Futrelle, Mrs. Jacques Heath (Lily May Peel)  female  3.0      1   \n",
       "4                           Allen, Mr. William Henry    male  3.0      0   \n",
       "\n",
       "   Parch            Ticket     Fare Cabin Embarked  Family_Size  \\\n",
       "0      0         A/5 21171   7.2500   NaN        S            2   \n",
       "1      0          PC 17599  71.2833   C85        C            2   \n",
       "2      0  STON/O2. 3101282   7.9250   NaN        S            1   \n",
       "3      0            113803  53.1000  C123        S            2   \n",
       "4      0            373450   8.0500   NaN        S            1   \n",
       "\n",
       "  Family_Size_Grouped       Age_Cut  \n",
       "0               Small  (19.0, 25.0]  \n",
       "1               Small  (31.8, 41.0]  \n",
       "2               Alone  (25.0, 31.8]  \n",
       "3               Small  (31.8, 41.0]  \n",
       "4               Alone  (31.8, 41.0]  "
      ],
      "text/html": [
       "<div>\n",
       "<style scoped>\n",
       "    .dataframe tbody tr th:only-of-type {\n",
       "        vertical-align: middle;\n",
       "    }\n",
       "\n",
       "    .dataframe tbody tr th {\n",
       "        vertical-align: top;\n",
       "    }\n",
       "\n",
       "    .dataframe thead th {\n",
       "        text-align: right;\n",
       "    }\n",
       "</style>\n",
       "<table border=\"1\" class=\"dataframe\">\n",
       "  <thead>\n",
       "    <tr style=\"text-align: right;\">\n",
       "      <th></th>\n",
       "      <th>PassengerId</th>\n",
       "      <th>Survived</th>\n",
       "      <th>Pclass</th>\n",
       "      <th>Name</th>\n",
       "      <th>Sex</th>\n",
       "      <th>Age</th>\n",
       "      <th>SibSp</th>\n",
       "      <th>Parch</th>\n",
       "      <th>Ticket</th>\n",
       "      <th>Fare</th>\n",
       "      <th>Cabin</th>\n",
       "      <th>Embarked</th>\n",
       "      <th>Family_Size</th>\n",
       "      <th>Family_Size_Grouped</th>\n",
       "      <th>Age_Cut</th>\n",
       "    </tr>\n",
       "  </thead>\n",
       "  <tbody>\n",
       "    <tr>\n",
       "      <th>0</th>\n",
       "      <td>1</td>\n",
       "      <td>0</td>\n",
       "      <td>3</td>\n",
       "      <td>Braund, Mr. Owen Harris</td>\n",
       "      <td>male</td>\n",
       "      <td>1.0</td>\n",
       "      <td>1</td>\n",
       "      <td>0</td>\n",
       "      <td>A/5 21171</td>\n",
       "      <td>7.2500</td>\n",
       "      <td>NaN</td>\n",
       "      <td>S</td>\n",
       "      <td>2</td>\n",
       "      <td>Small</td>\n",
       "      <td>(19.0, 25.0]</td>\n",
       "    </tr>\n",
       "    <tr>\n",
       "      <th>1</th>\n",
       "      <td>2</td>\n",
       "      <td>1</td>\n",
       "      <td>1</td>\n",
       "      <td>Cumings, Mrs. John Bradley (Florence Briggs Th...</td>\n",
       "      <td>female</td>\n",
       "      <td>3.0</td>\n",
       "      <td>1</td>\n",
       "      <td>0</td>\n",
       "      <td>PC 17599</td>\n",
       "      <td>71.2833</td>\n",
       "      <td>C85</td>\n",
       "      <td>C</td>\n",
       "      <td>2</td>\n",
       "      <td>Small</td>\n",
       "      <td>(31.8, 41.0]</td>\n",
       "    </tr>\n",
       "    <tr>\n",
       "      <th>2</th>\n",
       "      <td>3</td>\n",
       "      <td>1</td>\n",
       "      <td>3</td>\n",
       "      <td>Heikkinen, Miss. Laina</td>\n",
       "      <td>female</td>\n",
       "      <td>2.0</td>\n",
       "      <td>0</td>\n",
       "      <td>0</td>\n",
       "      <td>STON/O2. 3101282</td>\n",
       "      <td>7.9250</td>\n",
       "      <td>NaN</td>\n",
       "      <td>S</td>\n",
       "      <td>1</td>\n",
       "      <td>Alone</td>\n",
       "      <td>(25.0, 31.8]</td>\n",
       "    </tr>\n",
       "    <tr>\n",
       "      <th>3</th>\n",
       "      <td>4</td>\n",
       "      <td>1</td>\n",
       "      <td>1</td>\n",
       "      <td>Futrelle, Mrs. Jacques Heath (Lily May Peel)</td>\n",
       "      <td>female</td>\n",
       "      <td>3.0</td>\n",
       "      <td>1</td>\n",
       "      <td>0</td>\n",
       "      <td>113803</td>\n",
       "      <td>53.1000</td>\n",
       "      <td>C123</td>\n",
       "      <td>S</td>\n",
       "      <td>2</td>\n",
       "      <td>Small</td>\n",
       "      <td>(31.8, 41.0]</td>\n",
       "    </tr>\n",
       "    <tr>\n",
       "      <th>4</th>\n",
       "      <td>5</td>\n",
       "      <td>0</td>\n",
       "      <td>3</td>\n",
       "      <td>Allen, Mr. William Henry</td>\n",
       "      <td>male</td>\n",
       "      <td>3.0</td>\n",
       "      <td>0</td>\n",
       "      <td>0</td>\n",
       "      <td>373450</td>\n",
       "      <td>8.0500</td>\n",
       "      <td>NaN</td>\n",
       "      <td>S</td>\n",
       "      <td>1</td>\n",
       "      <td>Alone</td>\n",
       "      <td>(31.8, 41.0]</td>\n",
       "    </tr>\n",
       "  </tbody>\n",
       "</table>\n",
       "</div>"
      ]
     },
     "execution_count": 20,
     "metadata": {},
     "output_type": "execute_result"
    }
   ],
   "execution_count": 20
  },
  {
   "cell_type": "code",
   "id": "3e6a2703",
   "metadata": {
    "execution": {
     "iopub.execute_input": "2023-11-04T22:17:47.186963Z",
     "iopub.status.busy": "2023-11-04T22:17:47.185574Z",
     "iopub.status.idle": "2023-11-04T22:17:47.916351Z",
     "shell.execute_reply": "2023-11-04T22:17:47.914804Z"
    },
    "papermill": {
     "duration": 0.779708,
     "end_time": "2023-11-04T22:17:47.919499",
     "exception": false,
     "start_time": "2023-11-04T22:17:47.139791",
     "status": "completed"
    },
    "tags": [],
    "ExecuteTime": {
     "end_time": "2024-09-16T17:36:45.988324Z",
     "start_time": "2024-09-16T17:36:44.608936Z"
    }
   },
   "source": [
    "sns.displot(train_df, x='Fare', col='Survived', binwidth=80, height=5)"
   ],
   "outputs": [
    {
     "data": {
      "text/plain": [
       "<seaborn.axisgrid.FacetGrid at 0x1ffddb1d3a0>"
      ]
     },
     "execution_count": 21,
     "metadata": {},
     "output_type": "execute_result"
    },
    {
     "data": {
      "text/plain": [
       "<Figure size 1000x500 with 2 Axes>"
      ],
      "image/png": "[encoded data removed]"
     },
     "metadata": {},
     "output_type": "display_data"
    }
   ],
   "execution_count": 21
  },
  {
   "cell_type": "code",
   "id": "a22a8d3e",
   "metadata": {
    "execution": {
     "iopub.execute_input": "2023-11-04T22:17:48.023614Z",
     "iopub.status.busy": "2023-11-04T22:17:48.022099Z",
     "iopub.status.idle": "2023-11-04T22:17:48.035128Z",
     "shell.execute_reply": "2023-11-04T22:17:48.033955Z"
    },
    "papermill": {
     "duration": 0.067433,
     "end_time": "2023-11-04T22:17:48.038108",
     "exception": false,
     "start_time": "2023-11-04T22:17:47.970675",
     "status": "completed"
    },
    "tags": [],
    "ExecuteTime": {
     "end_time": "2024-09-16T17:36:46.006284Z",
     "start_time": "2024-09-16T17:36:45.990336Z"
    }
   },
   "source": [
    "train_df['Fare_Cut'] = pd.qcut(train_df['Fare'], 5)\n",
    "test_df['Fare_Cut'] = pd.qcut(test_df['Fare'], 5)"
   ],
   "outputs": [],
   "execution_count": 22
  },
  {
   "cell_type": "code",
   "id": "4652f965",
   "metadata": {
    "execution": {
     "iopub.execute_input": "2023-11-04T22:17:48.128359Z",
     "iopub.status.busy": "2023-11-04T22:17:48.127595Z",
     "iopub.status.idle": "2023-11-04T22:17:48.142395Z",
     "shell.execute_reply": "2023-11-04T22:17:48.141238Z"
    },
    "papermill": {
     "duration": 0.063029,
     "end_time": "2023-11-04T22:17:48.144961",
     "exception": false,
     "start_time": "2023-11-04T22:17:48.081932",
     "status": "completed"
    },
    "tags": [],
    "ExecuteTime": {
     "end_time": "2024-09-16T17:36:46.026328Z",
     "start_time": "2024-09-16T17:36:46.008294Z"
    }
   },
   "source": [
    "train_df.groupby(['Fare_Cut'], as_index=False)['Survived'].mean()"
   ],
   "outputs": [
    {
     "name": "stderr",
     "output_type": "stream",
     "text": [
      "C:\\Users\\iruka\\AppData\\Local\\Temp\\ipykernel_11900\\4052169969.py:1: FutureWarning: The default of observed=False is deprecated and will be changed to True in a future version of pandas. Pass observed=False to retain current behavior or observed=True to adopt the future default and silence this warning.\n",
      "  train_df.groupby(['Fare_Cut'], as_index=False)['Survived'].mean()\n"
     ]
    },
    {
     "data": {
      "text/plain": [
       "            Fare_Cut  Survived\n",
       "0    (-0.001, 7.854]  0.217877\n",
       "1      (7.854, 10.5]  0.201087\n",
       "2     (10.5, 21.679]  0.424419\n",
       "3   (21.679, 39.688]  0.444444\n",
       "4  (39.688, 512.329]  0.642045"
      ],
      "text/html": [
       "<div>\n",
       "<style scoped>\n",
       "    .dataframe tbody tr th:only-of-type {\n",
       "        vertical-align: middle;\n",
       "    }\n",
       "\n",
       "    .dataframe tbody tr th {\n",
       "        vertical-align: top;\n",
       "    }\n",
       "\n",
       "    .dataframe thead th {\n",
       "        text-align: right;\n",
       "    }\n",
       "</style>\n",
       "<table border=\"1\" class=\"dataframe\">\n",
       "  <thead>\n",
       "    <tr style=\"text-align: right;\">\n",
       "      <th></th>\n",
       "      <th>Fare_Cut</th>\n",
       "      <th>Survived</th>\n",
       "    </tr>\n",
       "  </thead>\n",
       "  <tbody>\n",
       "    <tr>\n",
       "      <th>0</th>\n",
       "      <td>(-0.001, 7.854]</td>\n",
       "      <td>0.217877</td>\n",
       "    </tr>\n",
       "    <tr>\n",
       "      <th>1</th>\n",
       "      <td>(7.854, 10.5]</td>\n",
       "      <td>0.201087</td>\n",
       "    </tr>\n",
       "    <tr>\n",
       "      <th>2</th>\n",
       "      <td>(10.5, 21.679]</td>\n",
       "      <td>0.424419</td>\n",
       "    </tr>\n",
       "    <tr>\n",
       "      <th>3</th>\n",
       "      <td>(21.679, 39.688]</td>\n",
       "      <td>0.444444</td>\n",
       "    </tr>\n",
       "    <tr>\n",
       "      <th>4</th>\n",
       "      <td>(39.688, 512.329]</td>\n",
       "      <td>0.642045</td>\n",
       "    </tr>\n",
       "  </tbody>\n",
       "</table>\n",
       "</div>"
      ]
     },
     "execution_count": 23,
     "metadata": {},
     "output_type": "execute_result"
    }
   ],
   "execution_count": 23
  },
  {
   "cell_type": "code",
   "id": "40821d79",
   "metadata": {
    "execution": {
     "iopub.execute_input": "2023-11-04T22:17:48.235989Z",
     "iopub.status.busy": "2023-11-04T22:17:48.234698Z",
     "iopub.status.idle": "2023-11-04T22:17:48.260104Z",
     "shell.execute_reply": "2023-11-04T22:17:48.258894Z"
    },
    "papermill": {
     "duration": 0.07411,
     "end_time": "2023-11-04T22:17:48.263044",
     "exception": false,
     "start_time": "2023-11-04T22:17:48.188934",
     "status": "completed"
    },
    "tags": [],
    "ExecuteTime": {
     "end_time": "2024-09-16T17:36:46.061553Z",
     "start_time": "2024-09-16T17:36:46.033857Z"
    }
   },
   "source": [
    "train_df.loc[train_df['Fare'] <= 7.854, 'Fare'] = 0\n",
    "train_df.loc[(train_df['Fare'] > 7.854) & (train_df['Fare'] <= 10.5), 'Fare'] = 1\n",
    "train_df.loc[(train_df['Fare'] > 10.5) & (train_df['Fare'] <= 21.679), 'Fare'] = 2\n",
    "train_df.loc[(train_df['Fare'] > 21.679) & (train_df['Fare'] <= 39.688), 'Fare'] = 3\n",
    "train_df.loc[(train_df['Fare'] > 39.688) & (train_df['Fare'] <= 512.329), 'Fare'] = 4\n",
    "train_df.loc[train_df['Fare'] > 512.329, 'Fare'] \n",
    "\n",
    "test_df.loc[test_df['Fare'] <= 7.854, 'Fare'] = 0\n",
    "test_df.loc[(test_df['Fare'] > 7.854) & (test_df['Fare'] <= 10.5), 'Fare'] = 1\n",
    "test_df.loc[(test_df['Fare'] > 10.5) & (test_df['Fare'] <= 21.679), 'Fare'] = 2\n",
    "test_df.loc[(test_df['Fare'] > 21.679) & (test_df['Fare'] <= 39.688), 'Fare'] = 3\n",
    "test_df.loc[(test_df['Fare'] > 39.688) & (test_df['Fare'] <= 512.329), 'Fare'] = 4\n",
    "test_df.loc[test_df['Fare'] > 512.329, 'Fare'] "
   ],
   "outputs": [
    {
     "data": {
      "text/plain": [
       "343    512.3292\n",
       "Name: Fare, dtype: float64"
      ]
     },
     "execution_count": 24,
     "metadata": {},
     "output_type": "execute_result"
    }
   ],
   "execution_count": 24
  },
  {
   "cell_type": "code",
   "id": "9afd7000",
   "metadata": {
    "execution": {
     "iopub.execute_input": "2023-11-04T22:17:48.359725Z",
     "iopub.status.busy": "2023-11-04T22:17:48.359293Z",
     "iopub.status.idle": "2023-11-04T22:17:48.367699Z",
     "shell.execute_reply": "2023-11-04T22:17:48.366735Z"
    },
    "papermill": {
     "duration": 0.059471,
     "end_time": "2023-11-04T22:17:48.370623",
     "exception": false,
     "start_time": "2023-11-04T22:17:48.311152",
     "status": "completed"
    },
    "tags": [],
    "ExecuteTime": {
     "end_time": "2024-09-16T17:36:46.073069Z",
     "start_time": "2024-09-16T17:36:46.063578Z"
    }
   },
   "source": [
    "train_df['Name']"
   ],
   "outputs": [
    {
     "data": {
      "text/plain": [
       "0                                Braund, Mr. Owen Harris\n",
       "1      Cumings, Mrs. John Bradley (Florence Briggs Th...\n",
       "2                                 Heikkinen, Miss. Laina\n",
       "3           Futrelle, Mrs. Jacques Heath (Lily May Peel)\n",
       "4                               Allen, Mr. William Henry\n",
       "                             ...                        \n",
       "886                                Montvila, Rev. Juozas\n",
       "887                         Graham, Miss. Margaret Edith\n",
       "888             Johnston, Miss. Catherine Helen \"Carrie\"\n",
       "889                                Behr, Mr. Karl Howell\n",
       "890                                  Dooley, Mr. Patrick\n",
       "Name: Name, Length: 891, dtype: object"
      ]
     },
     "execution_count": 25,
     "metadata": {},
     "output_type": "execute_result"
    }
   ],
   "execution_count": 25
  },
  {
   "cell_type": "code",
   "id": "9a1263b1",
   "metadata": {
    "execution": {
     "iopub.execute_input": "2023-11-04T22:17:48.469002Z",
     "iopub.status.busy": "2023-11-04T22:17:48.468304Z",
     "iopub.status.idle": "2023-11-04T22:17:48.487930Z",
     "shell.execute_reply": "2023-11-04T22:17:48.486710Z"
    },
    "papermill": {
     "duration": 0.07101,
     "end_time": "2023-11-04T22:17:48.490533",
     "exception": false,
     "start_time": "2023-11-04T22:17:48.419523",
     "status": "completed"
    },
    "tags": [],
    "ExecuteTime": {
     "end_time": "2024-09-16T17:36:46.092733Z",
     "start_time": "2024-09-16T17:36:46.075084Z"
    }
   },
   "source": [
    "train_df['Title'] = train_df['Name'].str.split(pat= \",\", expand=True)[1].str.split(pat= \".\", expand=True)[0].apply(lambda x: x.strip())\n",
    "test_df['Title'] = test_df['Name'].str.split(pat= \",\", expand=True)[1].str.split(pat= \".\", expand=True)[0].apply(lambda x: x.strip())"
   ],
   "outputs": [],
   "execution_count": 26
  },
  {
   "cell_type": "code",
   "id": "37400d5a",
   "metadata": {
    "execution": {
     "iopub.execute_input": "2023-11-04T22:17:48.587705Z",
     "iopub.status.busy": "2023-11-04T22:17:48.587072Z",
     "iopub.status.idle": "2023-11-04T22:17:48.603473Z",
     "shell.execute_reply": "2023-11-04T22:17:48.601902Z"
    },
    "papermill": {
     "duration": 0.068144,
     "end_time": "2023-11-04T22:17:48.606053",
     "exception": false,
     "start_time": "2023-11-04T22:17:48.537909",
     "status": "completed"
    },
    "tags": [],
    "ExecuteTime": {
     "end_time": "2024-09-16T17:36:47.850939Z",
     "start_time": "2024-09-16T17:36:47.832921Z"
    }
   },
   "source": [
    "train_df.groupby(['Title'], as_index=False)['Survived'].mean()"
   ],
   "outputs": [
    {
     "data": {
      "text/plain": [
       "           Title  Survived\n",
       "0           Capt  0.000000\n",
       "1            Col  0.500000\n",
       "2            Don  0.000000\n",
       "3             Dr  0.428571\n",
       "4       Jonkheer  0.000000\n",
       "5           Lady  1.000000\n",
       "6          Major  0.500000\n",
       "7         Master  0.575000\n",
       "8           Miss  0.697802\n",
       "9           Mlle  1.000000\n",
       "10           Mme  1.000000\n",
       "11            Mr  0.156673\n",
       "12           Mrs  0.792000\n",
       "13            Ms  1.000000\n",
       "14           Rev  0.000000\n",
       "15           Sir  1.000000\n",
       "16  the Countess  1.000000"
      ],
      "text/html": [
       "<div>\n",
       "<style scoped>\n",
       "    .dataframe tbody tr th:only-of-type {\n",
       "        vertical-align: middle;\n",
       "    }\n",
       "\n",
       "    .dataframe tbody tr th {\n",
       "        vertical-align: top;\n",
       "    }\n",
       "\n",
       "    .dataframe thead th {\n",
       "        text-align: right;\n",
       "    }\n",
       "</style>\n",
       "<table border=\"1\" class=\"dataframe\">\n",
       "  <thead>\n",
       "    <tr style=\"text-align: right;\">\n",
       "      <th></th>\n",
       "      <th>Title</th>\n",
       "      <th>Survived</th>\n",
       "    </tr>\n",
       "  </thead>\n",
       "  <tbody>\n",
       "    <tr>\n",
       "      <th>0</th>\n",
       "      <td>Capt</td>\n",
       "      <td>0.000000</td>\n",
       "    </tr>\n",
       "    <tr>\n",
       "      <th>1</th>\n",
       "      <td>Col</td>\n",
       "      <td>0.500000</td>\n",
       "    </tr>\n",
       "    <tr>\n",
       "      <th>2</th>\n",
       "      <td>Don</td>\n",
       "      <td>0.000000</td>\n",
       "    </tr>\n",
       "    <tr>\n",
       "      <th>3</th>\n",
       "      <td>Dr</td>\n",
       "      <td>0.428571</td>\n",
       "    </tr>\n",
       "    <tr>\n",
       "      <th>4</th>\n",
       "      <td>Jonkheer</td>\n",
       "      <td>0.000000</td>\n",
       "    </tr>\n",
       "    <tr>\n",
       "      <th>5</th>\n",
       "      <td>Lady</td>\n",
       "      <td>1.000000</td>\n",
       "    </tr>\n",
       "    <tr>\n",
       "      <th>6</th>\n",
       "      <td>Major</td>\n",
       "      <td>0.500000</td>\n",
       "    </tr>\n",
       "    <tr>\n",
       "      <th>7</th>\n",
       "      <td>Master</td>\n",
       "      <td>0.575000</td>\n",
       "    </tr>\n",
       "    <tr>\n",
       "      <th>8</th>\n",
       "      <td>Miss</td>\n",
       "      <td>0.697802</td>\n",
       "    </tr>\n",
       "    <tr>\n",
       "      <th>9</th>\n",
       "      <td>Mlle</td>\n",
       "      <td>1.000000</td>\n",
       "    </tr>\n",
       "    <tr>\n",
       "      <th>10</th>\n",
       "      <td>Mme</td>\n",
       "      <td>1.000000</td>\n",
       "    </tr>\n",
       "    <tr>\n",
       "      <th>11</th>\n",
       "      <td>Mr</td>\n",
       "      <td>0.156673</td>\n",
       "    </tr>\n",
       "    <tr>\n",
       "      <th>12</th>\n",
       "      <td>Mrs</td>\n",
       "      <td>0.792000</td>\n",
       "    </tr>\n",
       "    <tr>\n",
       "      <th>13</th>\n",
       "      <td>Ms</td>\n",
       "      <td>1.000000</td>\n",
       "    </tr>\n",
       "    <tr>\n",
       "      <th>14</th>\n",
       "      <td>Rev</td>\n",
       "      <td>0.000000</td>\n",
       "    </tr>\n",
       "    <tr>\n",
       "      <th>15</th>\n",
       "      <td>Sir</td>\n",
       "      <td>1.000000</td>\n",
       "    </tr>\n",
       "    <tr>\n",
       "      <th>16</th>\n",
       "      <td>the Countess</td>\n",
       "      <td>1.000000</td>\n",
       "    </tr>\n",
       "  </tbody>\n",
       "</table>\n",
       "</div>"
      ]
     },
     "execution_count": 27,
     "metadata": {},
     "output_type": "execute_result"
    }
   ],
   "execution_count": 27
  },
  {
   "cell_type": "code",
   "id": "88059ff0",
   "metadata": {
    "execution": {
     "iopub.execute_input": "2023-11-04T22:17:48.699064Z",
     "iopub.status.busy": "2023-11-04T22:17:48.698102Z",
     "iopub.status.idle": "2023-11-04T22:17:48.703300Z",
     "shell.execute_reply": "2023-11-04T22:17:48.701875Z"
    },
    "papermill": {
     "duration": 0.055139,
     "end_time": "2023-11-04T22:17:48.706294",
     "exception": false,
     "start_time": "2023-11-04T22:17:48.651155",
     "status": "completed"
    },
    "tags": [],
    "ExecuteTime": {
     "end_time": "2024-09-16T17:36:49.478911Z",
     "start_time": "2024-09-16T17:36:49.474293Z"
    }
   },
   "source": [
    "#military - Capt, Col, Major\n",
    "#noble - Jonkheer, the Countess, Don, Lady, Sir\n",
    "#unmaried Female - Mlle, Ms, Mme"
   ],
   "outputs": [],
   "execution_count": 28
  },
  {
   "cell_type": "code",
   "id": "b37bc67f",
   "metadata": {
    "execution": {
     "iopub.execute_input": "2023-11-04T22:17:48.798784Z",
     "iopub.status.busy": "2023-11-04T22:17:48.798253Z",
     "iopub.status.idle": "2023-11-04T22:17:48.814451Z",
     "shell.execute_reply": "2023-11-04T22:17:48.812728Z"
    },
    "papermill": {
     "duration": 0.066247,
     "end_time": "2023-11-04T22:17:48.817346",
     "exception": false,
     "start_time": "2023-11-04T22:17:48.751099",
     "status": "completed"
    },
    "tags": [],
    "ExecuteTime": {
     "end_time": "2024-09-16T17:36:51.391647Z",
     "start_time": "2024-09-16T17:36:51.379015Z"
    }
   },
   "source": [
    "train_df['Title'] = train_df['Title'].replace({\n",
    "    'Capt': 'Military',\n",
    "    'Col': 'Military',\n",
    "    'Major': 'Military',\n",
    "    'Jonkheer': 'Noble',\n",
    "    'the Countess': 'Noble',\n",
    "    'Don': 'Noble',\n",
    "    'Lady': 'Noble',\n",
    "    'Sir': 'Noble',\n",
    "    'Mlle': 'Noble',\n",
    "    'Ms': 'Noble',\n",
    "    'Mme': 'Noble'    \n",
    "})\n",
    "\n",
    "test_df['Title'] = test_df['Title'].replace({\n",
    "    'Capt': 'Military',\n",
    "    'Col': 'Military',\n",
    "    'Major': 'Military',\n",
    "    'Jonkheer': 'Noble',\n",
    "    'the Countess': 'Noble',\n",
    "    'Don': 'Noble',\n",
    "    'Lady': 'Noble',\n",
    "    'Sir': 'Noble',\n",
    "    'Mlle': 'Noble',\n",
    "    'Ms': 'Noble',\n",
    "    'Mme': 'Noble'    \n",
    "})"
   ],
   "outputs": [],
   "execution_count": 29
  },
  {
   "cell_type": "code",
   "id": "f7095442",
   "metadata": {
    "execution": {
     "iopub.execute_input": "2023-11-04T22:17:48.910925Z",
     "iopub.status.busy": "2023-11-04T22:17:48.910418Z",
     "iopub.status.idle": "2023-11-04T22:17:48.927415Z",
     "shell.execute_reply": "2023-11-04T22:17:48.926130Z"
    },
    "papermill": {
     "duration": 0.0668,
     "end_time": "2023-11-04T22:17:48.930238",
     "exception": false,
     "start_time": "2023-11-04T22:17:48.863438",
     "status": "completed"
    },
    "tags": [],
    "ExecuteTime": {
     "end_time": "2024-09-16T17:36:52.294965Z",
     "start_time": "2024-09-16T17:36:52.279280Z"
    }
   },
   "source": [
    "train_df.groupby(['Title'], as_index=False)['Survived'].agg(['count', 'mean'])"
   ],
   "outputs": [
    {
     "data": {
      "text/plain": [
       "      Title  count      mean\n",
       "0        Dr      7  0.428571\n",
       "1    Master     40  0.575000\n",
       "2  Military      5  0.400000\n",
       "3      Miss    182  0.697802\n",
       "4        Mr    517  0.156673\n",
       "5       Mrs    125  0.792000\n",
       "6     Noble      9  0.777778\n",
       "7       Rev      6  0.000000"
      ],
      "text/html": [
       "<div>\n",
       "<style scoped>\n",
       "    .dataframe tbody tr th:only-of-type {\n",
       "        vertical-align: middle;\n",
       "    }\n",
       "\n",
       "    .dataframe tbody tr th {\n",
       "        vertical-align: top;\n",
       "    }\n",
       "\n",
       "    .dataframe thead th {\n",
       "        text-align: right;\n",
       "    }\n",
       "</style>\n",
       "<table border=\"1\" class=\"dataframe\">\n",
       "  <thead>\n",
       "    <tr style=\"text-align: right;\">\n",
       "      <th></th>\n",
       "      <th>Title</th>\n",
       "      <th>count</th>\n",
       "      <th>mean</th>\n",
       "    </tr>\n",
       "  </thead>\n",
       "  <tbody>\n",
       "    <tr>\n",
       "      <th>0</th>\n",
       "      <td>Dr</td>\n",
       "      <td>7</td>\n",
       "      <td>0.428571</td>\n",
       "    </tr>\n",
       "    <tr>\n",
       "      <th>1</th>\n",
       "      <td>Master</td>\n",
       "      <td>40</td>\n",
       "      <td>0.575000</td>\n",
       "    </tr>\n",
       "    <tr>\n",
       "      <th>2</th>\n",
       "      <td>Military</td>\n",
       "      <td>5</td>\n",
       "      <td>0.400000</td>\n",
       "    </tr>\n",
       "    <tr>\n",
       "      <th>3</th>\n",
       "      <td>Miss</td>\n",
       "      <td>182</td>\n",
       "      <td>0.697802</td>\n",
       "    </tr>\n",
       "    <tr>\n",
       "      <th>4</th>\n",
       "      <td>Mr</td>\n",
       "      <td>517</td>\n",
       "      <td>0.156673</td>\n",
       "    </tr>\n",
       "    <tr>\n",
       "      <th>5</th>\n",
       "      <td>Mrs</td>\n",
       "      <td>125</td>\n",
       "      <td>0.792000</td>\n",
       "    </tr>\n",
       "    <tr>\n",
       "      <th>6</th>\n",
       "      <td>Noble</td>\n",
       "      <td>9</td>\n",
       "      <td>0.777778</td>\n",
       "    </tr>\n",
       "    <tr>\n",
       "      <th>7</th>\n",
       "      <td>Rev</td>\n",
       "      <td>6</td>\n",
       "      <td>0.000000</td>\n",
       "    </tr>\n",
       "  </tbody>\n",
       "</table>\n",
       "</div>"
      ]
     },
     "execution_count": 30,
     "metadata": {},
     "output_type": "execute_result"
    }
   ],
   "execution_count": 30
  },
  {
   "cell_type": "code",
   "id": "8f46d6dc",
   "metadata": {
    "execution": {
     "iopub.execute_input": "2023-11-04T22:17:49.025615Z",
     "iopub.status.busy": "2023-11-04T22:17:49.025103Z",
     "iopub.status.idle": "2023-11-04T22:17:49.035317Z",
     "shell.execute_reply": "2023-11-04T22:17:49.033979Z"
    },
    "papermill": {
     "duration": 0.061916,
     "end_time": "2023-11-04T22:17:49.037993",
     "exception": false,
     "start_time": "2023-11-04T22:17:48.976077",
     "status": "completed"
    },
    "tags": [],
    "ExecuteTime": {
     "end_time": "2024-09-16T17:36:52.938877Z",
     "start_time": "2024-09-16T17:36:52.929224Z"
    }
   },
   "source": [
    "train_df['Name_Length'] = train_df['Name'].apply(lambda x: len(x))\n",
    "test_df['Name_Length'] = test_df['Name'].apply(lambda x: len(x))"
   ],
   "outputs": [],
   "execution_count": 31
  },
  {
   "cell_type": "code",
   "id": "422f20ed",
   "metadata": {
    "execution": {
     "iopub.execute_input": "2023-11-04T22:17:49.131663Z",
     "iopub.status.busy": "2023-11-04T22:17:49.131121Z",
     "iopub.status.idle": "2023-11-04T22:17:49.538805Z",
     "shell.execute_reply": "2023-11-04T22:17:49.537068Z"
    },
    "papermill": {
     "duration": 0.457728,
     "end_time": "2023-11-04T22:17:49.541401",
     "exception": false,
     "start_time": "2023-11-04T22:17:49.083673",
     "status": "completed"
    },
    "tags": [],
    "ExecuteTime": {
     "end_time": "2024-09-16T17:36:54.019030Z",
     "start_time": "2024-09-16T17:36:53.478039Z"
    }
   },
   "source": [
    "g = sns.kdeplot(train_df['Name_Length'][(train_df['Survived']==0) & (train_df['Name_Length'].notnull())], color='Red', fill=True)\n",
    "g = sns.kdeplot(train_df['Name_Length'][(train_df['Survived']==1) & (train_df['Name_Length'].notnull())], ax=g, color='Blue', fill=True)\n",
    "g.set_xlabel('Name_Length')\n",
    "g.set_ylabel('Frequency')\n",
    "g = g.legend(['Not Survived', 'Survived'])"
   ],
   "outputs": [
    {
     "data": {
      "text/plain": [
       "<Figure size 640x480 with 1 Axes>"
      ],
      "image/png": "[encoded data removed]"
     },
     "metadata": {},
     "output_type": "display_data"
    }
   ],
   "execution_count": 32
  },
  {
   "cell_type": "code",
   "id": "0f031612",
   "metadata": {
    "execution": {
     "iopub.execute_input": "2023-11-04T22:17:49.634900Z",
     "iopub.status.busy": "2023-11-04T22:17:49.634388Z",
     "iopub.status.idle": "2023-11-04T22:17:49.650268Z",
     "shell.execute_reply": "2023-11-04T22:17:49.648912Z"
    },
    "papermill": {
     "duration": 0.066047,
     "end_time": "2023-11-04T22:17:49.653161",
     "exception": false,
     "start_time": "2023-11-04T22:17:49.587114",
     "status": "completed"
    },
    "tags": [],
    "ExecuteTime": {
     "end_time": "2024-09-16T17:36:54.034037Z",
     "start_time": "2024-09-16T17:36:54.021039Z"
    }
   },
   "source": [
    "train_df['Name_LengthGB'] = pd.qcut(train_df['Name_Length'], 3)\n",
    "test_df['Name_LengthGB'] = pd.qcut(test_df['Name_Length'], 3)"
   ],
   "outputs": [],
   "execution_count": 33
  },
  {
   "cell_type": "code",
   "id": "79b52a69",
   "metadata": {
    "execution": {
     "iopub.execute_input": "2023-11-04T22:17:49.749255Z",
     "iopub.status.busy": "2023-11-04T22:17:49.747467Z",
     "iopub.status.idle": "2023-11-04T22:17:49.764873Z",
     "shell.execute_reply": "2023-11-04T22:17:49.763370Z"
    },
    "papermill": {
     "duration": 0.068528,
     "end_time": "2023-11-04T22:17:49.767806",
     "exception": false,
     "start_time": "2023-11-04T22:17:49.699278",
     "status": "completed"
    },
    "tags": [],
    "ExecuteTime": {
     "end_time": "2024-09-16T17:36:54.176807Z",
     "start_time": "2024-09-16T17:36:54.160582Z"
    }
   },
   "source": [
    "train_df.groupby(['Name_LengthGB'], as_index=False)['Survived'].mean()"
   ],
   "outputs": [
    {
     "name": "stderr",
     "output_type": "stream",
     "text": [
      "C:\\Users\\iruka\\AppData\\Local\\Temp\\ipykernel_11900\\3101089607.py:1: FutureWarning: The default of observed=False is deprecated and will be changed to True in a future version of pandas. Pass observed=False to retain current behavior or observed=True to adopt the future default and silence this warning.\n",
      "  train_df.groupby(['Name_LengthGB'], as_index=False)['Survived'].mean()\n"
     ]
    },
    {
     "data": {
      "text/plain": [
       "    Name_LengthGB  Survived\n",
       "0  (11.999, 22.0]  0.252336\n",
       "1    (22.0, 28.0]  0.322581\n",
       "2    (28.0, 82.0]  0.587629"
      ],
      "text/html": [
       "<div>\n",
       "<style scoped>\n",
       "    .dataframe tbody tr th:only-of-type {\n",
       "        vertical-align: middle;\n",
       "    }\n",
       "\n",
       "    .dataframe tbody tr th {\n",
       "        vertical-align: top;\n",
       "    }\n",
       "\n",
       "    .dataframe thead th {\n",
       "        text-align: right;\n",
       "    }\n",
       "</style>\n",
       "<table border=\"1\" class=\"dataframe\">\n",
       "  <thead>\n",
       "    <tr style=\"text-align: right;\">\n",
       "      <th></th>\n",
       "      <th>Name_LengthGB</th>\n",
       "      <th>Survived</th>\n",
       "    </tr>\n",
       "  </thead>\n",
       "  <tbody>\n",
       "    <tr>\n",
       "      <th>0</th>\n",
       "      <td>(11.999, 22.0]</td>\n",
       "      <td>0.252336</td>\n",
       "    </tr>\n",
       "    <tr>\n",
       "      <th>1</th>\n",
       "      <td>(22.0, 28.0]</td>\n",
       "      <td>0.322581</td>\n",
       "    </tr>\n",
       "    <tr>\n",
       "      <th>2</th>\n",
       "      <td>(28.0, 82.0]</td>\n",
       "      <td>0.587629</td>\n",
       "    </tr>\n",
       "  </tbody>\n",
       "</table>\n",
       "</div>"
      ]
     },
     "execution_count": 34,
     "metadata": {},
     "output_type": "execute_result"
    }
   ],
   "execution_count": 34
  },
  {
   "cell_type": "code",
   "id": "fdf4eb44",
   "metadata": {
    "execution": {
     "iopub.execute_input": "2023-11-04T22:17:49.861815Z",
     "iopub.status.busy": "2023-11-04T22:17:49.861292Z",
     "iopub.status.idle": "2023-11-04T22:17:49.884019Z",
     "shell.execute_reply": "2023-11-04T22:17:49.882957Z"
    },
    "papermill": {
     "duration": 0.073205,
     "end_time": "2023-11-04T22:17:49.886616",
     "exception": false,
     "start_time": "2023-11-04T22:17:49.813411",
     "status": "completed"
    },
    "tags": [],
    "ExecuteTime": {
     "end_time": "2024-09-16T17:36:54.397690Z",
     "start_time": "2024-09-16T17:36:54.376885Z"
    }
   },
   "source": [
    "train_df.loc[train_df['Name_Length'] <= 22, 'Name_Size'] = 0\n",
    "train_df.loc[(train_df['Name_Length'] > 22) & (train_df['Name_Length'] <= 28), 'Name_Size'] = 1\n",
    "train_df.loc[(train_df['Name_Length'] > 28) & (train_df['Name_Length'] <= 82), 'Name_Size'] = 2\n",
    "train_df.loc[train_df['Name_Length'] > 82, 'Name_Size'] \n",
    "\n",
    "test_df.loc[test_df['Name_Length'] <= 22, 'Name_Size'] = 0\n",
    "test_df.loc[(test_df['Name_Length'] > 22) & (test_df['Name_Length'] <= 28), 'Name_Size'] = 1\n",
    "test_df.loc[(test_df['Name_Length'] > 28) & (test_df['Name_Length'] <= 82), 'Name_Size'] = 2\n",
    "test_df.loc[test_df['Name_Length'] > 82, 'Name_Size'] "
   ],
   "outputs": [
    {
     "data": {
      "text/plain": [
       "Series([], Name: Name_Size, dtype: float64)"
      ]
     },
     "execution_count": 35,
     "metadata": {},
     "output_type": "execute_result"
    }
   ],
   "execution_count": 35
  },
  {
   "cell_type": "code",
   "id": "1004c136",
   "metadata": {
    "execution": {
     "iopub.execute_input": "2023-11-04T22:17:49.982604Z",
     "iopub.status.busy": "2023-11-04T22:17:49.982182Z",
     "iopub.status.idle": "2023-11-04T22:17:50.019443Z",
     "shell.execute_reply": "2023-11-04T22:17:50.018127Z"
    },
    "papermill": {
     "duration": 0.089749,
     "end_time": "2023-11-04T22:17:50.022820",
     "exception": false,
     "start_time": "2023-11-04T22:17:49.933071",
     "status": "completed"
    },
    "tags": [],
    "ExecuteTime": {
     "end_time": "2024-09-16T17:36:54.943178Z",
     "start_time": "2024-09-16T17:36:54.914962Z"
    }
   },
   "source": [
    "train_df.head()"
   ],
   "outputs": [
    {
     "data": {
      "text/plain": [
       "   PassengerId  Survived  Pclass  \\\n",
       "0            1         0       3   \n",
       "1            2         1       1   \n",
       "2            3         1       3   \n",
       "3            4         1       1   \n",
       "4            5         0       3   \n",
       "\n",
       "                                                Name     Sex  Age  SibSp  \\\n",
       "0                            Braund, Mr. Owen Harris    male  1.0      1   \n",
       "1  Cumings, Mrs. John Bradley (Florence Briggs Th...  female  3.0      1   \n",
       "2                             Heikkinen, Miss. Laina  female  2.0      0   \n",
       "3       Futrelle, Mrs. Jacques Heath (Lily May Peel)  female  3.0      1   \n",
       "4                           Allen, Mr. William Henry    male  3.0      0   \n",
       "\n",
       "   Parch            Ticket  Fare Cabin Embarked  Family_Size  \\\n",
       "0      0         A/5 21171   0.0   NaN        S            2   \n",
       "1      0          PC 17599   4.0   C85        C            2   \n",
       "2      0  STON/O2. 3101282   1.0   NaN        S            1   \n",
       "3      0            113803   4.0  C123        S            2   \n",
       "4      0            373450   1.0   NaN        S            1   \n",
       "\n",
       "  Family_Size_Grouped       Age_Cut           Fare_Cut Title  Name_Length  \\\n",
       "0               Small  (19.0, 25.0]    (-0.001, 7.854]    Mr           23   \n",
       "1               Small  (31.8, 41.0]  (39.688, 512.329]   Mrs           51   \n",
       "2               Alone  (25.0, 31.8]      (7.854, 10.5]  Miss           22   \n",
       "3               Small  (31.8, 41.0]  (39.688, 512.329]   Mrs           44   \n",
       "4               Alone  (31.8, 41.0]      (7.854, 10.5]    Mr           24   \n",
       "\n",
       "    Name_LengthGB  Name_Size  \n",
       "0    (22.0, 28.0]        1.0  \n",
       "1    (28.0, 82.0]        2.0  \n",
       "2  (11.999, 22.0]        0.0  \n",
       "3    (28.0, 82.0]        2.0  \n",
       "4    (22.0, 28.0]        1.0  "
      ],
      "text/html": [
       "<div>\n",
       "<style scoped>\n",
       "    .dataframe tbody tr th:only-of-type {\n",
       "        vertical-align: middle;\n",
       "    }\n",
       "\n",
       "    .dataframe tbody tr th {\n",
       "        vertical-align: top;\n",
       "    }\n",
       "\n",
       "    .dataframe thead th {\n",
       "        text-align: right;\n",
       "    }\n",
       "</style>\n",
       "<table border=\"1\" class=\"dataframe\">\n",
       "  <thead>\n",
       "    <tr style=\"text-align: right;\">\n",
       "      <th></th>\n",
       "      <th>PassengerId</th>\n",
       "      <th>Survived</th>\n",
       "      <th>Pclass</th>\n",
       "      <th>Name</th>\n",
       "      <th>Sex</th>\n",
       "      <th>Age</th>\n",
       "      <th>SibSp</th>\n",
       "      <th>Parch</th>\n",
       "      <th>Ticket</th>\n",
       "      <th>Fare</th>\n",
       "      <th>Cabin</th>\n",
       "      <th>Embarked</th>\n",
       "      <th>Family_Size</th>\n",
       "      <th>Family_Size_Grouped</th>\n",
       "      <th>Age_Cut</th>\n",
       "      <th>Fare_Cut</th>\n",
       "      <th>Title</th>\n",
       "      <th>Name_Length</th>\n",
       "      <th>Name_LengthGB</th>\n",
       "      <th>Name_Size</th>\n",
       "    </tr>\n",
       "  </thead>\n",
       "  <tbody>\n",
       "    <tr>\n",
       "      <th>0</th>\n",
       "      <td>1</td>\n",
       "      <td>0</td>\n",
       "      <td>3</td>\n",
       "      <td>Braund, Mr. Owen Harris</td>\n",
       "      <td>male</td>\n",
       "      <td>1.0</td>\n",
       "      <td>1</td>\n",
       "      <td>0</td>\n",
       "      <td>A/5 21171</td>\n",
       "      <td>0.0</td>\n",
       "      <td>NaN</td>\n",
       "      <td>S</td>\n",
       "      <td>2</td>\n",
       "      <td>Small</td>\n",
       "      <td>(19.0, 25.0]</td>\n",
       "      <td>(-0.001, 7.854]</td>\n",
       "      <td>Mr</td>\n",
       "      <td>23</td>\n",
       "      <td>(22.0, 28.0]</td>\n",
       "      <td>1.0</td>\n",
       "    </tr>\n",
       "    <tr>\n",
       "      <th>1</th>\n",
       "      <td>2</td>\n",
       "      <td>1</td>\n",
       "      <td>1</td>\n",
       "      <td>Cumings, Mrs. John Bradley (Florence Briggs Th...</td>\n",
       "      <td>female</td>\n",
       "      <td>3.0</td>\n",
       "      <td>1</td>\n",
       "      <td>0</td>\n",
       "      <td>PC 17599</td>\n",
       "      <td>4.0</td>\n",
       "      <td>C85</td>\n",
       "      <td>C</td>\n",
       "      <td>2</td>\n",
       "      <td>Small</td>\n",
       "      <td>(31.8, 41.0]</td>\n",
       "      <td>(39.688, 512.329]</td>\n",
       "      <td>Mrs</td>\n",
       "      <td>51</td>\n",
       "      <td>(28.0, 82.0]</td>\n",
       "      <td>2.0</td>\n",
       "    </tr>\n",
       "    <tr>\n",
       "      <th>2</th>\n",
       "      <td>3</td>\n",
       "      <td>1</td>\n",
       "      <td>3</td>\n",
       "      <td>Heikkinen, Miss. Laina</td>\n",
       "      <td>female</td>\n",
       "      <td>2.0</td>\n",
       "      <td>0</td>\n",
       "      <td>0</td>\n",
       "      <td>STON/O2. 3101282</td>\n",
       "      <td>1.0</td>\n",
       "      <td>NaN</td>\n",
       "      <td>S</td>\n",
       "      <td>1</td>\n",
       "      <td>Alone</td>\n",
       "      <td>(25.0, 31.8]</td>\n",
       "      <td>(7.854, 10.5]</td>\n",
       "      <td>Miss</td>\n",
       "      <td>22</td>\n",
       "      <td>(11.999, 22.0]</td>\n",
       "      <td>0.0</td>\n",
       "    </tr>\n",
       "    <tr>\n",
       "      <th>3</th>\n",
       "      <td>4</td>\n",
       "      <td>1</td>\n",
       "      <td>1</td>\n",
       "      <td>Futrelle, Mrs. Jacques Heath (Lily May Peel)</td>\n",
       "      <td>female</td>\n",
       "      <td>3.0</td>\n",
       "      <td>1</td>\n",
       "      <td>0</td>\n",
       "      <td>113803</td>\n",
       "      <td>4.0</td>\n",
       "      <td>C123</td>\n",
       "      <td>S</td>\n",
       "      <td>2</td>\n",
       "      <td>Small</td>\n",
       "      <td>(31.8, 41.0]</td>\n",
       "      <td>(39.688, 512.329]</td>\n",
       "      <td>Mrs</td>\n",
       "      <td>44</td>\n",
       "      <td>(28.0, 82.0]</td>\n",
       "      <td>2.0</td>\n",
       "    </tr>\n",
       "    <tr>\n",
       "      <th>4</th>\n",
       "      <td>5</td>\n",
       "      <td>0</td>\n",
       "      <td>3</td>\n",
       "      <td>Allen, Mr. William Henry</td>\n",
       "      <td>male</td>\n",
       "      <td>3.0</td>\n",
       "      <td>0</td>\n",
       "      <td>0</td>\n",
       "      <td>373450</td>\n",
       "      <td>1.0</td>\n",
       "      <td>NaN</td>\n",
       "      <td>S</td>\n",
       "      <td>1</td>\n",
       "      <td>Alone</td>\n",
       "      <td>(31.8, 41.0]</td>\n",
       "      <td>(7.854, 10.5]</td>\n",
       "      <td>Mr</td>\n",
       "      <td>24</td>\n",
       "      <td>(22.0, 28.0]</td>\n",
       "      <td>1.0</td>\n",
       "    </tr>\n",
       "  </tbody>\n",
       "</table>\n",
       "</div>"
      ]
     },
     "execution_count": 36,
     "metadata": {},
     "output_type": "execute_result"
    }
   ],
   "execution_count": 36
  },
  {
   "cell_type": "code",
   "id": "2cd593c7",
   "metadata": {
    "execution": {
     "iopub.execute_input": "2023-11-04T22:17:50.124811Z",
     "iopub.status.busy": "2023-11-04T22:17:50.124271Z",
     "iopub.status.idle": "2023-11-04T22:17:50.134948Z",
     "shell.execute_reply": "2023-11-04T22:17:50.133603Z"
    },
    "papermill": {
     "duration": 0.064458,
     "end_time": "2023-11-04T22:17:50.137581",
     "exception": false,
     "start_time": "2023-11-04T22:17:50.073123",
     "status": "completed"
    },
    "tags": [],
    "ExecuteTime": {
     "end_time": "2024-09-16T17:36:55.333450Z",
     "start_time": "2024-09-16T17:36:55.324471Z"
    }
   },
   "source": [
    "train_df['Ticket']"
   ],
   "outputs": [
    {
     "data": {
      "text/plain": [
       "0             A/5 21171\n",
       "1              PC 17599\n",
       "2      STON/O2. 3101282\n",
       "3                113803\n",
       "4                373450\n",
       "             ...       \n",
       "886              211536\n",
       "887              112053\n",
       "888          W./C. 6607\n",
       "889              111369\n",
       "890              370376\n",
       "Name: Ticket, Length: 891, dtype: object"
      ]
     },
     "execution_count": 37,
     "metadata": {},
     "output_type": "execute_result"
    }
   ],
   "execution_count": 37
  },
  {
   "cell_type": "code",
   "id": "7b00d546",
   "metadata": {
    "execution": {
     "iopub.execute_input": "2023-11-04T22:17:50.235377Z",
     "iopub.status.busy": "2023-11-04T22:17:50.234311Z",
     "iopub.status.idle": "2023-11-04T22:17:50.801945Z",
     "shell.execute_reply": "2023-11-04T22:17:50.800930Z"
    },
    "papermill": {
     "duration": 0.619618,
     "end_time": "2023-11-04T22:17:50.804870",
     "exception": false,
     "start_time": "2023-11-04T22:17:50.185252",
     "status": "completed"
    },
    "tags": [],
    "ExecuteTime": {
     "end_time": "2024-09-16T17:36:56.481916Z",
     "start_time": "2024-09-16T17:36:55.860330Z"
    }
   },
   "source": [
    "train_df['TicketNumber'] = train_df['Ticket'].apply(lambda x: pd.Series({'Ticket': x.split()[-1]}))\n",
    "test_df['TicketNumber'] = test_df['Ticket'].apply(lambda x: pd.Series({'Ticket': x.split()[-1]}))"
   ],
   "outputs": [],
   "execution_count": 38
  },
  {
   "cell_type": "code",
   "id": "818312eb",
   "metadata": {
    "execution": {
     "iopub.execute_input": "2023-11-04T22:17:50.910259Z",
     "iopub.status.busy": "2023-11-04T22:17:50.909479Z",
     "iopub.status.idle": "2023-11-04T22:17:50.928369Z",
     "shell.execute_reply": "2023-11-04T22:17:50.926952Z"
    },
    "papermill": {
     "duration": 0.074851,
     "end_time": "2023-11-04T22:17:50.931385",
     "exception": false,
     "start_time": "2023-11-04T22:17:50.856534",
     "status": "completed"
    },
    "tags": [],
    "ExecuteTime": {
     "end_time": "2024-09-16T17:36:56.517579Z",
     "start_time": "2024-09-16T17:36:56.485926Z"
    }
   },
   "source": [
    "train_df.groupby(['TicketNumber'], as_index=False)['Survived'].agg(['count', 'mean']).sort_values('count', ascending=False)"
   ],
   "outputs": [
    {
     "data": {
      "text/plain": [
       "    TicketNumber  count      mean\n",
       "464       347082      7  0.000000\n",
       "196         2343      7  0.000000\n",
       "94          1601      7  0.714286\n",
       "168         2144      6  0.000000\n",
       "468       347088      6  0.000000\n",
       "..           ...    ...       ...\n",
       "271         2662      1  0.000000\n",
       "272         2663      1  1.000000\n",
       "273         2664      1  0.000000\n",
       "276         2667      1  1.000000\n",
       "339      3101274      1  0.000000\n",
       "\n",
       "[679 rows x 3 columns]"
      ],
      "text/html": [
       "<div>\n",
       "<style scoped>\n",
       "    .dataframe tbody tr th:only-of-type {\n",
       "        vertical-align: middle;\n",
       "    }\n",
       "\n",
       "    .dataframe tbody tr th {\n",
       "        vertical-align: top;\n",
       "    }\n",
       "\n",
       "    .dataframe thead th {\n",
       "        text-align: right;\n",
       "    }\n",
       "</style>\n",
       "<table border=\"1\" class=\"dataframe\">\n",
       "  <thead>\n",
       "    <tr style=\"text-align: right;\">\n",
       "      <th></th>\n",
       "      <th>TicketNumber</th>\n",
       "      <th>count</th>\n",
       "      <th>mean</th>\n",
       "    </tr>\n",
       "  </thead>\n",
       "  <tbody>\n",
       "    <tr>\n",
       "      <th>464</th>\n",
       "      <td>347082</td>\n",
       "      <td>7</td>\n",
       "      <td>0.000000</td>\n",
       "    </tr>\n",
       "    <tr>\n",
       "      <th>196</th>\n",
       "      <td>2343</td>\n",
       "      <td>7</td>\n",
       "      <td>0.000000</td>\n",
       "    </tr>\n",
       "    <tr>\n",
       "      <th>94</th>\n",
       "      <td>1601</td>\n",
       "      <td>7</td>\n",
       "      <td>0.714286</td>\n",
       "    </tr>\n",
       "    <tr>\n",
       "      <th>168</th>\n",
       "      <td>2144</td>\n",
       "      <td>6</td>\n",
       "      <td>0.000000</td>\n",
       "    </tr>\n",
       "    <tr>\n",
       "      <th>468</th>\n",
       "      <td>347088</td>\n",
       "      <td>6</td>\n",
       "      <td>0.000000</td>\n",
       "    </tr>\n",
       "    <tr>\n",
       "      <th>...</th>\n",
       "      <td>...</td>\n",
       "      <td>...</td>\n",
       "      <td>...</td>\n",
       "    </tr>\n",
       "    <tr>\n",
       "      <th>271</th>\n",
       "      <td>2662</td>\n",
       "      <td>1</td>\n",
       "      <td>0.000000</td>\n",
       "    </tr>\n",
       "    <tr>\n",
       "      <th>272</th>\n",
       "      <td>2663</td>\n",
       "      <td>1</td>\n",
       "      <td>1.000000</td>\n",
       "    </tr>\n",
       "    <tr>\n",
       "      <th>273</th>\n",
       "      <td>2664</td>\n",
       "      <td>1</td>\n",
       "      <td>0.000000</td>\n",
       "    </tr>\n",
       "    <tr>\n",
       "      <th>276</th>\n",
       "      <td>2667</td>\n",
       "      <td>1</td>\n",
       "      <td>1.000000</td>\n",
       "    </tr>\n",
       "    <tr>\n",
       "      <th>339</th>\n",
       "      <td>3101274</td>\n",
       "      <td>1</td>\n",
       "      <td>0.000000</td>\n",
       "    </tr>\n",
       "  </tbody>\n",
       "</table>\n",
       "<p>679 rows × 3 columns</p>\n",
       "</div>"
      ]
     },
     "execution_count": 39,
     "metadata": {},
     "output_type": "execute_result"
    }
   ],
   "execution_count": 39
  },
  {
   "cell_type": "code",
   "id": "e908f029",
   "metadata": {
    "execution": {
     "iopub.execute_input": "2023-11-04T22:17:51.031095Z",
     "iopub.status.busy": "2023-11-04T22:17:51.029710Z",
     "iopub.status.idle": "2023-11-04T22:17:51.042364Z",
     "shell.execute_reply": "2023-11-04T22:17:51.041348Z"
    },
    "papermill": {
     "duration": 0.065449,
     "end_time": "2023-11-04T22:17:51.044724",
     "exception": false,
     "start_time": "2023-11-04T22:17:50.979275",
     "status": "completed"
    },
    "tags": [],
    "ExecuteTime": {
     "end_time": "2024-09-16T17:36:56.873973Z",
     "start_time": "2024-09-16T17:36:56.860329Z"
    }
   },
   "source": [
    "train_df.groupby('TicketNumber')['TicketNumber'].transform('count')"
   ],
   "outputs": [
    {
     "data": {
      "text/plain": [
       "0      1\n",
       "1      1\n",
       "2      1\n",
       "3      2\n",
       "4      1\n",
       "      ..\n",
       "886    1\n",
       "887    1\n",
       "888    2\n",
       "889    1\n",
       "890    1\n",
       "Name: TicketNumber, Length: 891, dtype: int64"
      ]
     },
     "execution_count": 40,
     "metadata": {},
     "output_type": "execute_result"
    }
   ],
   "execution_count": 40
  },
  {
   "cell_type": "code",
   "id": "648b797c",
   "metadata": {
    "execution": {
     "iopub.execute_input": "2023-11-04T22:17:51.141944Z",
     "iopub.status.busy": "2023-11-04T22:17:51.141387Z",
     "iopub.status.idle": "2023-11-04T22:17:51.154885Z",
     "shell.execute_reply": "2023-11-04T22:17:51.152457Z"
    },
    "papermill": {
     "duration": 0.065534,
     "end_time": "2023-11-04T22:17:51.157937",
     "exception": false,
     "start_time": "2023-11-04T22:17:51.092403",
     "status": "completed"
    },
    "tags": [],
    "ExecuteTime": {
     "end_time": "2024-09-16T17:36:57.734679Z",
     "start_time": "2024-09-16T17:36:57.724196Z"
    }
   },
   "source": [
    "train_df['TicketNumberCounts'] = train_df.groupby('TicketNumber')['TicketNumber'].transform('count')\n",
    "test_df['TicketNumberCounts'] = test_df.groupby('TicketNumber')['TicketNumber'].transform('count')"
   ],
   "outputs": [],
   "execution_count": 41
  },
  {
   "cell_type": "code",
   "id": "c4ac756f",
   "metadata": {
    "execution": {
     "iopub.execute_input": "2023-11-04T22:17:51.255737Z",
     "iopub.status.busy": "2023-11-04T22:17:51.254494Z",
     "iopub.status.idle": "2023-11-04T22:17:51.271682Z",
     "shell.execute_reply": "2023-11-04T22:17:51.270267Z"
    },
    "papermill": {
     "duration": 0.068848,
     "end_time": "2023-11-04T22:17:51.274390",
     "exception": false,
     "start_time": "2023-11-04T22:17:51.205542",
     "status": "completed"
    },
    "tags": [],
    "ExecuteTime": {
     "end_time": "2024-09-16T17:36:58.281617Z",
     "start_time": "2024-09-16T17:36:58.262861Z"
    }
   },
   "source": [
    "train_df.groupby(['TicketNumberCounts'], as_index=False)['Survived'].agg(['count', 'mean']).sort_values('count', ascending=False)"
   ],
   "outputs": [
    {
     "data": {
      "text/plain": [
       "   TicketNumberCounts  count      mean\n",
       "0                   1    544  0.295956\n",
       "1                   2    188  0.569149\n",
       "2                   3     66  0.712121\n",
       "3                   4     44  0.500000\n",
       "6                   7     21  0.238095\n",
       "5                   6     18  0.000000\n",
       "4                   5     10  0.000000"
      ],
      "text/html": [
       "<div>\n",
       "<style scoped>\n",
       "    .dataframe tbody tr th:only-of-type {\n",
       "        vertical-align: middle;\n",
       "    }\n",
       "\n",
       "    .dataframe tbody tr th {\n",
       "        vertical-align: top;\n",
       "    }\n",
       "\n",
       "    .dataframe thead th {\n",
       "        text-align: right;\n",
       "    }\n",
       "</style>\n",
       "<table border=\"1\" class=\"dataframe\">\n",
       "  <thead>\n",
       "    <tr style=\"text-align: right;\">\n",
       "      <th></th>\n",
       "      <th>TicketNumberCounts</th>\n",
       "      <th>count</th>\n",
       "      <th>mean</th>\n",
       "    </tr>\n",
       "  </thead>\n",
       "  <tbody>\n",
       "    <tr>\n",
       "      <th>0</th>\n",
       "      <td>1</td>\n",
       "      <td>544</td>\n",
       "      <td>0.295956</td>\n",
       "    </tr>\n",
       "    <tr>\n",
       "      <th>1</th>\n",
       "      <td>2</td>\n",
       "      <td>188</td>\n",
       "      <td>0.569149</td>\n",
       "    </tr>\n",
       "    <tr>\n",
       "      <th>2</th>\n",
       "      <td>3</td>\n",
       "      <td>66</td>\n",
       "      <td>0.712121</td>\n",
       "    </tr>\n",
       "    <tr>\n",
       "      <th>3</th>\n",
       "      <td>4</td>\n",
       "      <td>44</td>\n",
       "      <td>0.500000</td>\n",
       "    </tr>\n",
       "    <tr>\n",
       "      <th>6</th>\n",
       "      <td>7</td>\n",
       "      <td>21</td>\n",
       "      <td>0.238095</td>\n",
       "    </tr>\n",
       "    <tr>\n",
       "      <th>5</th>\n",
       "      <td>6</td>\n",
       "      <td>18</td>\n",
       "      <td>0.000000</td>\n",
       "    </tr>\n",
       "    <tr>\n",
       "      <th>4</th>\n",
       "      <td>5</td>\n",
       "      <td>10</td>\n",
       "      <td>0.000000</td>\n",
       "    </tr>\n",
       "  </tbody>\n",
       "</table>\n",
       "</div>"
      ]
     },
     "execution_count": 42,
     "metadata": {},
     "output_type": "execute_result"
    }
   ],
   "execution_count": 42
  },
  {
   "cell_type": "code",
   "id": "94d25f0c",
   "metadata": {
    "execution": {
     "iopub.execute_input": "2023-11-04T22:17:51.372897Z",
     "iopub.status.busy": "2023-11-04T22:17:51.372382Z",
     "iopub.status.idle": "2023-11-04T22:17:51.382826Z",
     "shell.execute_reply": "2023-11-04T22:17:51.381584Z"
    },
    "papermill": {
     "duration": 0.062615,
     "end_time": "2023-11-04T22:17:51.385700",
     "exception": false,
     "start_time": "2023-11-04T22:17:51.323085",
     "status": "completed"
    },
    "tags": [],
    "ExecuteTime": {
     "end_time": "2024-09-16T17:36:58.771254Z",
     "start_time": "2024-09-16T17:36:58.763271Z"
    }
   },
   "source": [
    "train_df['Ticket']"
   ],
   "outputs": [
    {
     "data": {
      "text/plain": [
       "0             A/5 21171\n",
       "1              PC 17599\n",
       "2      STON/O2. 3101282\n",
       "3                113803\n",
       "4                373450\n",
       "             ...       \n",
       "886              211536\n",
       "887              112053\n",
       "888          W./C. 6607\n",
       "889              111369\n",
       "890              370376\n",
       "Name: Ticket, Length: 891, dtype: object"
      ]
     },
     "execution_count": 43,
     "metadata": {},
     "output_type": "execute_result"
    }
   ],
   "execution_count": 43
  },
  {
   "cell_type": "code",
   "id": "0d7fa5b7",
   "metadata": {
    "execution": {
     "iopub.execute_input": "2023-11-04T22:17:51.487055Z",
     "iopub.status.busy": "2023-11-04T22:17:51.486129Z",
     "iopub.status.idle": "2023-11-04T22:17:51.504041Z",
     "shell.execute_reply": "2023-11-04T22:17:51.502847Z"
    },
    "papermill": {
     "duration": 0.071185,
     "end_time": "2023-11-04T22:17:51.506460",
     "exception": false,
     "start_time": "2023-11-04T22:17:51.435275",
     "status": "completed"
    },
    "tags": [],
    "ExecuteTime": {
     "end_time": "2024-09-16T17:36:59.365353Z",
     "start_time": "2024-09-16T17:36:59.354396Z"
    }
   },
   "source": [
    "train_df['Ticket'].str.split(pat=\" \", expand=True)"
   ],
   "outputs": [
    {
     "data": {
      "text/plain": [
       "            0        1     2\n",
       "0         A/5    21171  None\n",
       "1          PC    17599  None\n",
       "2    STON/O2.  3101282  None\n",
       "3      113803     None  None\n",
       "4      373450     None  None\n",
       "..        ...      ...   ...\n",
       "886    211536     None  None\n",
       "887    112053     None  None\n",
       "888     W./C.     6607  None\n",
       "889    111369     None  None\n",
       "890    370376     None  None\n",
       "\n",
       "[891 rows x 3 columns]"
      ],
      "text/html": [
       "<div>\n",
       "<style scoped>\n",
       "    .dataframe tbody tr th:only-of-type {\n",
       "        vertical-align: middle;\n",
       "    }\n",
       "\n",
       "    .dataframe tbody tr th {\n",
       "        vertical-align: top;\n",
       "    }\n",
       "\n",
       "    .dataframe thead th {\n",
       "        text-align: right;\n",
       "    }\n",
       "</style>\n",
       "<table border=\"1\" class=\"dataframe\">\n",
       "  <thead>\n",
       "    <tr style=\"text-align: right;\">\n",
       "      <th></th>\n",
       "      <th>0</th>\n",
       "      <th>1</th>\n",
       "      <th>2</th>\n",
       "    </tr>\n",
       "  </thead>\n",
       "  <tbody>\n",
       "    <tr>\n",
       "      <th>0</th>\n",
       "      <td>A/5</td>\n",
       "      <td>21171</td>\n",
       "      <td>None</td>\n",
       "    </tr>\n",
       "    <tr>\n",
       "      <th>1</th>\n",
       "      <td>PC</td>\n",
       "      <td>17599</td>\n",
       "      <td>None</td>\n",
       "    </tr>\n",
       "    <tr>\n",
       "      <th>2</th>\n",
       "      <td>STON/O2.</td>\n",
       "      <td>3101282</td>\n",
       "      <td>None</td>\n",
       "    </tr>\n",
       "    <tr>\n",
       "      <th>3</th>\n",
       "      <td>113803</td>\n",
       "      <td>None</td>\n",
       "      <td>None</td>\n",
       "    </tr>\n",
       "    <tr>\n",
       "      <th>4</th>\n",
       "      <td>373450</td>\n",
       "      <td>None</td>\n",
       "      <td>None</td>\n",
       "    </tr>\n",
       "    <tr>\n",
       "      <th>...</th>\n",
       "      <td>...</td>\n",
       "      <td>...</td>\n",
       "      <td>...</td>\n",
       "    </tr>\n",
       "    <tr>\n",
       "      <th>886</th>\n",
       "      <td>211536</td>\n",
       "      <td>None</td>\n",
       "      <td>None</td>\n",
       "    </tr>\n",
       "    <tr>\n",
       "      <th>887</th>\n",
       "      <td>112053</td>\n",
       "      <td>None</td>\n",
       "      <td>None</td>\n",
       "    </tr>\n",
       "    <tr>\n",
       "      <th>888</th>\n",
       "      <td>W./C.</td>\n",
       "      <td>6607</td>\n",
       "      <td>None</td>\n",
       "    </tr>\n",
       "    <tr>\n",
       "      <th>889</th>\n",
       "      <td>111369</td>\n",
       "      <td>None</td>\n",
       "      <td>None</td>\n",
       "    </tr>\n",
       "    <tr>\n",
       "      <th>890</th>\n",
       "      <td>370376</td>\n",
       "      <td>None</td>\n",
       "      <td>None</td>\n",
       "    </tr>\n",
       "  </tbody>\n",
       "</table>\n",
       "<p>891 rows × 3 columns</p>\n",
       "</div>"
      ]
     },
     "execution_count": 44,
     "metadata": {},
     "output_type": "execute_result"
    }
   ],
   "execution_count": 44
  },
  {
   "cell_type": "code",
   "id": "e8283317",
   "metadata": {
    "execution": {
     "iopub.execute_input": "2023-11-04T22:17:51.606117Z",
     "iopub.status.busy": "2023-11-04T22:17:51.604495Z",
     "iopub.status.idle": "2023-11-04T22:17:51.625136Z",
     "shell.execute_reply": "2023-11-04T22:17:51.623614Z"
    },
    "papermill": {
     "duration": 0.073705,
     "end_time": "2023-11-04T22:17:51.628173",
     "exception": false,
     "start_time": "2023-11-04T22:17:51.554468",
     "status": "completed"
    },
    "tags": [],
    "ExecuteTime": {
     "end_time": "2024-09-16T17:36:59.611522Z",
     "start_time": "2024-09-16T17:36:59.595193Z"
    }
   },
   "source": [
    "train_df['TicketLocation'] = np.where(train_df['Ticket'].str.split(pat=\" \", expand=True)[1].notna(), train_df['Ticket'].str.split(pat=\" \", expand=True)[0].apply(lambda x: x.strip()), 'Blank')\n",
    "test_df['TicketLocation'] = np.where(test_df['Ticket'].str.split(pat=\" \", expand=True)[1].notna(), test_df['Ticket'].str.split(pat=\" \", expand=True)[0].apply(lambda x: x.strip()), 'Blank')"
   ],
   "outputs": [],
   "execution_count": 45
  },
  {
   "cell_type": "code",
   "id": "ffc9d1bf",
   "metadata": {
    "execution": {
     "iopub.execute_input": "2023-11-04T22:17:51.727202Z",
     "iopub.status.busy": "2023-11-04T22:17:51.726665Z",
     "iopub.status.idle": "2023-11-04T22:17:51.738522Z",
     "shell.execute_reply": "2023-11-04T22:17:51.737064Z"
    },
    "papermill": {
     "duration": 0.064747,
     "end_time": "2023-11-04T22:17:51.741223",
     "exception": false,
     "start_time": "2023-11-04T22:17:51.676476",
     "status": "completed"
    },
    "tags": [],
    "ExecuteTime": {
     "end_time": "2024-09-16T17:37:00.015701Z",
     "start_time": "2024-09-16T17:37:00.006897Z"
    }
   },
   "source": [
    "train_df['TicketLocation'].value_counts()"
   ],
   "outputs": [
    {
     "data": {
      "text/plain": [
       "TicketLocation\n",
       "Blank         665\n",
       "PC             60\n",
       "C.A.           27\n",
       "STON/O         12\n",
       "A/5            10\n",
       "W./C.           9\n",
       "CA.             8\n",
       "SOTON/O.Q.      8\n",
       "SOTON/OQ        7\n",
       "A/5.            7\n",
       "CA              6\n",
       "STON/O2.        6\n",
       "C               5\n",
       "F.C.C.          5\n",
       "S.O.C.          5\n",
       "SC/PARIS        5\n",
       "SC/Paris        4\n",
       "S.O./P.P.       3\n",
       "PP              3\n",
       "A/4.            3\n",
       "A/4             3\n",
       "SC/AH           3\n",
       "A./5.           2\n",
       "SOTON/O2        2\n",
       "A.5.            2\n",
       "WE/P            2\n",
       "S.C./PARIS      2\n",
       "P/PP            2\n",
       "F.C.            1\n",
       "SC              1\n",
       "S.W./PP         1\n",
       "A/S             1\n",
       "Fa              1\n",
       "SCO/W           1\n",
       "SW/PP           1\n",
       "W/C             1\n",
       "S.C./A.4.       1\n",
       "S.O.P.          1\n",
       "A4.             1\n",
       "W.E.P.          1\n",
       "SO/C            1\n",
       "S.P.            1\n",
       "C.A./SOTON      1\n",
       "Name: count, dtype: int64"
      ]
     },
     "execution_count": 46,
     "metadata": {},
     "output_type": "execute_result"
    }
   ],
   "execution_count": 46
  },
  {
   "cell_type": "code",
   "id": "50bdb1de",
   "metadata": {
    "execution": {
     "iopub.execute_input": "2023-11-04T22:17:51.840339Z",
     "iopub.status.busy": "2023-11-04T22:17:51.839841Z",
     "iopub.status.idle": "2023-11-04T22:17:51.853255Z",
     "shell.execute_reply": "2023-11-04T22:17:51.852194Z"
    },
    "papermill": {
     "duration": 0.066053,
     "end_time": "2023-11-04T22:17:51.855924",
     "exception": false,
     "start_time": "2023-11-04T22:17:51.789871",
     "status": "completed"
    },
    "tags": [],
    "ExecuteTime": {
     "end_time": "2024-09-16T17:37:00.281346Z",
     "start_time": "2024-09-16T17:37:00.265301Z"
    }
   },
   "source": [
    "train_df['TicketLocation'] = train_df['TicketLocation'].replace({\n",
    "    'SOTON/O.Q.':'SOTON/OQ',\n",
    "    'C.A.':'CA',\n",
    "    'CA.':'CA',\n",
    "    'SC/PARIS':'SC/Paris',\n",
    "    'S.C./PARIS':'SC/Paris',\n",
    "    'A/4.':'A/4',\n",
    "    'A/5.':'A/5',\n",
    "    'A.5.':'A/5',\n",
    "    'A./5.':'A/5',\n",
    "    'W./C.':'W/C',    \n",
    "})\n",
    "\n",
    "test_df['TicketLocation'] = test_df['TicketLocation'].replace({\n",
    "    'SOTON/O.Q.':'SOTON/OQ',\n",
    "    'C.A.':'CA',\n",
    "    'CA.':'CA',\n",
    "    'SC/PARIS':'SC/Paris',\n",
    "    'S.C./PARIS':'SC/Paris',\n",
    "    'A/4.':'A/4',\n",
    "    'A/5.':'A/5',\n",
    "    'A.5.':'A/5',\n",
    "    'A./5.':'A/5',\n",
    "    'W./C.':'W/C',    \n",
    "})"
   ],
   "outputs": [],
   "execution_count": 47
  },
  {
   "cell_type": "code",
   "id": "e9ddb6d5",
   "metadata": {
    "execution": {
     "iopub.execute_input": "2023-11-04T22:17:51.955780Z",
     "iopub.status.busy": "2023-11-04T22:17:51.954781Z",
     "iopub.status.idle": "2023-11-04T22:17:51.978434Z",
     "shell.execute_reply": "2023-11-04T22:17:51.977017Z"
    },
    "papermill": {
     "duration": 0.076204,
     "end_time": "2023-11-04T22:17:51.981381",
     "exception": false,
     "start_time": "2023-11-04T22:17:51.905177",
     "status": "completed"
    },
    "tags": [],
    "ExecuteTime": {
     "end_time": "2024-09-16T17:37:00.529892Z",
     "start_time": "2024-09-16T17:37:00.514411Z"
    }
   },
   "source": [
    "train_df.groupby(['TicketLocation'], as_index=False)['Survived'].agg(['count', 'mean'])"
   ],
   "outputs": [
    {
     "data": {
      "text/plain": [
       "   TicketLocation  count      mean\n",
       "0             A/4      6  0.000000\n",
       "1             A/5     21  0.095238\n",
       "2             A/S      1  0.000000\n",
       "3             A4.      1  0.000000\n",
       "4           Blank    665  0.383459\n",
       "5               C      5  0.400000\n",
       "6      C.A./SOTON      1  0.000000\n",
       "7              CA     41  0.341463\n",
       "8            F.C.      1  0.000000\n",
       "9          F.C.C.      5  0.800000\n",
       "10             Fa      1  0.000000\n",
       "11           P/PP      2  0.500000\n",
       "12             PC     60  0.650000\n",
       "13             PP      3  0.666667\n",
       "14      S.C./A.4.      1  0.000000\n",
       "15      S.O./P.P.      3  0.000000\n",
       "16         S.O.C.      5  0.000000\n",
       "17         S.O.P.      1  0.000000\n",
       "18           S.P.      1  0.000000\n",
       "19        S.W./PP      1  1.000000\n",
       "20             SC      1  1.000000\n",
       "21          SC/AH      3  0.666667\n",
       "22       SC/Paris     11  0.454545\n",
       "23          SCO/W      1  0.000000\n",
       "24           SO/C      1  1.000000\n",
       "25       SOTON/O2      2  0.000000\n",
       "26       SOTON/OQ     15  0.133333\n",
       "27         STON/O     12  0.416667\n",
       "28       STON/O2.      6  0.500000\n",
       "29          SW/PP      1  1.000000\n",
       "30         W.E.P.      1  0.000000\n",
       "31            W/C     10  0.100000\n",
       "32           WE/P      2  0.500000"
      ],
      "text/html": [
       "<div>\n",
       "<style scoped>\n",
       "    .dataframe tbody tr th:only-of-type {\n",
       "        vertical-align: middle;\n",
       "    }\n",
       "\n",
       "    .dataframe tbody tr th {\n",
       "        vertical-align: top;\n",
       "    }\n",
       "\n",
       "    .dataframe thead th {\n",
       "        text-align: right;\n",
       "    }\n",
       "</style>\n",
       "<table border=\"1\" class=\"dataframe\">\n",
       "  <thead>\n",
       "    <tr style=\"text-align: right;\">\n",
       "      <th></th>\n",
       "      <th>TicketLocation</th>\n",
       "      <th>count</th>\n",
       "      <th>mean</th>\n",
       "    </tr>\n",
       "  </thead>\n",
       "  <tbody>\n",
       "    <tr>\n",
       "      <th>0</th>\n",
       "      <td>A/4</td>\n",
       "      <td>6</td>\n",
       "      <td>0.000000</td>\n",
       "    </tr>\n",
       "    <tr>\n",
       "      <th>1</th>\n",
       "      <td>A/5</td>\n",
       "      <td>21</td>\n",
       "      <td>0.095238</td>\n",
       "    </tr>\n",
       "    <tr>\n",
       "      <th>2</th>\n",
       "      <td>A/S</td>\n",
       "      <td>1</td>\n",
       "      <td>0.000000</td>\n",
       "    </tr>\n",
       "    <tr>\n",
       "      <th>3</th>\n",
       "      <td>A4.</td>\n",
       "      <td>1</td>\n",
       "      <td>0.000000</td>\n",
       "    </tr>\n",
       "    <tr>\n",
       "      <th>4</th>\n",
       "      <td>Blank</td>\n",
       "      <td>665</td>\n",
       "      <td>0.383459</td>\n",
       "    </tr>\n",
       "    <tr>\n",
       "      <th>5</th>\n",
       "      <td>C</td>\n",
       "      <td>5</td>\n",
       "      <td>0.400000</td>\n",
       "    </tr>\n",
       "    <tr>\n",
       "      <th>6</th>\n",
       "      <td>C.A./SOTON</td>\n",
       "      <td>1</td>\n",
       "      <td>0.000000</td>\n",
       "    </tr>\n",
       "    <tr>\n",
       "      <th>7</th>\n",
       "      <td>CA</td>\n",
       "      <td>41</td>\n",
       "      <td>0.341463</td>\n",
       "    </tr>\n",
       "    <tr>\n",
       "      <th>8</th>\n",
       "      <td>F.C.</td>\n",
       "      <td>1</td>\n",
       "      <td>0.000000</td>\n",
       "    </tr>\n",
       "    <tr>\n",
       "      <th>9</th>\n",
       "      <td>F.C.C.</td>\n",
       "      <td>5</td>\n",
       "      <td>0.800000</td>\n",
       "    </tr>\n",
       "    <tr>\n",
       "      <th>10</th>\n",
       "      <td>Fa</td>\n",
       "      <td>1</td>\n",
       "      <td>0.000000</td>\n",
       "    </tr>\n",
       "    <tr>\n",
       "      <th>11</th>\n",
       "      <td>P/PP</td>\n",
       "      <td>2</td>\n",
       "      <td>0.500000</td>\n",
       "    </tr>\n",
       "    <tr>\n",
       "      <th>12</th>\n",
       "      <td>PC</td>\n",
       "      <td>60</td>\n",
       "      <td>0.650000</td>\n",
       "    </tr>\n",
       "    <tr>\n",
       "      <th>13</th>\n",
       "      <td>PP</td>\n",
       "      <td>3</td>\n",
       "      <td>0.666667</td>\n",
       "    </tr>\n",
       "    <tr>\n",
       "      <th>14</th>\n",
       "      <td>S.C./A.4.</td>\n",
       "      <td>1</td>\n",
       "      <td>0.000000</td>\n",
       "    </tr>\n",
       "    <tr>\n",
       "      <th>15</th>\n",
       "      <td>S.O./P.P.</td>\n",
       "      <td>3</td>\n",
       "      <td>0.000000</td>\n",
       "    </tr>\n",
       "    <tr>\n",
       "      <th>16</th>\n",
       "      <td>S.O.C.</td>\n",
       "      <td>5</td>\n",
       "      <td>0.000000</td>\n",
       "    </tr>\n",
       "    <tr>\n",
       "      <th>17</th>\n",
       "      <td>S.O.P.</td>\n",
       "      <td>1</td>\n",
       "      <td>0.000000</td>\n",
       "    </tr>\n",
       "    <tr>\n",
       "      <th>18</th>\n",
       "      <td>S.P.</td>\n",
       "      <td>1</td>\n",
       "      <td>0.000000</td>\n",
       "    </tr>\n",
       "    <tr>\n",
       "      <th>19</th>\n",
       "      <td>S.W./PP</td>\n",
       "      <td>1</td>\n",
       "      <td>1.000000</td>\n",
       "    </tr>\n",
       "    <tr>\n",
       "      <th>20</th>\n",
       "      <td>SC</td>\n",
       "      <td>1</td>\n",
       "      <td>1.000000</td>\n",
       "    </tr>\n",
       "    <tr>\n",
       "      <th>21</th>\n",
       "      <td>SC/AH</td>\n",
       "      <td>3</td>\n",
       "      <td>0.666667</td>\n",
       "    </tr>\n",
       "    <tr>\n",
       "      <th>22</th>\n",
       "      <td>SC/Paris</td>\n",
       "      <td>11</td>\n",
       "      <td>0.454545</td>\n",
       "    </tr>\n",
       "    <tr>\n",
       "      <th>23</th>\n",
       "      <td>SCO/W</td>\n",
       "      <td>1</td>\n",
       "      <td>0.000000</td>\n",
       "    </tr>\n",
       "    <tr>\n",
       "      <th>24</th>\n",
       "      <td>SO/C</td>\n",
       "      <td>1</td>\n",
       "      <td>1.000000</td>\n",
       "    </tr>\n",
       "    <tr>\n",
       "      <th>25</th>\n",
       "      <td>SOTON/O2</td>\n",
       "      <td>2</td>\n",
       "      <td>0.000000</td>\n",
       "    </tr>\n",
       "    <tr>\n",
       "      <th>26</th>\n",
       "      <td>SOTON/OQ</td>\n",
       "      <td>15</td>\n",
       "      <td>0.133333</td>\n",
       "    </tr>\n",
       "    <tr>\n",
       "      <th>27</th>\n",
       "      <td>STON/O</td>\n",
       "      <td>12</td>\n",
       "      <td>0.416667</td>\n",
       "    </tr>\n",
       "    <tr>\n",
       "      <th>28</th>\n",
       "      <td>STON/O2.</td>\n",
       "      <td>6</td>\n",
       "      <td>0.500000</td>\n",
       "    </tr>\n",
       "    <tr>\n",
       "      <th>29</th>\n",
       "      <td>SW/PP</td>\n",
       "      <td>1</td>\n",
       "      <td>1.000000</td>\n",
       "    </tr>\n",
       "    <tr>\n",
       "      <th>30</th>\n",
       "      <td>W.E.P.</td>\n",
       "      <td>1</td>\n",
       "      <td>0.000000</td>\n",
       "    </tr>\n",
       "    <tr>\n",
       "      <th>31</th>\n",
       "      <td>W/C</td>\n",
       "      <td>10</td>\n",
       "      <td>0.100000</td>\n",
       "    </tr>\n",
       "    <tr>\n",
       "      <th>32</th>\n",
       "      <td>WE/P</td>\n",
       "      <td>2</td>\n",
       "      <td>0.500000</td>\n",
       "    </tr>\n",
       "  </tbody>\n",
       "</table>\n",
       "</div>"
      ]
     },
     "execution_count": 48,
     "metadata": {},
     "output_type": "execute_result"
    }
   ],
   "execution_count": 48
  },
  {
   "cell_type": "code",
   "id": "79c61b4e",
   "metadata": {
    "execution": {
     "iopub.execute_input": "2023-11-04T22:17:52.083736Z",
     "iopub.status.busy": "2023-11-04T22:17:52.083207Z",
     "iopub.status.idle": "2023-11-04T22:17:52.098521Z",
     "shell.execute_reply": "2023-11-04T22:17:52.097093Z"
    },
    "papermill": {
     "duration": 0.068562,
     "end_time": "2023-11-04T22:17:52.101058",
     "exception": false,
     "start_time": "2023-11-04T22:17:52.032496",
     "status": "completed"
    },
    "tags": [],
    "ExecuteTime": {
     "end_time": "2024-09-16T17:37:00.702292Z",
     "start_time": "2024-09-16T17:37:00.687942Z"
    }
   },
   "source": [
    "train_df['Cabin'] = train_df['Cabin'].fillna('U')\n",
    "train_df['Cabin'] = pd.Series([i[0] if not pd.isnull(i) else 'x' for i in train_df['Cabin']])\n",
    "\n",
    "test_df['Cabin'] = test_df['Cabin'].fillna('U')\n",
    "test_df['Cabin'] = pd.Series([i[0] if not pd.isnull(i) else 'x' for i in test_df['Cabin']])"
   ],
   "outputs": [],
   "execution_count": 49
  },
  {
   "cell_type": "code",
   "id": "1ad8b698",
   "metadata": {
    "execution": {
     "iopub.execute_input": "2023-11-04T22:17:52.202736Z",
     "iopub.status.busy": "2023-11-04T22:17:52.202190Z",
     "iopub.status.idle": "2023-11-04T22:17:52.220439Z",
     "shell.execute_reply": "2023-11-04T22:17:52.218877Z"
    },
    "papermill": {
     "duration": 0.072331,
     "end_time": "2023-11-04T22:17:52.223706",
     "exception": false,
     "start_time": "2023-11-04T22:17:52.151375",
     "status": "completed"
    },
    "tags": [],
    "ExecuteTime": {
     "end_time": "2024-09-16T17:37:01.106326Z",
     "start_time": "2024-09-16T17:37:01.088408Z"
    }
   },
   "source": [
    "train_df.groupby(['Cabin'], as_index=False)['Survived'].agg(['count', 'mean'])"
   ],
   "outputs": [
    {
     "data": {
      "text/plain": [
       "  Cabin  count      mean\n",
       "0     A     15  0.466667\n",
       "1     B     47  0.744681\n",
       "2     C     59  0.593220\n",
       "3     D     33  0.757576\n",
       "4     E     32  0.750000\n",
       "5     F     13  0.615385\n",
       "6     G      4  0.500000\n",
       "7     T      1  0.000000\n",
       "8     U    687  0.299854"
      ],
      "text/html": [
       "<div>\n",
       "<style scoped>\n",
       "    .dataframe tbody tr th:only-of-type {\n",
       "        vertical-align: middle;\n",
       "    }\n",
       "\n",
       "    .dataframe tbody tr th {\n",
       "        vertical-align: top;\n",
       "    }\n",
       "\n",
       "    .dataframe thead th {\n",
       "        text-align: right;\n",
       "    }\n",
       "</style>\n",
       "<table border=\"1\" class=\"dataframe\">\n",
       "  <thead>\n",
       "    <tr style=\"text-align: right;\">\n",
       "      <th></th>\n",
       "      <th>Cabin</th>\n",
       "      <th>count</th>\n",
       "      <th>mean</th>\n",
       "    </tr>\n",
       "  </thead>\n",
       "  <tbody>\n",
       "    <tr>\n",
       "      <th>0</th>\n",
       "      <td>A</td>\n",
       "      <td>15</td>\n",
       "      <td>0.466667</td>\n",
       "    </tr>\n",
       "    <tr>\n",
       "      <th>1</th>\n",
       "      <td>B</td>\n",
       "      <td>47</td>\n",
       "      <td>0.744681</td>\n",
       "    </tr>\n",
       "    <tr>\n",
       "      <th>2</th>\n",
       "      <td>C</td>\n",
       "      <td>59</td>\n",
       "      <td>0.593220</td>\n",
       "    </tr>\n",
       "    <tr>\n",
       "      <th>3</th>\n",
       "      <td>D</td>\n",
       "      <td>33</td>\n",
       "      <td>0.757576</td>\n",
       "    </tr>\n",
       "    <tr>\n",
       "      <th>4</th>\n",
       "      <td>E</td>\n",
       "      <td>32</td>\n",
       "      <td>0.750000</td>\n",
       "    </tr>\n",
       "    <tr>\n",
       "      <th>5</th>\n",
       "      <td>F</td>\n",
       "      <td>13</td>\n",
       "      <td>0.615385</td>\n",
       "    </tr>\n",
       "    <tr>\n",
       "      <th>6</th>\n",
       "      <td>G</td>\n",
       "      <td>4</td>\n",
       "      <td>0.500000</td>\n",
       "    </tr>\n",
       "    <tr>\n",
       "      <th>7</th>\n",
       "      <td>T</td>\n",
       "      <td>1</td>\n",
       "      <td>0.000000</td>\n",
       "    </tr>\n",
       "    <tr>\n",
       "      <th>8</th>\n",
       "      <td>U</td>\n",
       "      <td>687</td>\n",
       "      <td>0.299854</td>\n",
       "    </tr>\n",
       "  </tbody>\n",
       "</table>\n",
       "</div>"
      ]
     },
     "execution_count": 50,
     "metadata": {},
     "output_type": "execute_result"
    }
   ],
   "execution_count": 50
  },
  {
   "cell_type": "code",
   "id": "8102b68c",
   "metadata": {
    "execution": {
     "iopub.execute_input": "2023-11-04T22:17:52.329204Z",
     "iopub.status.busy": "2023-11-04T22:17:52.328381Z",
     "iopub.status.idle": "2023-11-04T22:17:52.339488Z",
     "shell.execute_reply": "2023-11-04T22:17:52.337752Z"
    },
    "papermill": {
     "duration": 0.067376,
     "end_time": "2023-11-04T22:17:52.342705",
     "exception": false,
     "start_time": "2023-11-04T22:17:52.275329",
     "status": "completed"
    },
    "tags": [],
    "ExecuteTime": {
     "end_time": "2024-09-16T17:37:01.317075Z",
     "start_time": "2024-09-16T17:37:01.307388Z"
    }
   },
   "source": [
    "train_df['Cabin_Assigned'] = train_df['Cabin'].apply(lambda x: 0 if x in ['U'] else 1)\n",
    "test_df['Cabin_Assigned'] = test_df['Cabin'].apply(lambda x: 0 if x in ['U'] else 1)"
   ],
   "outputs": [],
   "execution_count": 51
  },
  {
   "cell_type": "code",
   "id": "09e4da43",
   "metadata": {
    "execution": {
     "iopub.execute_input": "2023-11-04T22:17:52.445696Z",
     "iopub.status.busy": "2023-11-04T22:17:52.444191Z",
     "iopub.status.idle": "2023-11-04T22:17:52.462697Z",
     "shell.execute_reply": "2023-11-04T22:17:52.461241Z"
    },
    "papermill": {
     "duration": 0.071944,
     "end_time": "2023-11-04T22:17:52.465289",
     "exception": false,
     "start_time": "2023-11-04T22:17:52.393345",
     "status": "completed"
    },
    "tags": [],
    "ExecuteTime": {
     "end_time": "2024-09-16T17:37:01.675496Z",
     "start_time": "2024-09-16T17:37:01.658982Z"
    }
   },
   "source": [
    "train_df.groupby(['Cabin_Assigned'], as_index=False)['Survived'].agg(['count', 'mean'])"
   ],
   "outputs": [
    {
     "data": {
      "text/plain": [
       "   Cabin_Assigned  count      mean\n",
       "0               0    687  0.299854\n",
       "1               1    204  0.666667"
      ],
      "text/html": [
       "<div>\n",
       "<style scoped>\n",
       "    .dataframe tbody tr th:only-of-type {\n",
       "        vertical-align: middle;\n",
       "    }\n",
       "\n",
       "    .dataframe tbody tr th {\n",
       "        vertical-align: top;\n",
       "    }\n",
       "\n",
       "    .dataframe thead th {\n",
       "        text-align: right;\n",
       "    }\n",
       "</style>\n",
       "<table border=\"1\" class=\"dataframe\">\n",
       "  <thead>\n",
       "    <tr style=\"text-align: right;\">\n",
       "      <th></th>\n",
       "      <th>Cabin_Assigned</th>\n",
       "      <th>count</th>\n",
       "      <th>mean</th>\n",
       "    </tr>\n",
       "  </thead>\n",
       "  <tbody>\n",
       "    <tr>\n",
       "      <th>0</th>\n",
       "      <td>0</td>\n",
       "      <td>687</td>\n",
       "      <td>0.299854</td>\n",
       "    </tr>\n",
       "    <tr>\n",
       "      <th>1</th>\n",
       "      <td>1</td>\n",
       "      <td>204</td>\n",
       "      <td>0.666667</td>\n",
       "    </tr>\n",
       "  </tbody>\n",
       "</table>\n",
       "</div>"
      ]
     },
     "execution_count": 52,
     "metadata": {},
     "output_type": "execute_result"
    }
   ],
   "execution_count": 52
  },
  {
   "cell_type": "code",
   "id": "a5b5b9ee",
   "metadata": {
    "execution": {
     "iopub.execute_input": "2023-11-04T22:17:52.567582Z",
     "iopub.status.busy": "2023-11-04T22:17:52.566926Z",
     "iopub.status.idle": "2023-11-04T22:17:52.604854Z",
     "shell.execute_reply": "2023-11-04T22:17:52.603182Z"
    },
    "papermill": {
     "duration": 0.091673,
     "end_time": "2023-11-04T22:17:52.607569",
     "exception": false,
     "start_time": "2023-11-04T22:17:52.515896",
     "status": "completed"
    },
    "tags": [],
    "ExecuteTime": {
     "end_time": "2024-09-16T17:37:02.015155Z",
     "start_time": "2024-09-16T17:37:01.981087Z"
    }
   },
   "source": [
    "train_df.head()"
   ],
   "outputs": [
    {
     "data": {
      "text/plain": [
       "   PassengerId  Survived  Pclass  \\\n",
       "0            1         0       3   \n",
       "1            2         1       1   \n",
       "2            3         1       3   \n",
       "3            4         1       1   \n",
       "4            5         0       3   \n",
       "\n",
       "                                                Name     Sex  Age  SibSp  \\\n",
       "0                            Braund, Mr. Owen Harris    male  1.0      1   \n",
       "1  Cumings, Mrs. John Bradley (Florence Briggs Th...  female  3.0      1   \n",
       "2                             Heikkinen, Miss. Laina  female  2.0      0   \n",
       "3       Futrelle, Mrs. Jacques Heath (Lily May Peel)  female  3.0      1   \n",
       "4                           Allen, Mr. William Henry    male  3.0      0   \n",
       "\n",
       "   Parch            Ticket  Fare  ...       Age_Cut           Fare_Cut  Title  \\\n",
       "0      0         A/5 21171   0.0  ...  (19.0, 25.0]    (-0.001, 7.854]     Mr   \n",
       "1      0          PC 17599   4.0  ...  (31.8, 41.0]  (39.688, 512.329]    Mrs   \n",
       "2      0  STON/O2. 3101282   1.0  ...  (25.0, 31.8]      (7.854, 10.5]   Miss   \n",
       "3      0            113803   4.0  ...  (31.8, 41.0]  (39.688, 512.329]    Mrs   \n",
       "4      0            373450   1.0  ...  (31.8, 41.0]      (7.854, 10.5]     Mr   \n",
       "\n",
       "  Name_Length   Name_LengthGB Name_Size TicketNumber  TicketNumberCounts  \\\n",
       "0          23    (22.0, 28.0]       1.0        21171                   1   \n",
       "1          51    (28.0, 82.0]       2.0        17599                   1   \n",
       "2          22  (11.999, 22.0]       0.0      3101282                   1   \n",
       "3          44    (28.0, 82.0]       2.0       113803                   2   \n",
       "4          24    (22.0, 28.0]       1.0       373450                   1   \n",
       "\n",
       "  TicketLocation  Cabin_Assigned  \n",
       "0            A/5               0  \n",
       "1             PC               1  \n",
       "2       STON/O2.               0  \n",
       "3          Blank               1  \n",
       "4          Blank               0  \n",
       "\n",
       "[5 rows x 24 columns]"
      ],
      "text/html": [
       "<div>\n",
       "<style scoped>\n",
       "    .dataframe tbody tr th:only-of-type {\n",
       "        vertical-align: middle;\n",
       "    }\n",
       "\n",
       "    .dataframe tbody tr th {\n",
       "        vertical-align: top;\n",
       "    }\n",
       "\n",
       "    .dataframe thead th {\n",
       "        text-align: right;\n",
       "    }\n",
       "</style>\n",
       "<table border=\"1\" class=\"dataframe\">\n",
       "  <thead>\n",
       "    <tr style=\"text-align: right;\">\n",
       "      <th></th>\n",
       "      <th>PassengerId</th>\n",
       "      <th>Survived</th>\n",
       "      <th>Pclass</th>\n",
       "      <th>Name</th>\n",
       "      <th>Sex</th>\n",
       "      <th>Age</th>\n",
       "      <th>SibSp</th>\n",
       "      <th>Parch</th>\n",
       "      <th>Ticket</th>\n",
       "      <th>Fare</th>\n",
       "      <th>...</th>\n",
       "      <th>Age_Cut</th>\n",
       "      <th>Fare_Cut</th>\n",
       "      <th>Title</th>\n",
       "      <th>Name_Length</th>\n",
       "      <th>Name_LengthGB</th>\n",
       "      <th>Name_Size</th>\n",
       "      <th>TicketNumber</th>\n",
       "      <th>TicketNumberCounts</th>\n",
       "      <th>TicketLocation</th>\n",
       "      <th>Cabin_Assigned</th>\n",
       "    </tr>\n",
       "  </thead>\n",
       "  <tbody>\n",
       "    <tr>\n",
       "      <th>0</th>\n",
       "      <td>1</td>\n",
       "      <td>0</td>\n",
       "      <td>3</td>\n",
       "      <td>Braund, Mr. Owen Harris</td>\n",
       "      <td>male</td>\n",
       "      <td>1.0</td>\n",
       "      <td>1</td>\n",
       "      <td>0</td>\n",
       "      <td>A/5 21171</td>\n",
       "      <td>0.0</td>\n",
       "      <td>...</td>\n",
       "      <td>(19.0, 25.0]</td>\n",
       "      <td>(-0.001, 7.854]</td>\n",
       "      <td>Mr</td>\n",
       "      <td>23</td>\n",
       "      <td>(22.0, 28.0]</td>\n",
       "      <td>1.0</td>\n",
       "      <td>21171</td>\n",
       "      <td>1</td>\n",
       "      <td>A/5</td>\n",
       "      <td>0</td>\n",
       "    </tr>\n",
       "    <tr>\n",
       "      <th>1</th>\n",
       "      <td>2</td>\n",
       "      <td>1</td>\n",
       "      <td>1</td>\n",
       "      <td>Cumings, Mrs. John Bradley (Florence Briggs Th...</td>\n",
       "      <td>female</td>\n",
       "      <td>3.0</td>\n",
       "      <td>1</td>\n",
       "      <td>0</td>\n",
       "      <td>PC 17599</td>\n",
       "      <td>4.0</td>\n",
       "      <td>...</td>\n",
       "      <td>(31.8, 41.0]</td>\n",
       "      <td>(39.688, 512.329]</td>\n",
       "      <td>Mrs</td>\n",
       "      <td>51</td>\n",
       "      <td>(28.0, 82.0]</td>\n",
       "      <td>2.0</td>\n",
       "      <td>17599</td>\n",
       "      <td>1</td>\n",
       "      <td>PC</td>\n",
       "      <td>1</td>\n",
       "    </tr>\n",
       "    <tr>\n",
       "      <th>2</th>\n",
       "      <td>3</td>\n",
       "      <td>1</td>\n",
       "      <td>3</td>\n",
       "      <td>Heikkinen, Miss. Laina</td>\n",
       "      <td>female</td>\n",
       "      <td>2.0</td>\n",
       "      <td>0</td>\n",
       "      <td>0</td>\n",
       "      <td>STON/O2. 3101282</td>\n",
       "      <td>1.0</td>\n",
       "      <td>...</td>\n",
       "      <td>(25.0, 31.8]</td>\n",
       "      <td>(7.854, 10.5]</td>\n",
       "      <td>Miss</td>\n",
       "      <td>22</td>\n",
       "      <td>(11.999, 22.0]</td>\n",
       "      <td>0.0</td>\n",
       "      <td>3101282</td>\n",
       "      <td>1</td>\n",
       "      <td>STON/O2.</td>\n",
       "      <td>0</td>\n",
       "    </tr>\n",
       "    <tr>\n",
       "      <th>3</th>\n",
       "      <td>4</td>\n",
       "      <td>1</td>\n",
       "      <td>1</td>\n",
       "      <td>Futrelle, Mrs. Jacques Heath (Lily May Peel)</td>\n",
       "      <td>female</td>\n",
       "      <td>3.0</td>\n",
       "      <td>1</td>\n",
       "      <td>0</td>\n",
       "      <td>113803</td>\n",
       "      <td>4.0</td>\n",
       "      <td>...</td>\n",
       "      <td>(31.8, 41.0]</td>\n",
       "      <td>(39.688, 512.329]</td>\n",
       "      <td>Mrs</td>\n",
       "      <td>44</td>\n",
       "      <td>(28.0, 82.0]</td>\n",
       "      <td>2.0</td>\n",
       "      <td>113803</td>\n",
       "      <td>2</td>\n",
       "      <td>Blank</td>\n",
       "      <td>1</td>\n",
       "    </tr>\n",
       "    <tr>\n",
       "      <th>4</th>\n",
       "      <td>5</td>\n",
       "      <td>0</td>\n",
       "      <td>3</td>\n",
       "      <td>Allen, Mr. William Henry</td>\n",
       "      <td>male</td>\n",
       "      <td>3.0</td>\n",
       "      <td>0</td>\n",
       "      <td>0</td>\n",
       "      <td>373450</td>\n",
       "      <td>1.0</td>\n",
       "      <td>...</td>\n",
       "      <td>(31.8, 41.0]</td>\n",
       "      <td>(7.854, 10.5]</td>\n",
       "      <td>Mr</td>\n",
       "      <td>24</td>\n",
       "      <td>(22.0, 28.0]</td>\n",
       "      <td>1.0</td>\n",
       "      <td>373450</td>\n",
       "      <td>1</td>\n",
       "      <td>Blank</td>\n",
       "      <td>0</td>\n",
       "    </tr>\n",
       "  </tbody>\n",
       "</table>\n",
       "<p>5 rows × 24 columns</p>\n",
       "</div>"
      ]
     },
     "execution_count": 53,
     "metadata": {},
     "output_type": "execute_result"
    }
   ],
   "execution_count": 53
  },
  {
   "cell_type": "code",
   "id": "a1ead7dc",
   "metadata": {
    "execution": {
     "iopub.execute_input": "2023-11-04T22:17:52.715447Z",
     "iopub.status.busy": "2023-11-04T22:17:52.715002Z",
     "iopub.status.idle": "2023-11-04T22:17:52.722797Z",
     "shell.execute_reply": "2023-11-04T22:17:52.721600Z"
    },
    "papermill": {
     "duration": 0.064164,
     "end_time": "2023-11-04T22:17:52.725354",
     "exception": false,
     "start_time": "2023-11-04T22:17:52.661190",
     "status": "completed"
    },
    "tags": [],
    "ExecuteTime": {
     "end_time": "2024-09-16T17:37:02.431945Z",
     "start_time": "2024-09-16T17:37:02.424380Z"
    }
   },
   "source": [
    "train_df.shape"
   ],
   "outputs": [
    {
     "data": {
      "text/plain": [
       "(891, 24)"
      ]
     },
     "execution_count": 54,
     "metadata": {},
     "output_type": "execute_result"
    }
   ],
   "execution_count": 54
  },
  {
   "cell_type": "code",
   "id": "059ba432",
   "metadata": {
    "execution": {
     "iopub.execute_input": "2023-11-04T22:17:52.829037Z",
     "iopub.status.busy": "2023-11-04T22:17:52.828623Z",
     "iopub.status.idle": "2023-11-04T22:17:52.836875Z",
     "shell.execute_reply": "2023-11-04T22:17:52.835392Z"
    },
    "papermill": {
     "duration": 0.063242,
     "end_time": "2023-11-04T22:17:52.839492",
     "exception": false,
     "start_time": "2023-11-04T22:17:52.776250",
     "status": "completed"
    },
    "tags": [],
    "ExecuteTime": {
     "end_time": "2024-09-16T17:37:02.969701Z",
     "start_time": "2024-09-16T17:37:02.963109Z"
    }
   },
   "source": [
    "test_df.shape"
   ],
   "outputs": [
    {
     "data": {
      "text/plain": [
       "(418, 23)"
      ]
     },
     "execution_count": 55,
     "metadata": {},
     "output_type": "execute_result"
    }
   ],
   "execution_count": 55
  },
  {
   "cell_type": "code",
   "id": "8729791b",
   "metadata": {
    "execution": {
     "iopub.execute_input": "2023-11-04T22:17:52.943515Z",
     "iopub.status.busy": "2023-11-04T22:17:52.943128Z",
     "iopub.status.idle": "2023-11-04T22:17:52.969175Z",
     "shell.execute_reply": "2023-11-04T22:17:52.967782Z"
    },
    "papermill": {
     "duration": 0.080547,
     "end_time": "2023-11-04T22:17:52.971996",
     "exception": false,
     "start_time": "2023-11-04T22:17:52.891449",
     "status": "completed"
    },
    "tags": [],
    "ExecuteTime": {
     "end_time": "2024-09-16T17:37:03.476952Z",
     "start_time": "2024-09-16T17:37:03.452908Z"
    }
   },
   "source": [
    "train_df.info()"
   ],
   "outputs": [
    {
     "name": "stdout",
     "output_type": "stream",
     "text": [
      "<class 'pandas.core.frame.DataFrame'>\n",
      "RangeIndex: 891 entries, 0 to 890\n",
      "Data columns (total 24 columns):\n",
      " #   Column               Non-Null Count  Dtype   \n",
      "---  ------               --------------  -----   \n",
      " 0   PassengerId          891 non-null    int64   \n",
      " 1   Survived             891 non-null    int64   \n",
      " 2   Pclass               891 non-null    int64   \n",
      " 3   Name                 891 non-null    object  \n",
      " 4   Sex                  891 non-null    object  \n",
      " 5   Age                  714 non-null    float64 \n",
      " 6   SibSp                891 non-null    int64   \n",
      " 7   Parch                891 non-null    int64   \n",
      " 8   Ticket               891 non-null    object  \n",
      " 9   Fare                 891 non-null    float64 \n",
      " 10  Cabin                891 non-null    object  \n",
      " 11  Embarked             889 non-null    object  \n",
      " 12  Family_Size          891 non-null    int64   \n",
      " 13  Family_Size_Grouped  891 non-null    object  \n",
      " 14  Age_Cut              714 non-null    category\n",
      " 15  Fare_Cut             891 non-null    category\n",
      " 16  Title                891 non-null    object  \n",
      " 17  Name_Length          891 non-null    int64   \n",
      " 18  Name_LengthGB        891 non-null    category\n",
      " 19  Name_Size            891 non-null    float64 \n",
      " 20  TicketNumber         891 non-null    object  \n",
      " 21  TicketNumberCounts   891 non-null    int64   \n",
      " 22  TicketLocation       891 non-null    object  \n",
      " 23  Cabin_Assigned       891 non-null    int64   \n",
      "dtypes: category(3), float64(3), int64(9), object(9)\n",
      "memory usage: 149.6+ KB\n"
     ]
    }
   ],
   "execution_count": 56
  },
  {
   "cell_type": "code",
   "id": "c7169389",
   "metadata": {
    "execution": {
     "iopub.execute_input": "2023-11-04T22:17:53.075242Z",
     "iopub.status.busy": "2023-11-04T22:17:53.074838Z",
     "iopub.status.idle": "2023-11-04T22:17:53.083898Z",
     "shell.execute_reply": "2023-11-04T22:17:53.082138Z"
    },
    "papermill": {
     "duration": 0.063127,
     "end_time": "2023-11-04T22:17:53.086575",
     "exception": false,
     "start_time": "2023-11-04T22:17:53.023448",
     "status": "completed"
    },
    "tags": [],
    "ExecuteTime": {
     "end_time": "2024-09-16T17:37:03.782545Z",
     "start_time": "2024-09-16T17:37:03.776548Z"
    }
   },
   "source": [
    "train_df.columns"
   ],
   "outputs": [
    {
     "data": {
      "text/plain": [
       "Index(['PassengerId', 'Survived', 'Pclass', 'Name', 'Sex', 'Age', 'SibSp',\n",
       "       'Parch', 'Ticket', 'Fare', 'Cabin', 'Embarked', 'Family_Size',\n",
       "       'Family_Size_Grouped', 'Age_Cut', 'Fare_Cut', 'Title', 'Name_Length',\n",
       "       'Name_LengthGB', 'Name_Size', 'TicketNumber', 'TicketNumberCounts',\n",
       "       'TicketLocation', 'Cabin_Assigned'],\n",
       "      dtype='object')"
      ]
     },
     "execution_count": 57,
     "metadata": {},
     "output_type": "execute_result"
    }
   ],
   "execution_count": 57
  },
  {
   "cell_type": "code",
   "id": "12b67985",
   "metadata": {
    "execution": {
     "iopub.execute_input": "2023-11-04T22:17:53.190386Z",
     "iopub.status.busy": "2023-11-04T22:17:53.189985Z",
     "iopub.status.idle": "2023-11-04T22:17:53.208390Z",
     "shell.execute_reply": "2023-11-04T22:17:53.206934Z"
    },
    "papermill": {
     "duration": 0.072651,
     "end_time": "2023-11-04T22:17:53.211137",
     "exception": false,
     "start_time": "2023-11-04T22:17:53.138486",
     "status": "completed"
    },
    "tags": [],
    "ExecuteTime": {
     "end_time": "2024-09-16T17:37:04.394247Z",
     "start_time": "2024-09-16T17:37:04.375733Z"
    }
   },
   "source": [
    "test_df.info()"
   ],
   "outputs": [
    {
     "name": "stdout",
     "output_type": "stream",
     "text": [
      "<class 'pandas.core.frame.DataFrame'>\n",
      "RangeIndex: 418 entries, 0 to 417\n",
      "Data columns (total 23 columns):\n",
      " #   Column               Non-Null Count  Dtype   \n",
      "---  ------               --------------  -----   \n",
      " 0   PassengerId          418 non-null    int64   \n",
      " 1   Pclass               418 non-null    int64   \n",
      " 2   Name                 418 non-null    object  \n",
      " 3   Sex                  418 non-null    object  \n",
      " 4   Age                  332 non-null    float64 \n",
      " 5   SibSp                418 non-null    int64   \n",
      " 6   Parch                418 non-null    int64   \n",
      " 7   Ticket               418 non-null    object  \n",
      " 8   Fare                 417 non-null    float64 \n",
      " 9   Cabin                418 non-null    object  \n",
      " 10  Embarked             418 non-null    object  \n",
      " 11  Family_Size          418 non-null    int64   \n",
      " 12  Family_Size_Grouped  418 non-null    object  \n",
      " 13  Age_Cut              332 non-null    category\n",
      " 14  Fare_Cut             417 non-null    category\n",
      " 15  Title                418 non-null    object  \n",
      " 16  Name_Length          418 non-null    int64   \n",
      " 17  Name_LengthGB        418 non-null    category\n",
      " 18  Name_Size            418 non-null    float64 \n",
      " 19  TicketNumber         418 non-null    object  \n",
      " 20  TicketNumberCounts   418 non-null    int64   \n",
      " 21  TicketLocation       418 non-null    object  \n",
      " 22  Cabin_Assigned       418 non-null    int64   \n",
      "dtypes: category(3), float64(3), int64(8), object(9)\n",
      "memory usage: 67.3+ KB\n"
     ]
    }
   ],
   "execution_count": 58
  },
  {
   "cell_type": "code",
   "id": "5132da1a",
   "metadata": {
    "execution": {
     "iopub.execute_input": "2023-11-04T22:17:53.314316Z",
     "iopub.status.busy": "2023-11-04T22:17:53.313863Z",
     "iopub.status.idle": "2023-11-04T22:17:53.322323Z",
     "shell.execute_reply": "2023-11-04T22:17:53.320765Z"
    },
    "papermill": {
     "duration": 0.064187,
     "end_time": "2023-11-04T22:17:53.325220",
     "exception": false,
     "start_time": "2023-11-04T22:17:53.261033",
     "status": "completed"
    },
    "tags": [],
    "ExecuteTime": {
     "end_time": "2024-09-16T17:37:04.544294Z",
     "start_time": "2024-09-16T17:37:04.533791Z"
    }
   },
   "source": [
    "train_df['Age'].fillna(train_df['Age'].mean(), inplace=True)\n",
    "test_df['Age'].fillna(test_df['Age'].mean(), inplace=True)\n",
    "test_df['Fare'].fillna(test_df['Fare'].mean(), inplace=True)"
   ],
   "outputs": [
    {
     "name": "stderr",
     "output_type": "stream",
     "text": [
      "C:\\Users\\iruka\\AppData\\Local\\Temp\\ipykernel_11900\\883325627.py:1: FutureWarning: A value is trying to be set on a copy of a DataFrame or Series through chained assignment using an inplace method.\n",
      "The behavior will change in pandas 3.0. This inplace method will never work because the intermediate object on which we are setting values always behaves as a copy.\n",
      "\n",
      "For example, when doing 'df[col].method(value, inplace=True)', try using 'df.method({col: value}, inplace=True)' or df[col] = df[col].method(value) instead, to perform the operation inplace on the original object.\n",
      "\n",
      "\n",
      "  train_df['Age'].fillna(train_df['Age'].mean(), inplace=True)\n",
      "C:\\Users\\iruka\\AppData\\Local\\Temp\\ipykernel_11900\\883325627.py:2: FutureWarning: A value is trying to be set on a copy of a DataFrame or Series through chained assignment using an inplace method.\n",
      "The behavior will change in pandas 3.0. This inplace method will never work because the intermediate object on which we are setting values always behaves as a copy.\n",
      "\n",
      "For example, when doing 'df[col].method(value, inplace=True)', try using 'df.method({col: value}, inplace=True)' or df[col] = df[col].method(value) instead, to perform the operation inplace on the original object.\n",
      "\n",
      "\n",
      "  test_df['Age'].fillna(test_df['Age'].mean(), inplace=True)\n",
      "C:\\Users\\iruka\\AppData\\Local\\Temp\\ipykernel_11900\\883325627.py:3: FutureWarning: A value is trying to be set on a copy of a DataFrame or Series through chained assignment using an inplace method.\n",
      "The behavior will change in pandas 3.0. This inplace method will never work because the intermediate object on which we are setting values always behaves as a copy.\n",
      "\n",
      "For example, when doing 'df[col].method(value, inplace=True)', try using 'df.method({col: value}, inplace=True)' or df[col] = df[col].method(value) instead, to perform the operation inplace on the original object.\n",
      "\n",
      "\n",
      "  test_df['Fare'].fillna(test_df['Fare'].mean(), inplace=True)\n"
     ]
    }
   ],
   "execution_count": 59
  },
  {
   "cell_type": "code",
   "id": "76f307a5",
   "metadata": {
    "papermill": {
     "duration": 0.051542,
     "end_time": "2023-11-04T22:17:53.427973",
     "exception": false,
     "start_time": "2023-11-04T22:17:53.376431",
     "status": "completed"
    },
    "tags": [],
    "ExecuteTime": {
     "end_time": "2024-09-16T17:37:04.784763Z",
     "start_time": "2024-09-16T17:37:04.781361Z"
    }
   },
   "source": [],
   "outputs": [],
   "execution_count": 59
  },
  {
   "cell_type": "code",
   "id": "650f94d8",
   "metadata": {
    "execution": {
     "iopub.execute_input": "2023-11-04T22:17:53.533730Z",
     "iopub.status.busy": "2023-11-04T22:17:53.532734Z",
     "iopub.status.idle": "2023-11-04T22:17:53.538245Z",
     "shell.execute_reply": "2023-11-04T22:17:53.537189Z"
    },
    "papermill": {
     "duration": 0.061847,
     "end_time": "2023-11-04T22:17:53.540777",
     "exception": false,
     "start_time": "2023-11-04T22:17:53.478930",
     "status": "completed"
    },
    "tags": [],
    "ExecuteTime": {
     "end_time": "2024-09-16T17:37:04.946092Z",
     "start_time": "2024-09-16T17:37:04.939825Z"
    }
   },
   "source": [
    "ohe = OneHotEncoder(sparse_output=False)\n",
    "ode = OrdinalEncoder\n",
    "SI = SimpleImputer(strategy='most_frequent')"
   ],
   "outputs": [],
   "execution_count": 60
  },
  {
   "cell_type": "code",
   "id": "09066b4b",
   "metadata": {
    "execution": {
     "iopub.execute_input": "2023-11-04T22:17:53.645805Z",
     "iopub.status.busy": "2023-11-04T22:17:53.644774Z",
     "iopub.status.idle": "2023-11-04T22:17:53.650118Z",
     "shell.execute_reply": "2023-11-04T22:17:53.649082Z"
    },
    "papermill": {
     "duration": 0.060122,
     "end_time": "2023-11-04T22:17:53.652500",
     "exception": false,
     "start_time": "2023-11-04T22:17:53.592378",
     "status": "completed"
    },
    "tags": [],
    "ExecuteTime": {
     "end_time": "2024-09-16T17:37:05.208964Z",
     "start_time": "2024-09-16T17:37:05.203165Z"
    }
   },
   "source": [
    "ode_cols = ['Family_Size_Grouped']\n",
    "ohe_cols = ['Sex', 'Embarked']"
   ],
   "outputs": [],
   "execution_count": 61
  },
  {
   "cell_type": "code",
   "id": "7cc0cd42",
   "metadata": {
    "execution": {
     "iopub.execute_input": "2023-11-04T22:17:53.757844Z",
     "iopub.status.busy": "2023-11-04T22:17:53.756904Z",
     "iopub.status.idle": "2023-11-04T22:17:54.702559Z",
     "shell.execute_reply": "2023-11-04T22:17:54.701229Z"
    },
    "papermill": {
     "duration": 1.001286,
     "end_time": "2023-11-04T22:17:54.705549",
     "exception": false,
     "start_time": "2023-11-04T22:17:53.704263",
     "status": "completed"
    },
    "tags": [],
    "ExecuteTime": {
     "end_time": "2024-09-16T17:37:06.805924Z",
     "start_time": "2024-09-16T17:37:05.344021Z"
    }
   },
   "source": [
    "correlation_matrix = train_df.corr(numeric_only=True)\n",
    "\n",
    "# Create a heatmap using Seaborn\n",
    "plt.figure(figsize=(8, 6))  # Adjust the figure size as needed\n",
    "sns.heatmap(correlation_matrix, annot=True, cmap='coolwarm', fmt=\".2f\")"
   ],
   "outputs": [
    {
     "data": {
      "text/plain": [
       "<Axes: >"
      ]
     },
     "execution_count": 62,
     "metadata": {},
     "output_type": "execute_result"
    },
    {
     "data": {
      "text/plain": [
       "<Figure size 800x600 with 2 Axes>"
      ],
      "image/png": "[encoded data removed]"
     },
     "metadata": {},
     "output_type": "display_data"
    }
   ],
   "execution_count": 62
  },
  {
   "cell_type": "code",
   "id": "c1f6600b",
   "metadata": {
    "execution": {
     "iopub.execute_input": "2023-11-04T22:17:54.812849Z",
     "iopub.status.busy": "2023-11-04T22:17:54.812425Z",
     "iopub.status.idle": "2023-11-04T22:17:54.818879Z",
     "shell.execute_reply": "2023-11-04T22:17:54.817191Z"
    },
    "papermill": {
     "duration": 0.063052,
     "end_time": "2023-11-04T22:17:54.821496",
     "exception": false,
     "start_time": "2023-11-04T22:17:54.758444",
     "status": "completed"
    },
    "tags": [],
    "ExecuteTime": {
     "end_time": "2024-09-16T17:37:06.813962Z",
     "start_time": "2024-09-16T17:37:06.808935Z"
    }
   },
   "source": [
    "#NEW Drop Sibsp, Parch, TicketNumberCounts"
   ],
   "outputs": [],
   "execution_count": 63
  },
  {
   "cell_type": "code",
   "id": "b8250caf",
   "metadata": {
    "execution": {
     "iopub.execute_input": "2023-11-04T22:17:54.935233Z",
     "iopub.status.busy": "2023-11-04T22:17:54.934810Z",
     "iopub.status.idle": "2023-11-04T22:17:54.945641Z",
     "shell.execute_reply": "2023-11-04T22:17:54.944208Z"
    },
    "papermill": {
     "duration": 0.07381,
     "end_time": "2023-11-04T22:17:54.948782",
     "exception": false,
     "start_time": "2023-11-04T22:17:54.874972",
     "status": "completed"
    },
    "tags": [],
    "ExecuteTime": {
     "end_time": "2024-09-16T17:37:06.834212Z",
     "start_time": "2024-09-16T17:37:06.816973Z"
    }
   },
   "source": [
    "#new\n",
    "X = train_df.drop(['Survived', 'SibSp', 'Parch'], axis=1)\n",
    "y = train_df['Survived']\n",
    "X_test = test_df.drop(['Age_Cut', 'Fare_Cut', 'SibSp', 'Parch'], axis=1)"
   ],
   "outputs": [],
   "execution_count": 64
  },
  {
   "cell_type": "code",
   "id": "f6b3ab3b",
   "metadata": {
    "execution": {
     "iopub.execute_input": "2023-11-04T22:17:55.086679Z",
     "iopub.status.busy": "2023-11-04T22:17:55.086259Z",
     "iopub.status.idle": "2023-11-04T22:17:55.092194Z",
     "shell.execute_reply": "2023-11-04T22:17:55.091070Z"
    },
    "papermill": {
     "duration": 0.084688,
     "end_time": "2023-11-04T22:17:55.094961",
     "exception": false,
     "start_time": "2023-11-04T22:17:55.010273",
     "status": "completed"
    },
    "tags": [],
    "ExecuteTime": {
     "end_time": "2024-09-16T17:37:06.848334Z",
     "start_time": "2024-09-16T17:37:06.840684Z"
    }
   },
   "source": [
    "#OLD\n",
    "#X = train_df.drop(['Survived'], axis=1)\n",
    "#y = train_df['Survived']\n",
    "#X_test = test_df.drop(['Age_Cut', 'Fare_Cut'], axis=1)"
   ],
   "outputs": [],
   "execution_count": 65
  },
  {
   "cell_type": "code",
   "id": "1793662d",
   "metadata": {
    "execution": {
     "iopub.execute_input": "2023-11-04T22:17:55.213152Z",
     "iopub.status.busy": "2023-11-04T22:17:55.212695Z",
     "iopub.status.idle": "2023-11-04T22:17:55.225452Z",
     "shell.execute_reply": "2023-11-04T22:17:55.224036Z"
    },
    "papermill": {
     "duration": 0.075801,
     "end_time": "2023-11-04T22:17:55.228621",
     "exception": false,
     "start_time": "2023-11-04T22:17:55.152820",
     "status": "completed"
    },
    "tags": [],
    "ExecuteTime": {
     "end_time": "2024-09-16T17:37:06.937796Z",
     "start_time": "2024-09-16T17:37:06.851343Z"
    }
   },
   "source": [
    "X_train, X_valid, y_train, y_valid = train_test_split(X, y, test_size=0.2, stratify = y, random_state=21)"
   ],
   "outputs": [],
   "execution_count": 66
  },
  {
   "cell_type": "code",
   "id": "972bb1d5",
   "metadata": {
    "execution": {
     "iopub.execute_input": "2023-11-04T22:17:55.337103Z",
     "iopub.status.busy": "2023-11-04T22:17:55.336251Z",
     "iopub.status.idle": "2023-11-04T22:17:55.342344Z",
     "shell.execute_reply": "2023-11-04T22:17:55.341500Z"
    },
    "papermill": {
     "duration": 0.062683,
     "end_time": "2023-11-04T22:17:55.344768",
     "exception": false,
     "start_time": "2023-11-04T22:17:55.282085",
     "status": "completed"
    },
    "tags": [],
    "ExecuteTime": {
     "end_time": "2024-09-16T17:37:06.950612Z",
     "start_time": "2024-09-16T17:37:06.938804Z"
    }
   },
   "source": [
    "ordinal_pipeline = Pipeline(steps=[\n",
    "    ('impute', SimpleImputer(strategy='most_frequent')),\n",
    "    ('ord', OrdinalEncoder(handle_unknown='use_encoded_value', unknown_value=-1))\n",
    "])"
   ],
   "outputs": [],
   "execution_count": 67
  },
  {
   "cell_type": "code",
   "id": "dcfb5834",
   "metadata": {
    "execution": {
     "iopub.execute_input": "2023-11-04T22:17:55.452048Z",
     "iopub.status.busy": "2023-11-04T22:17:55.451644Z",
     "iopub.status.idle": "2023-11-04T22:17:55.457675Z",
     "shell.execute_reply": "2023-11-04T22:17:55.456499Z"
    },
    "papermill": {
     "duration": 0.062616,
     "end_time": "2023-11-04T22:17:55.459994",
     "exception": false,
     "start_time": "2023-11-04T22:17:55.397378",
     "status": "completed"
    },
    "tags": [],
    "ExecuteTime": {
     "end_time": "2024-09-16T17:37:06.960292Z",
     "start_time": "2024-09-16T17:37:06.953622Z"
    }
   },
   "source": [
    "ohe_pipeline = Pipeline(steps=[\n",
    "    ('impute', SimpleImputer(strategy='most_frequent')),\n",
    "    ('one-hot', OneHotEncoder(handle_unknown = 'ignore', sparse_output=False))\n",
    "])"
   ],
   "outputs": [],
   "execution_count": 68
  },
  {
   "cell_type": "code",
   "id": "682c0cb4",
   "metadata": {
    "execution": {
     "iopub.execute_input": "2023-11-04T22:17:55.569618Z",
     "iopub.status.busy": "2023-11-04T22:17:55.568478Z",
     "iopub.status.idle": "2023-11-04T22:17:55.575510Z",
     "shell.execute_reply": "2023-11-04T22:17:55.574714Z"
    },
    "papermill": {
     "duration": 0.064555,
     "end_time": "2023-11-04T22:17:55.577909",
     "exception": false,
     "start_time": "2023-11-04T22:17:55.513354",
     "status": "completed"
    },
    "tags": [],
    "ExecuteTime": {
     "end_time": "2024-09-16T17:37:06.971742Z",
     "start_time": "2024-09-16T17:37:06.963302Z"
    }
   },
   "source": [
    "col_trans = ColumnTransformer(transformers=[\n",
    "    ('impute', SI, ['Age']),\n",
    "    ('ord_pipeline', ordinal_pipeline, ode_cols),\n",
    "    ('ohe_pipeline', ohe_pipeline, ohe_cols),\n",
    "   # ('passthrough', 'passthrough', ['Pclass', 'TicketNumberCounts', 'Cabin_Assigned', 'Name_Size', 'Age', 'Fare'])\n",
    "     ('passthrough', 'passthrough', ['Pclass', 'Cabin_Assigned', 'Name_Size', 'Age', 'Fare', 'TicketNumberCounts'])\n",
    "    ],\n",
    "    remainder='drop',\n",
    "    n_jobs=-1)"
   ],
   "outputs": [],
   "execution_count": 69
  },
  {
   "cell_type": "code",
   "id": "6754c295",
   "metadata": {
    "execution": {
     "iopub.execute_input": "2023-11-04T22:17:55.686268Z",
     "iopub.status.busy": "2023-11-04T22:17:55.685592Z",
     "iopub.status.idle": "2023-11-04T22:17:55.690916Z",
     "shell.execute_reply": "2023-11-04T22:17:55.689717Z"
    },
    "papermill": {
     "duration": 0.06233,
     "end_time": "2023-11-04T22:17:55.693366",
     "exception": false,
     "start_time": "2023-11-04T22:17:55.631036",
     "status": "completed"
    },
    "tags": [],
    "ExecuteTime": {
     "end_time": "2024-09-16T17:37:06.987562Z",
     "start_time": "2024-09-16T17:37:06.973756Z"
    }
   },
   "source": [
    "rfc = RandomForestClassifier()"
   ],
   "outputs": [],
   "execution_count": 70
  },
  {
   "cell_type": "code",
   "id": "38a8672b",
   "metadata": {
    "execution": {
     "iopub.execute_input": "2023-11-04T22:17:55.802147Z",
     "iopub.status.busy": "2023-11-04T22:17:55.801654Z",
     "iopub.status.idle": "2023-11-04T22:17:55.808444Z",
     "shell.execute_reply": "2023-11-04T22:17:55.807056Z"
    },
    "papermill": {
     "duration": 0.064597,
     "end_time": "2023-11-04T22:17:55.811151",
     "exception": false,
     "start_time": "2023-11-04T22:17:55.746554",
     "status": "completed"
    },
    "tags": [],
    "ExecuteTime": {
     "end_time": "2024-09-16T17:37:06.998711Z",
     "start_time": "2024-09-16T17:37:06.992571Z"
    }
   },
   "source": [
    "param_grid = {\n",
    "    'n_estimators': [150, 200, 300, 500],\n",
    "    'min_samples_split': [5, 10, 15],\n",
    "    'max_depth': [10, 13, 15, 17, 20],\n",
    "    'min_samples_leaf': [2, 4, 5, 6],\n",
    "    'criterion': ['gini', 'entropy'],\n",
    "}"
   ],
   "outputs": [],
   "execution_count": 71
  },
  {
   "cell_type": "code",
   "id": "963397ee",
   "metadata": {
    "execution": {
     "iopub.execute_input": "2023-11-04T22:17:55.921431Z",
     "iopub.status.busy": "2023-11-04T22:17:55.920768Z",
     "iopub.status.idle": "2023-11-04T22:17:55.926140Z",
     "shell.execute_reply": "2023-11-04T22:17:55.925249Z"
    },
    "papermill": {
     "duration": 0.064129,
     "end_time": "2023-11-04T22:17:55.928524",
     "exception": false,
     "start_time": "2023-11-04T22:17:55.864395",
     "status": "completed"
    },
    "tags": [],
    "ExecuteTime": {
     "end_time": "2024-09-16T17:37:07.058120Z",
     "start_time": "2024-09-16T17:37:07.046253Z"
    }
   },
   "source": [
    "CV_rfc = GridSearchCV(estimator=rfc, param_grid=param_grid, cv=StratifiedKFold(n_splits=5))"
   ],
   "outputs": [],
   "execution_count": 72
  },
  {
   "cell_type": "code",
   "id": "8961ce5f",
   "metadata": {
    "execution": {
     "iopub.execute_input": "2023-11-04T22:17:56.039384Z",
     "iopub.status.busy": "2023-11-04T22:17:56.038047Z",
     "iopub.status.idle": "2023-11-04T22:46:07.838379Z",
     "shell.execute_reply": "2023-11-04T22:46:07.836988Z"
    },
    "papermill": {
     "duration": 1691.911146,
     "end_time": "2023-11-04T22:46:07.893685",
     "exception": false,
     "start_time": "2023-11-04T22:17:55.982539",
     "status": "completed"
    },
    "tags": [],
    "ExecuteTime": {
     "end_time": "2024-09-16T17:51:30.095679Z",
     "start_time": "2024-09-16T17:37:07.648272Z"
    }
   },
   "source": [
    "pipefinalrfc = make_pipeline(col_trans, CV_rfc)\n",
    "pipefinalrfc.fit(X_train, y_train)"
   ],
   "outputs": [
    {
     "ename": "KeyboardInterrupt",
     "evalue": "",
     "output_type": "error",
     "traceback": [
      "\u001B[1;31m---------------------------------------------------------------------------\u001B[0m",
      "\u001B[1;31mKeyboardInterrupt\u001B[0m                         Traceback (most recent call last)",
      "Cell \u001B[1;32mIn[73], line 2\u001B[0m\n\u001B[0;32m      1\u001B[0m pipefinalrfc \u001B[38;5;241m=\u001B[39m make_pipeline(col_trans, CV_rfc)\n\u001B[1;32m----> 2\u001B[0m \u001B[43mpipefinalrfc\u001B[49m\u001B[38;5;241;43m.\u001B[39;49m\u001B[43mfit\u001B[49m\u001B[43m(\u001B[49m\u001B[43mX_train\u001B[49m\u001B[43m,\u001B[49m\u001B[43m \u001B[49m\u001B[43my_train\u001B[49m\u001B[43m)\u001B[49m\n",
      "File \u001B[1;32mC:\\Python312\\Lib\\site-packages\\sklearn\\base.py:1474\u001B[0m, in \u001B[0;36m_fit_context.<locals>.decorator.<locals>.wrapper\u001B[1;34m(estimator, *args, **kwargs)\u001B[0m\n\u001B[0;32m   1467\u001B[0m     estimator\u001B[38;5;241m.\u001B[39m_validate_params()\n\u001B[0;32m   1469\u001B[0m \u001B[38;5;28;01mwith\u001B[39;00m config_context(\n\u001B[0;32m   1470\u001B[0m     skip_parameter_validation\u001B[38;5;241m=\u001B[39m(\n\u001B[0;32m   1471\u001B[0m         prefer_skip_nested_validation \u001B[38;5;129;01mor\u001B[39;00m global_skip_validation\n\u001B[0;32m   1472\u001B[0m     )\n\u001B[0;32m   1473\u001B[0m ):\n\u001B[1;32m-> 1474\u001B[0m     \u001B[38;5;28;01mreturn\u001B[39;00m \u001B[43mfit_method\u001B[49m\u001B[43m(\u001B[49m\u001B[43mestimator\u001B[49m\u001B[43m,\u001B[49m\u001B[43m \u001B[49m\u001B[38;5;241;43m*\u001B[39;49m\u001B[43margs\u001B[49m\u001B[43m,\u001B[49m\u001B[43m \u001B[49m\u001B[38;5;241;43m*\u001B[39;49m\u001B[38;5;241;43m*\u001B[39;49m\u001B[43mkwargs\u001B[49m\u001B[43m)\u001B[49m\n",
      "File \u001B[1;32mC:\\Python312\\Lib\\site-packages\\sklearn\\pipeline.py:475\u001B[0m, in \u001B[0;36mPipeline.fit\u001B[1;34m(self, X, y, **params)\u001B[0m\n\u001B[0;32m    473\u001B[0m     \u001B[38;5;28;01mif\u001B[39;00m \u001B[38;5;28mself\u001B[39m\u001B[38;5;241m.\u001B[39m_final_estimator \u001B[38;5;241m!=\u001B[39m \u001B[38;5;124m\"\u001B[39m\u001B[38;5;124mpassthrough\u001B[39m\u001B[38;5;124m\"\u001B[39m:\n\u001B[0;32m    474\u001B[0m         last_step_params \u001B[38;5;241m=\u001B[39m routed_params[\u001B[38;5;28mself\u001B[39m\u001B[38;5;241m.\u001B[39msteps[\u001B[38;5;241m-\u001B[39m\u001B[38;5;241m1\u001B[39m][\u001B[38;5;241m0\u001B[39m]]\n\u001B[1;32m--> 475\u001B[0m         \u001B[38;5;28;43mself\u001B[39;49m\u001B[38;5;241;43m.\u001B[39;49m\u001B[43m_final_estimator\u001B[49m\u001B[38;5;241;43m.\u001B[39;49m\u001B[43mfit\u001B[49m\u001B[43m(\u001B[49m\u001B[43mXt\u001B[49m\u001B[43m,\u001B[49m\u001B[43m \u001B[49m\u001B[43my\u001B[49m\u001B[43m,\u001B[49m\u001B[43m \u001B[49m\u001B[38;5;241;43m*\u001B[39;49m\u001B[38;5;241;43m*\u001B[39;49m\u001B[43mlast_step_params\u001B[49m\u001B[43m[\u001B[49m\u001B[38;5;124;43m\"\u001B[39;49m\u001B[38;5;124;43mfit\u001B[39;49m\u001B[38;5;124;43m\"\u001B[39;49m\u001B[43m]\u001B[49m\u001B[43m)\u001B[49m\n\u001B[0;32m    477\u001B[0m \u001B[38;5;28;01mreturn\u001B[39;00m \u001B[38;5;28mself\u001B[39m\n",
      "File \u001B[1;32mC:\\Python312\\Lib\\site-packages\\sklearn\\base.py:1474\u001B[0m, in \u001B[0;36m_fit_context.<locals>.decorator.<locals>.wrapper\u001B[1;34m(estimator, *args, **kwargs)\u001B[0m\n\u001B[0;32m   1467\u001B[0m     estimator\u001B[38;5;241m.\u001B[39m_validate_params()\n\u001B[0;32m   1469\u001B[0m \u001B[38;5;28;01mwith\u001B[39;00m config_context(\n\u001B[0;32m   1470\u001B[0m     skip_parameter_validation\u001B[38;5;241m=\u001B[39m(\n\u001B[0;32m   1471\u001B[0m         prefer_skip_nested_validation \u001B[38;5;129;01mor\u001B[39;00m global_skip_validation\n\u001B[0;32m   1472\u001B[0m     )\n\u001B[0;32m   1473\u001B[0m ):\n\u001B[1;32m-> 1474\u001B[0m     \u001B[38;5;28;01mreturn\u001B[39;00m \u001B[43mfit_method\u001B[49m\u001B[43m(\u001B[49m\u001B[43mestimator\u001B[49m\u001B[43m,\u001B[49m\u001B[43m \u001B[49m\u001B[38;5;241;43m*\u001B[39;49m\u001B[43margs\u001B[49m\u001B[43m,\u001B[49m\u001B[43m \u001B[49m\u001B[38;5;241;43m*\u001B[39;49m\u001B[38;5;241;43m*\u001B[39;49m\u001B[43mkwargs\u001B[49m\u001B[43m)\u001B[49m\n",
      "File \u001B[1;32mC:\\Python312\\Lib\\site-packages\\sklearn\\model_selection\\_search.py:970\u001B[0m, in \u001B[0;36mBaseSearchCV.fit\u001B[1;34m(self, X, y, **params)\u001B[0m\n\u001B[0;32m    964\u001B[0m     results \u001B[38;5;241m=\u001B[39m \u001B[38;5;28mself\u001B[39m\u001B[38;5;241m.\u001B[39m_format_results(\n\u001B[0;32m    965\u001B[0m         all_candidate_params, n_splits, all_out, all_more_results\n\u001B[0;32m    966\u001B[0m     )\n\u001B[0;32m    968\u001B[0m     \u001B[38;5;28;01mreturn\u001B[39;00m results\n\u001B[1;32m--> 970\u001B[0m \u001B[38;5;28;43mself\u001B[39;49m\u001B[38;5;241;43m.\u001B[39;49m\u001B[43m_run_search\u001B[49m\u001B[43m(\u001B[49m\u001B[43mevaluate_candidates\u001B[49m\u001B[43m)\u001B[49m\n\u001B[0;32m    972\u001B[0m \u001B[38;5;66;03m# multimetric is determined here because in the case of a callable\u001B[39;00m\n\u001B[0;32m    973\u001B[0m \u001B[38;5;66;03m# self.scoring the return type is only known after calling\u001B[39;00m\n\u001B[0;32m    974\u001B[0m first_test_score \u001B[38;5;241m=\u001B[39m all_out[\u001B[38;5;241m0\u001B[39m][\u001B[38;5;124m\"\u001B[39m\u001B[38;5;124mtest_scores\u001B[39m\u001B[38;5;124m\"\u001B[39m]\n",
      "File \u001B[1;32mC:\\Python312\\Lib\\site-packages\\sklearn\\model_selection\\_search.py:1527\u001B[0m, in \u001B[0;36mGridSearchCV._run_search\u001B[1;34m(self, evaluate_candidates)\u001B[0m\n\u001B[0;32m   1525\u001B[0m \u001B[38;5;28;01mdef\u001B[39;00m \u001B[38;5;21m_run_search\u001B[39m(\u001B[38;5;28mself\u001B[39m, evaluate_candidates):\n\u001B[0;32m   1526\u001B[0m \u001B[38;5;250m    \u001B[39m\u001B[38;5;124;03m\"\"\"Search all candidates in param_grid\"\"\"\u001B[39;00m\n\u001B[1;32m-> 1527\u001B[0m     \u001B[43mevaluate_candidates\u001B[49m\u001B[43m(\u001B[49m\u001B[43mParameterGrid\u001B[49m\u001B[43m(\u001B[49m\u001B[38;5;28;43mself\u001B[39;49m\u001B[38;5;241;43m.\u001B[39;49m\u001B[43mparam_grid\u001B[49m\u001B[43m)\u001B[49m\u001B[43m)\u001B[49m\n",
      "File \u001B[1;32mC:\\Python312\\Lib\\site-packages\\sklearn\\model_selection\\_search.py:916\u001B[0m, in \u001B[0;36mBaseSearchCV.fit.<locals>.evaluate_candidates\u001B[1;34m(candidate_params, cv, more_results)\u001B[0m\n\u001B[0;32m    908\u001B[0m \u001B[38;5;28;01mif\u001B[39;00m \u001B[38;5;28mself\u001B[39m\u001B[38;5;241m.\u001B[39mverbose \u001B[38;5;241m>\u001B[39m \u001B[38;5;241m0\u001B[39m:\n\u001B[0;32m    909\u001B[0m     \u001B[38;5;28mprint\u001B[39m(\n\u001B[0;32m    910\u001B[0m         \u001B[38;5;124m\"\u001B[39m\u001B[38;5;124mFitting \u001B[39m\u001B[38;5;132;01m{0}\u001B[39;00m\u001B[38;5;124m folds for each of \u001B[39m\u001B[38;5;132;01m{1}\u001B[39;00m\u001B[38;5;124m candidates,\u001B[39m\u001B[38;5;124m\"\u001B[39m\n\u001B[0;32m    911\u001B[0m         \u001B[38;5;124m\"\u001B[39m\u001B[38;5;124m totalling \u001B[39m\u001B[38;5;132;01m{2}\u001B[39;00m\u001B[38;5;124m fits\u001B[39m\u001B[38;5;124m\"\u001B[39m\u001B[38;5;241m.\u001B[39mformat(\n\u001B[0;32m    912\u001B[0m             n_splits, n_candidates, n_candidates \u001B[38;5;241m*\u001B[39m n_splits\n\u001B[0;32m    913\u001B[0m         )\n\u001B[0;32m    914\u001B[0m     )\n\u001B[1;32m--> 916\u001B[0m out \u001B[38;5;241m=\u001B[39m \u001B[43mparallel\u001B[49m\u001B[43m(\u001B[49m\n\u001B[0;32m    917\u001B[0m \u001B[43m    \u001B[49m\u001B[43mdelayed\u001B[49m\u001B[43m(\u001B[49m\u001B[43m_fit_and_score\u001B[49m\u001B[43m)\u001B[49m\u001B[43m(\u001B[49m\n\u001B[0;32m    918\u001B[0m \u001B[43m        \u001B[49m\u001B[43mclone\u001B[49m\u001B[43m(\u001B[49m\u001B[43mbase_estimator\u001B[49m\u001B[43m)\u001B[49m\u001B[43m,\u001B[49m\n\u001B[0;32m    919\u001B[0m \u001B[43m        \u001B[49m\u001B[43mX\u001B[49m\u001B[43m,\u001B[49m\n\u001B[0;32m    920\u001B[0m \u001B[43m        \u001B[49m\u001B[43my\u001B[49m\u001B[43m,\u001B[49m\n\u001B[0;32m    921\u001B[0m \u001B[43m        \u001B[49m\u001B[43mtrain\u001B[49m\u001B[38;5;241;43m=\u001B[39;49m\u001B[43mtrain\u001B[49m\u001B[43m,\u001B[49m\n\u001B[0;32m    922\u001B[0m \u001B[43m        \u001B[49m\u001B[43mtest\u001B[49m\u001B[38;5;241;43m=\u001B[39;49m\u001B[43mtest\u001B[49m\u001B[43m,\u001B[49m\n\u001B[0;32m    923\u001B[0m \u001B[43m        \u001B[49m\u001B[43mparameters\u001B[49m\u001B[38;5;241;43m=\u001B[39;49m\u001B[43mparameters\u001B[49m\u001B[43m,\u001B[49m\n\u001B[0;32m    924\u001B[0m \u001B[43m        \u001B[49m\u001B[43msplit_progress\u001B[49m\u001B[38;5;241;43m=\u001B[39;49m\u001B[43m(\u001B[49m\u001B[43msplit_idx\u001B[49m\u001B[43m,\u001B[49m\u001B[43m \u001B[49m\u001B[43mn_splits\u001B[49m\u001B[43m)\u001B[49m\u001B[43m,\u001B[49m\n\u001B[0;32m    925\u001B[0m \u001B[43m        \u001B[49m\u001B[43mcandidate_progress\u001B[49m\u001B[38;5;241;43m=\u001B[39;49m\u001B[43m(\u001B[49m\u001B[43mcand_idx\u001B[49m\u001B[43m,\u001B[49m\u001B[43m \u001B[49m\u001B[43mn_candidates\u001B[49m\u001B[43m)\u001B[49m\u001B[43m,\u001B[49m\n\u001B[0;32m    926\u001B[0m \u001B[43m        \u001B[49m\u001B[38;5;241;43m*\u001B[39;49m\u001B[38;5;241;43m*\u001B[39;49m\u001B[43mfit_and_score_kwargs\u001B[49m\u001B[43m,\u001B[49m\n\u001B[0;32m    927\u001B[0m \u001B[43m    \u001B[49m\u001B[43m)\u001B[49m\n\u001B[0;32m    928\u001B[0m \u001B[43m    \u001B[49m\u001B[38;5;28;43;01mfor\u001B[39;49;00m\u001B[43m \u001B[49m\u001B[43m(\u001B[49m\u001B[43mcand_idx\u001B[49m\u001B[43m,\u001B[49m\u001B[43m \u001B[49m\u001B[43mparameters\u001B[49m\u001B[43m)\u001B[49m\u001B[43m,\u001B[49m\u001B[43m \u001B[49m\u001B[43m(\u001B[49m\u001B[43msplit_idx\u001B[49m\u001B[43m,\u001B[49m\u001B[43m \u001B[49m\u001B[43m(\u001B[49m\u001B[43mtrain\u001B[49m\u001B[43m,\u001B[49m\u001B[43m \u001B[49m\u001B[43mtest\u001B[49m\u001B[43m)\u001B[49m\u001B[43m)\u001B[49m\u001B[43m \u001B[49m\u001B[38;5;129;43;01min\u001B[39;49;00m\u001B[43m \u001B[49m\u001B[43mproduct\u001B[49m\u001B[43m(\u001B[49m\n\u001B[0;32m    929\u001B[0m \u001B[43m        \u001B[49m\u001B[38;5;28;43menumerate\u001B[39;49m\u001B[43m(\u001B[49m\u001B[43mcandidate_params\u001B[49m\u001B[43m)\u001B[49m\u001B[43m,\u001B[49m\n\u001B[0;32m    930\u001B[0m \u001B[43m        \u001B[49m\u001B[38;5;28;43menumerate\u001B[39;49m\u001B[43m(\u001B[49m\u001B[43mcv\u001B[49m\u001B[38;5;241;43m.\u001B[39;49m\u001B[43msplit\u001B[49m\u001B[43m(\u001B[49m\u001B[43mX\u001B[49m\u001B[43m,\u001B[49m\u001B[43m \u001B[49m\u001B[43my\u001B[49m\u001B[43m,\u001B[49m\u001B[43m \u001B[49m\u001B[38;5;241;43m*\u001B[39;49m\u001B[38;5;241;43m*\u001B[39;49m\u001B[43mrouted_params\u001B[49m\u001B[38;5;241;43m.\u001B[39;49m\u001B[43msplitter\u001B[49m\u001B[38;5;241;43m.\u001B[39;49m\u001B[43msplit\u001B[49m\u001B[43m)\u001B[49m\u001B[43m)\u001B[49m\u001B[43m,\u001B[49m\n\u001B[0;32m    931\u001B[0m \u001B[43m    \u001B[49m\u001B[43m)\u001B[49m\n\u001B[0;32m    932\u001B[0m \u001B[43m\u001B[49m\u001B[43m)\u001B[49m\n\u001B[0;32m    934\u001B[0m \u001B[38;5;28;01mif\u001B[39;00m \u001B[38;5;28mlen\u001B[39m(out) \u001B[38;5;241m<\u001B[39m \u001B[38;5;241m1\u001B[39m:\n\u001B[0;32m    935\u001B[0m     \u001B[38;5;28;01mraise\u001B[39;00m \u001B[38;5;167;01mValueError\u001B[39;00m(\n\u001B[0;32m    936\u001B[0m         \u001B[38;5;124m\"\u001B[39m\u001B[38;5;124mNo fits were performed. \u001B[39m\u001B[38;5;124m\"\u001B[39m\n\u001B[0;32m    937\u001B[0m         \u001B[38;5;124m\"\u001B[39m\u001B[38;5;124mWas the CV iterator empty? \u001B[39m\u001B[38;5;124m\"\u001B[39m\n\u001B[0;32m    938\u001B[0m         \u001B[38;5;124m\"\u001B[39m\u001B[38;5;124mWere there no candidates?\u001B[39m\u001B[38;5;124m\"\u001B[39m\n\u001B[0;32m    939\u001B[0m     )\n",
      "File \u001B[1;32mC:\\Python312\\Lib\\site-packages\\sklearn\\utils\\parallel.py:67\u001B[0m, in \u001B[0;36mParallel.__call__\u001B[1;34m(self, iterable)\u001B[0m\n\u001B[0;32m     62\u001B[0m config \u001B[38;5;241m=\u001B[39m get_config()\n\u001B[0;32m     63\u001B[0m iterable_with_config \u001B[38;5;241m=\u001B[39m (\n\u001B[0;32m     64\u001B[0m     (_with_config(delayed_func, config), args, kwargs)\n\u001B[0;32m     65\u001B[0m     \u001B[38;5;28;01mfor\u001B[39;00m delayed_func, args, kwargs \u001B[38;5;129;01min\u001B[39;00m iterable\n\u001B[0;32m     66\u001B[0m )\n\u001B[1;32m---> 67\u001B[0m \u001B[38;5;28;01mreturn\u001B[39;00m \u001B[38;5;28;43msuper\u001B[39;49m\u001B[43m(\u001B[49m\u001B[43m)\u001B[49m\u001B[38;5;241;43m.\u001B[39;49m\u001B[38;5;21;43m__call__\u001B[39;49m\u001B[43m(\u001B[49m\u001B[43miterable_with_config\u001B[49m\u001B[43m)\u001B[49m\n",
      "File \u001B[1;32mC:\\Python312\\Lib\\site-packages\\joblib\\parallel.py:1918\u001B[0m, in \u001B[0;36mParallel.__call__\u001B[1;34m(self, iterable)\u001B[0m\n\u001B[0;32m   1916\u001B[0m     output \u001B[38;5;241m=\u001B[39m \u001B[38;5;28mself\u001B[39m\u001B[38;5;241m.\u001B[39m_get_sequential_output(iterable)\n\u001B[0;32m   1917\u001B[0m     \u001B[38;5;28mnext\u001B[39m(output)\n\u001B[1;32m-> 1918\u001B[0m     \u001B[38;5;28;01mreturn\u001B[39;00m output \u001B[38;5;28;01mif\u001B[39;00m \u001B[38;5;28mself\u001B[39m\u001B[38;5;241m.\u001B[39mreturn_generator \u001B[38;5;28;01melse\u001B[39;00m \u001B[38;5;28;43mlist\u001B[39;49m\u001B[43m(\u001B[49m\u001B[43moutput\u001B[49m\u001B[43m)\u001B[49m\n\u001B[0;32m   1920\u001B[0m \u001B[38;5;66;03m# Let's create an ID that uniquely identifies the current call. If the\u001B[39;00m\n\u001B[0;32m   1921\u001B[0m \u001B[38;5;66;03m# call is interrupted early and that the same instance is immediately\u001B[39;00m\n\u001B[0;32m   1922\u001B[0m \u001B[38;5;66;03m# re-used, this id will be used to prevent workers that were\u001B[39;00m\n\u001B[0;32m   1923\u001B[0m \u001B[38;5;66;03m# concurrently finalizing a task from the previous call to run the\u001B[39;00m\n\u001B[0;32m   1924\u001B[0m \u001B[38;5;66;03m# callback.\u001B[39;00m\n\u001B[0;32m   1925\u001B[0m \u001B[38;5;28;01mwith\u001B[39;00m \u001B[38;5;28mself\u001B[39m\u001B[38;5;241m.\u001B[39m_lock:\n",
      "File \u001B[1;32mC:\\Python312\\Lib\\site-packages\\joblib\\parallel.py:1847\u001B[0m, in \u001B[0;36mParallel._get_sequential_output\u001B[1;34m(self, iterable)\u001B[0m\n\u001B[0;32m   1845\u001B[0m \u001B[38;5;28mself\u001B[39m\u001B[38;5;241m.\u001B[39mn_dispatched_batches \u001B[38;5;241m+\u001B[39m\u001B[38;5;241m=\u001B[39m \u001B[38;5;241m1\u001B[39m\n\u001B[0;32m   1846\u001B[0m \u001B[38;5;28mself\u001B[39m\u001B[38;5;241m.\u001B[39mn_dispatched_tasks \u001B[38;5;241m+\u001B[39m\u001B[38;5;241m=\u001B[39m \u001B[38;5;241m1\u001B[39m\n\u001B[1;32m-> 1847\u001B[0m res \u001B[38;5;241m=\u001B[39m \u001B[43mfunc\u001B[49m\u001B[43m(\u001B[49m\u001B[38;5;241;43m*\u001B[39;49m\u001B[43margs\u001B[49m\u001B[43m,\u001B[49m\u001B[43m \u001B[49m\u001B[38;5;241;43m*\u001B[39;49m\u001B[38;5;241;43m*\u001B[39;49m\u001B[43mkwargs\u001B[49m\u001B[43m)\u001B[49m\n\u001B[0;32m   1848\u001B[0m \u001B[38;5;28mself\u001B[39m\u001B[38;5;241m.\u001B[39mn_completed_tasks \u001B[38;5;241m+\u001B[39m\u001B[38;5;241m=\u001B[39m \u001B[38;5;241m1\u001B[39m\n\u001B[0;32m   1849\u001B[0m \u001B[38;5;28mself\u001B[39m\u001B[38;5;241m.\u001B[39mprint_progress()\n",
      "File \u001B[1;32mC:\\Python312\\Lib\\site-packages\\sklearn\\utils\\parallel.py:129\u001B[0m, in \u001B[0;36m_FuncWrapper.__call__\u001B[1;34m(self, *args, **kwargs)\u001B[0m\n\u001B[0;32m    127\u001B[0m     config \u001B[38;5;241m=\u001B[39m {}\n\u001B[0;32m    128\u001B[0m \u001B[38;5;28;01mwith\u001B[39;00m config_context(\u001B[38;5;241m*\u001B[39m\u001B[38;5;241m*\u001B[39mconfig):\n\u001B[1;32m--> 129\u001B[0m     \u001B[38;5;28;01mreturn\u001B[39;00m \u001B[38;5;28;43mself\u001B[39;49m\u001B[38;5;241;43m.\u001B[39;49m\u001B[43mfunction\u001B[49m\u001B[43m(\u001B[49m\u001B[38;5;241;43m*\u001B[39;49m\u001B[43margs\u001B[49m\u001B[43m,\u001B[49m\u001B[43m \u001B[49m\u001B[38;5;241;43m*\u001B[39;49m\u001B[38;5;241;43m*\u001B[39;49m\u001B[43mkwargs\u001B[49m\u001B[43m)\u001B[49m\n",
      "File \u001B[1;32mC:\\Python312\\Lib\\site-packages\\sklearn\\model_selection\\_validation.py:895\u001B[0m, in \u001B[0;36m_fit_and_score\u001B[1;34m(estimator, X, y, scorer, train, test, verbose, parameters, fit_params, score_params, return_train_score, return_parameters, return_n_test_samples, return_times, return_estimator, split_progress, candidate_progress, error_score)\u001B[0m\n\u001B[0;32m    893\u001B[0m         estimator\u001B[38;5;241m.\u001B[39mfit(X_train, \u001B[38;5;241m*\u001B[39m\u001B[38;5;241m*\u001B[39mfit_params)\n\u001B[0;32m    894\u001B[0m     \u001B[38;5;28;01melse\u001B[39;00m:\n\u001B[1;32m--> 895\u001B[0m         \u001B[43mestimator\u001B[49m\u001B[38;5;241;43m.\u001B[39;49m\u001B[43mfit\u001B[49m\u001B[43m(\u001B[49m\u001B[43mX_train\u001B[49m\u001B[43m,\u001B[49m\u001B[43m \u001B[49m\u001B[43my_train\u001B[49m\u001B[43m,\u001B[49m\u001B[43m \u001B[49m\u001B[38;5;241;43m*\u001B[39;49m\u001B[38;5;241;43m*\u001B[39;49m\u001B[43mfit_params\u001B[49m\u001B[43m)\u001B[49m\n\u001B[0;32m    897\u001B[0m \u001B[38;5;28;01mexcept\u001B[39;00m \u001B[38;5;167;01mException\u001B[39;00m:\n\u001B[0;32m    898\u001B[0m     \u001B[38;5;66;03m# Note fit time as time until error\u001B[39;00m\n\u001B[0;32m    899\u001B[0m     fit_time \u001B[38;5;241m=\u001B[39m time\u001B[38;5;241m.\u001B[39mtime() \u001B[38;5;241m-\u001B[39m start_time\n",
      "File \u001B[1;32mC:\\Python312\\Lib\\site-packages\\sklearn\\base.py:1474\u001B[0m, in \u001B[0;36m_fit_context.<locals>.decorator.<locals>.wrapper\u001B[1;34m(estimator, *args, **kwargs)\u001B[0m\n\u001B[0;32m   1467\u001B[0m     estimator\u001B[38;5;241m.\u001B[39m_validate_params()\n\u001B[0;32m   1469\u001B[0m \u001B[38;5;28;01mwith\u001B[39;00m config_context(\n\u001B[0;32m   1470\u001B[0m     skip_parameter_validation\u001B[38;5;241m=\u001B[39m(\n\u001B[0;32m   1471\u001B[0m         prefer_skip_nested_validation \u001B[38;5;129;01mor\u001B[39;00m global_skip_validation\n\u001B[0;32m   1472\u001B[0m     )\n\u001B[0;32m   1473\u001B[0m ):\n\u001B[1;32m-> 1474\u001B[0m     \u001B[38;5;28;01mreturn\u001B[39;00m \u001B[43mfit_method\u001B[49m\u001B[43m(\u001B[49m\u001B[43mestimator\u001B[49m\u001B[43m,\u001B[49m\u001B[43m \u001B[49m\u001B[38;5;241;43m*\u001B[39;49m\u001B[43margs\u001B[49m\u001B[43m,\u001B[49m\u001B[43m \u001B[49m\u001B[38;5;241;43m*\u001B[39;49m\u001B[38;5;241;43m*\u001B[39;49m\u001B[43mkwargs\u001B[49m\u001B[43m)\u001B[49m\n",
      "File \u001B[1;32mC:\\Python312\\Lib\\site-packages\\sklearn\\ensemble\\_forest.py:489\u001B[0m, in \u001B[0;36mBaseForest.fit\u001B[1;34m(self, X, y, sample_weight)\u001B[0m\n\u001B[0;32m    478\u001B[0m trees \u001B[38;5;241m=\u001B[39m [\n\u001B[0;32m    479\u001B[0m     \u001B[38;5;28mself\u001B[39m\u001B[38;5;241m.\u001B[39m_make_estimator(append\u001B[38;5;241m=\u001B[39m\u001B[38;5;28;01mFalse\u001B[39;00m, random_state\u001B[38;5;241m=\u001B[39mrandom_state)\n\u001B[0;32m    480\u001B[0m     \u001B[38;5;28;01mfor\u001B[39;00m i \u001B[38;5;129;01min\u001B[39;00m \u001B[38;5;28mrange\u001B[39m(n_more_estimators)\n\u001B[0;32m    481\u001B[0m ]\n\u001B[0;32m    483\u001B[0m \u001B[38;5;66;03m# Parallel loop: we prefer the threading backend as the Cython code\u001B[39;00m\n\u001B[0;32m    484\u001B[0m \u001B[38;5;66;03m# for fitting the trees is internally releasing the Python GIL\u001B[39;00m\n\u001B[0;32m    485\u001B[0m \u001B[38;5;66;03m# making threading more efficient than multiprocessing in\u001B[39;00m\n\u001B[0;32m    486\u001B[0m \u001B[38;5;66;03m# that case. However, for joblib 0.12+ we respect any\u001B[39;00m\n\u001B[0;32m    487\u001B[0m \u001B[38;5;66;03m# parallel_backend contexts set at a higher level,\u001B[39;00m\n\u001B[0;32m    488\u001B[0m \u001B[38;5;66;03m# since correctness does not rely on using threads.\u001B[39;00m\n\u001B[1;32m--> 489\u001B[0m trees \u001B[38;5;241m=\u001B[39m \u001B[43mParallel\u001B[49m\u001B[43m(\u001B[49m\n\u001B[0;32m    490\u001B[0m \u001B[43m    \u001B[49m\u001B[43mn_jobs\u001B[49m\u001B[38;5;241;43m=\u001B[39;49m\u001B[38;5;28;43mself\u001B[39;49m\u001B[38;5;241;43m.\u001B[39;49m\u001B[43mn_jobs\u001B[49m\u001B[43m,\u001B[49m\n\u001B[0;32m    491\u001B[0m \u001B[43m    \u001B[49m\u001B[43mverbose\u001B[49m\u001B[38;5;241;43m=\u001B[39;49m\u001B[38;5;28;43mself\u001B[39;49m\u001B[38;5;241;43m.\u001B[39;49m\u001B[43mverbose\u001B[49m\u001B[43m,\u001B[49m\n\u001B[0;32m    492\u001B[0m \u001B[43m    \u001B[49m\u001B[43mprefer\u001B[49m\u001B[38;5;241;43m=\u001B[39;49m\u001B[38;5;124;43m\"\u001B[39;49m\u001B[38;5;124;43mthreads\u001B[39;49m\u001B[38;5;124;43m\"\u001B[39;49m\u001B[43m,\u001B[49m\n\u001B[0;32m    493\u001B[0m \u001B[43m\u001B[49m\u001B[43m)\u001B[49m\u001B[43m(\u001B[49m\n\u001B[0;32m    494\u001B[0m \u001B[43m    \u001B[49m\u001B[43mdelayed\u001B[49m\u001B[43m(\u001B[49m\u001B[43m_parallel_build_trees\u001B[49m\u001B[43m)\u001B[49m\u001B[43m(\u001B[49m\n\u001B[0;32m    495\u001B[0m \u001B[43m        \u001B[49m\u001B[43mt\u001B[49m\u001B[43m,\u001B[49m\n\u001B[0;32m    496\u001B[0m \u001B[43m        \u001B[49m\u001B[38;5;28;43mself\u001B[39;49m\u001B[38;5;241;43m.\u001B[39;49m\u001B[43mbootstrap\u001B[49m\u001B[43m,\u001B[49m\n\u001B[0;32m    497\u001B[0m \u001B[43m        \u001B[49m\u001B[43mX\u001B[49m\u001B[43m,\u001B[49m\n\u001B[0;32m    498\u001B[0m \u001B[43m        \u001B[49m\u001B[43my\u001B[49m\u001B[43m,\u001B[49m\n\u001B[0;32m    499\u001B[0m \u001B[43m        \u001B[49m\u001B[43msample_weight\u001B[49m\u001B[43m,\u001B[49m\n\u001B[0;32m    500\u001B[0m \u001B[43m        \u001B[49m\u001B[43mi\u001B[49m\u001B[43m,\u001B[49m\n\u001B[0;32m    501\u001B[0m \u001B[43m        \u001B[49m\u001B[38;5;28;43mlen\u001B[39;49m\u001B[43m(\u001B[49m\u001B[43mtrees\u001B[49m\u001B[43m)\u001B[49m\u001B[43m,\u001B[49m\n\u001B[0;32m    502\u001B[0m \u001B[43m        \u001B[49m\u001B[43mverbose\u001B[49m\u001B[38;5;241;43m=\u001B[39;49m\u001B[38;5;28;43mself\u001B[39;49m\u001B[38;5;241;43m.\u001B[39;49m\u001B[43mverbose\u001B[49m\u001B[43m,\u001B[49m\n\u001B[0;32m    503\u001B[0m \u001B[43m        \u001B[49m\u001B[43mclass_weight\u001B[49m\u001B[38;5;241;43m=\u001B[39;49m\u001B[38;5;28;43mself\u001B[39;49m\u001B[38;5;241;43m.\u001B[39;49m\u001B[43mclass_weight\u001B[49m\u001B[43m,\u001B[49m\n\u001B[0;32m    504\u001B[0m \u001B[43m        \u001B[49m\u001B[43mn_samples_bootstrap\u001B[49m\u001B[38;5;241;43m=\u001B[39;49m\u001B[43mn_samples_bootstrap\u001B[49m\u001B[43m,\u001B[49m\n\u001B[0;32m    505\u001B[0m \u001B[43m        \u001B[49m\u001B[43mmissing_values_in_feature_mask\u001B[49m\u001B[38;5;241;43m=\u001B[39;49m\u001B[43mmissing_values_in_feature_mask\u001B[49m\u001B[43m,\u001B[49m\n\u001B[0;32m    506\u001B[0m \u001B[43m    \u001B[49m\u001B[43m)\u001B[49m\n\u001B[0;32m    507\u001B[0m \u001B[43m    \u001B[49m\u001B[38;5;28;43;01mfor\u001B[39;49;00m\u001B[43m \u001B[49m\u001B[43mi\u001B[49m\u001B[43m,\u001B[49m\u001B[43m \u001B[49m\u001B[43mt\u001B[49m\u001B[43m \u001B[49m\u001B[38;5;129;43;01min\u001B[39;49;00m\u001B[43m \u001B[49m\u001B[38;5;28;43menumerate\u001B[39;49m\u001B[43m(\u001B[49m\u001B[43mtrees\u001B[49m\u001B[43m)\u001B[49m\n\u001B[0;32m    508\u001B[0m \u001B[43m\u001B[49m\u001B[43m)\u001B[49m\n\u001B[0;32m    510\u001B[0m \u001B[38;5;66;03m# Collect newly grown trees\u001B[39;00m\n\u001B[0;32m    511\u001B[0m \u001B[38;5;28mself\u001B[39m\u001B[38;5;241m.\u001B[39mestimators_\u001B[38;5;241m.\u001B[39mextend(trees)\n",
      "File \u001B[1;32mC:\\Python312\\Lib\\site-packages\\sklearn\\utils\\parallel.py:67\u001B[0m, in \u001B[0;36mParallel.__call__\u001B[1;34m(self, iterable)\u001B[0m\n\u001B[0;32m     62\u001B[0m config \u001B[38;5;241m=\u001B[39m get_config()\n\u001B[0;32m     63\u001B[0m iterable_with_config \u001B[38;5;241m=\u001B[39m (\n\u001B[0;32m     64\u001B[0m     (_with_config(delayed_func, config), args, kwargs)\n\u001B[0;32m     65\u001B[0m     \u001B[38;5;28;01mfor\u001B[39;00m delayed_func, args, kwargs \u001B[38;5;129;01min\u001B[39;00m iterable\n\u001B[0;32m     66\u001B[0m )\n\u001B[1;32m---> 67\u001B[0m \u001B[38;5;28;01mreturn\u001B[39;00m \u001B[38;5;28;43msuper\u001B[39;49m\u001B[43m(\u001B[49m\u001B[43m)\u001B[49m\u001B[38;5;241;43m.\u001B[39;49m\u001B[38;5;21;43m__call__\u001B[39;49m\u001B[43m(\u001B[49m\u001B[43miterable_with_config\u001B[49m\u001B[43m)\u001B[49m\n",
      "File \u001B[1;32mC:\\Python312\\Lib\\site-packages\\joblib\\parallel.py:1918\u001B[0m, in \u001B[0;36mParallel.__call__\u001B[1;34m(self, iterable)\u001B[0m\n\u001B[0;32m   1916\u001B[0m     output \u001B[38;5;241m=\u001B[39m \u001B[38;5;28mself\u001B[39m\u001B[38;5;241m.\u001B[39m_get_sequential_output(iterable)\n\u001B[0;32m   1917\u001B[0m     \u001B[38;5;28mnext\u001B[39m(output)\n\u001B[1;32m-> 1918\u001B[0m     \u001B[38;5;28;01mreturn\u001B[39;00m output \u001B[38;5;28;01mif\u001B[39;00m \u001B[38;5;28mself\u001B[39m\u001B[38;5;241m.\u001B[39mreturn_generator \u001B[38;5;28;01melse\u001B[39;00m \u001B[38;5;28;43mlist\u001B[39;49m\u001B[43m(\u001B[49m\u001B[43moutput\u001B[49m\u001B[43m)\u001B[49m\n\u001B[0;32m   1920\u001B[0m \u001B[38;5;66;03m# Let's create an ID that uniquely identifies the current call. If the\u001B[39;00m\n\u001B[0;32m   1921\u001B[0m \u001B[38;5;66;03m# call is interrupted early and that the same instance is immediately\u001B[39;00m\n\u001B[0;32m   1922\u001B[0m \u001B[38;5;66;03m# re-used, this id will be used to prevent workers that were\u001B[39;00m\n\u001B[0;32m   1923\u001B[0m \u001B[38;5;66;03m# concurrently finalizing a task from the previous call to run the\u001B[39;00m\n\u001B[0;32m   1924\u001B[0m \u001B[38;5;66;03m# callback.\u001B[39;00m\n\u001B[0;32m   1925\u001B[0m \u001B[38;5;28;01mwith\u001B[39;00m \u001B[38;5;28mself\u001B[39m\u001B[38;5;241m.\u001B[39m_lock:\n",
      "File \u001B[1;32mC:\\Python312\\Lib\\site-packages\\joblib\\parallel.py:1847\u001B[0m, in \u001B[0;36mParallel._get_sequential_output\u001B[1;34m(self, iterable)\u001B[0m\n\u001B[0;32m   1845\u001B[0m \u001B[38;5;28mself\u001B[39m\u001B[38;5;241m.\u001B[39mn_dispatched_batches \u001B[38;5;241m+\u001B[39m\u001B[38;5;241m=\u001B[39m \u001B[38;5;241m1\u001B[39m\n\u001B[0;32m   1846\u001B[0m \u001B[38;5;28mself\u001B[39m\u001B[38;5;241m.\u001B[39mn_dispatched_tasks \u001B[38;5;241m+\u001B[39m\u001B[38;5;241m=\u001B[39m \u001B[38;5;241m1\u001B[39m\n\u001B[1;32m-> 1847\u001B[0m res \u001B[38;5;241m=\u001B[39m \u001B[43mfunc\u001B[49m\u001B[43m(\u001B[49m\u001B[38;5;241;43m*\u001B[39;49m\u001B[43margs\u001B[49m\u001B[43m,\u001B[49m\u001B[43m \u001B[49m\u001B[38;5;241;43m*\u001B[39;49m\u001B[38;5;241;43m*\u001B[39;49m\u001B[43mkwargs\u001B[49m\u001B[43m)\u001B[49m\n\u001B[0;32m   1848\u001B[0m \u001B[38;5;28mself\u001B[39m\u001B[38;5;241m.\u001B[39mn_completed_tasks \u001B[38;5;241m+\u001B[39m\u001B[38;5;241m=\u001B[39m \u001B[38;5;241m1\u001B[39m\n\u001B[0;32m   1849\u001B[0m \u001B[38;5;28mself\u001B[39m\u001B[38;5;241m.\u001B[39mprint_progress()\n",
      "File \u001B[1;32mC:\\Python312\\Lib\\site-packages\\sklearn\\utils\\parallel.py:129\u001B[0m, in \u001B[0;36m_FuncWrapper.__call__\u001B[1;34m(self, *args, **kwargs)\u001B[0m\n\u001B[0;32m    127\u001B[0m     config \u001B[38;5;241m=\u001B[39m {}\n\u001B[0;32m    128\u001B[0m \u001B[38;5;28;01mwith\u001B[39;00m config_context(\u001B[38;5;241m*\u001B[39m\u001B[38;5;241m*\u001B[39mconfig):\n\u001B[1;32m--> 129\u001B[0m     \u001B[38;5;28;01mreturn\u001B[39;00m \u001B[38;5;28;43mself\u001B[39;49m\u001B[38;5;241;43m.\u001B[39;49m\u001B[43mfunction\u001B[49m\u001B[43m(\u001B[49m\u001B[38;5;241;43m*\u001B[39;49m\u001B[43margs\u001B[49m\u001B[43m,\u001B[49m\u001B[43m \u001B[49m\u001B[38;5;241;43m*\u001B[39;49m\u001B[38;5;241;43m*\u001B[39;49m\u001B[43mkwargs\u001B[49m\u001B[43m)\u001B[49m\n",
      "File \u001B[1;32mC:\\Python312\\Lib\\site-packages\\sklearn\\ensemble\\_forest.py:192\u001B[0m, in \u001B[0;36m_parallel_build_trees\u001B[1;34m(tree, bootstrap, X, y, sample_weight, tree_idx, n_trees, verbose, class_weight, n_samples_bootstrap, missing_values_in_feature_mask)\u001B[0m\n\u001B[0;32m    189\u001B[0m     \u001B[38;5;28;01melif\u001B[39;00m class_weight \u001B[38;5;241m==\u001B[39m \u001B[38;5;124m\"\u001B[39m\u001B[38;5;124mbalanced_subsample\u001B[39m\u001B[38;5;124m\"\u001B[39m:\n\u001B[0;32m    190\u001B[0m         curr_sample_weight \u001B[38;5;241m*\u001B[39m\u001B[38;5;241m=\u001B[39m compute_sample_weight(\u001B[38;5;124m\"\u001B[39m\u001B[38;5;124mbalanced\u001B[39m\u001B[38;5;124m\"\u001B[39m, y, indices\u001B[38;5;241m=\u001B[39mindices)\n\u001B[1;32m--> 192\u001B[0m     \u001B[43mtree\u001B[49m\u001B[38;5;241;43m.\u001B[39;49m\u001B[43m_fit\u001B[49m\u001B[43m(\u001B[49m\n\u001B[0;32m    193\u001B[0m \u001B[43m        \u001B[49m\u001B[43mX\u001B[49m\u001B[43m,\u001B[49m\n\u001B[0;32m    194\u001B[0m \u001B[43m        \u001B[49m\u001B[43my\u001B[49m\u001B[43m,\u001B[49m\n\u001B[0;32m    195\u001B[0m \u001B[43m        \u001B[49m\u001B[43msample_weight\u001B[49m\u001B[38;5;241;43m=\u001B[39;49m\u001B[43mcurr_sample_weight\u001B[49m\u001B[43m,\u001B[49m\n\u001B[0;32m    196\u001B[0m \u001B[43m        \u001B[49m\u001B[43mcheck_input\u001B[49m\u001B[38;5;241;43m=\u001B[39;49m\u001B[38;5;28;43;01mFalse\u001B[39;49;00m\u001B[43m,\u001B[49m\n\u001B[0;32m    197\u001B[0m \u001B[43m        \u001B[49m\u001B[43mmissing_values_in_feature_mask\u001B[49m\u001B[38;5;241;43m=\u001B[39;49m\u001B[43mmissing_values_in_feature_mask\u001B[49m\u001B[43m,\u001B[49m\n\u001B[0;32m    198\u001B[0m \u001B[43m    \u001B[49m\u001B[43m)\u001B[49m\n\u001B[0;32m    199\u001B[0m \u001B[38;5;28;01melse\u001B[39;00m:\n\u001B[0;32m    200\u001B[0m     tree\u001B[38;5;241m.\u001B[39m_fit(\n\u001B[0;32m    201\u001B[0m         X,\n\u001B[0;32m    202\u001B[0m         y,\n\u001B[1;32m   (...)\u001B[0m\n\u001B[0;32m    205\u001B[0m         missing_values_in_feature_mask\u001B[38;5;241m=\u001B[39mmissing_values_in_feature_mask,\n\u001B[0;32m    206\u001B[0m     )\n",
      "File \u001B[1;32mC:\\Python312\\Lib\\site-packages\\sklearn\\tree\\_classes.py:305\u001B[0m, in \u001B[0;36mBaseDecisionTree._fit\u001B[1;34m(self, X, y, sample_weight, check_input, missing_values_in_feature_mask)\u001B[0m\n\u001B[0;32m    303\u001B[0m y_encoded \u001B[38;5;241m=\u001B[39m np\u001B[38;5;241m.\u001B[39mzeros(y\u001B[38;5;241m.\u001B[39mshape, dtype\u001B[38;5;241m=\u001B[39m\u001B[38;5;28mint\u001B[39m)\n\u001B[0;32m    304\u001B[0m \u001B[38;5;28;01mfor\u001B[39;00m k \u001B[38;5;129;01min\u001B[39;00m \u001B[38;5;28mrange\u001B[39m(\u001B[38;5;28mself\u001B[39m\u001B[38;5;241m.\u001B[39mn_outputs_):\n\u001B[1;32m--> 305\u001B[0m     classes_k, y_encoded[:, k] \u001B[38;5;241m=\u001B[39m \u001B[43mnp\u001B[49m\u001B[38;5;241;43m.\u001B[39;49m\u001B[43munique\u001B[49m\u001B[43m(\u001B[49m\u001B[43my\u001B[49m\u001B[43m[\u001B[49m\u001B[43m:\u001B[49m\u001B[43m,\u001B[49m\u001B[43m \u001B[49m\u001B[43mk\u001B[49m\u001B[43m]\u001B[49m\u001B[43m,\u001B[49m\u001B[43m \u001B[49m\u001B[43mreturn_inverse\u001B[49m\u001B[38;5;241;43m=\u001B[39;49m\u001B[38;5;28;43;01mTrue\u001B[39;49;00m\u001B[43m)\u001B[49m\n\u001B[0;32m    306\u001B[0m     \u001B[38;5;28mself\u001B[39m\u001B[38;5;241m.\u001B[39mclasses_\u001B[38;5;241m.\u001B[39mappend(classes_k)\n\u001B[0;32m    307\u001B[0m     \u001B[38;5;28mself\u001B[39m\u001B[38;5;241m.\u001B[39mn_classes_\u001B[38;5;241m.\u001B[39mappend(classes_k\u001B[38;5;241m.\u001B[39mshape[\u001B[38;5;241m0\u001B[39m])\n",
      "File \u001B[1;32mC:\\Python312\\Lib\\site-packages\\numpy\\lib\\arraysetops.py:274\u001B[0m, in \u001B[0;36munique\u001B[1;34m(ar, return_index, return_inverse, return_counts, axis, equal_nan)\u001B[0m\n\u001B[0;32m    272\u001B[0m ar \u001B[38;5;241m=\u001B[39m np\u001B[38;5;241m.\u001B[39masanyarray(ar)\n\u001B[0;32m    273\u001B[0m \u001B[38;5;28;01mif\u001B[39;00m axis \u001B[38;5;129;01mis\u001B[39;00m \u001B[38;5;28;01mNone\u001B[39;00m:\n\u001B[1;32m--> 274\u001B[0m     ret \u001B[38;5;241m=\u001B[39m \u001B[43m_unique1d\u001B[49m\u001B[43m(\u001B[49m\u001B[43mar\u001B[49m\u001B[43m,\u001B[49m\u001B[43m \u001B[49m\u001B[43mreturn_index\u001B[49m\u001B[43m,\u001B[49m\u001B[43m \u001B[49m\u001B[43mreturn_inverse\u001B[49m\u001B[43m,\u001B[49m\u001B[43m \u001B[49m\u001B[43mreturn_counts\u001B[49m\u001B[43m,\u001B[49m\u001B[43m \u001B[49m\n\u001B[0;32m    275\u001B[0m \u001B[43m                    \u001B[49m\u001B[43mequal_nan\u001B[49m\u001B[38;5;241;43m=\u001B[39;49m\u001B[43mequal_nan\u001B[49m\u001B[43m)\u001B[49m\n\u001B[0;32m    276\u001B[0m     \u001B[38;5;28;01mreturn\u001B[39;00m _unpack_tuple(ret)\n\u001B[0;32m    278\u001B[0m \u001B[38;5;66;03m# axis was specified and not None\u001B[39;00m\n",
      "File \u001B[1;32mC:\\Python312\\Lib\\site-packages\\numpy\\lib\\arraysetops.py:333\u001B[0m, in \u001B[0;36m_unique1d\u001B[1;34m(ar, return_index, return_inverse, return_counts, equal_nan)\u001B[0m\n\u001B[0;32m    330\u001B[0m optional_indices \u001B[38;5;241m=\u001B[39m return_index \u001B[38;5;129;01mor\u001B[39;00m return_inverse\n\u001B[0;32m    332\u001B[0m \u001B[38;5;28;01mif\u001B[39;00m optional_indices:\n\u001B[1;32m--> 333\u001B[0m     perm \u001B[38;5;241m=\u001B[39m \u001B[43mar\u001B[49m\u001B[38;5;241;43m.\u001B[39;49m\u001B[43margsort\u001B[49m\u001B[43m(\u001B[49m\u001B[43mkind\u001B[49m\u001B[38;5;241;43m=\u001B[39;49m\u001B[38;5;124;43m'\u001B[39;49m\u001B[38;5;124;43mmergesort\u001B[39;49m\u001B[38;5;124;43m'\u001B[39;49m\u001B[43m \u001B[49m\u001B[38;5;28;43;01mif\u001B[39;49;00m\u001B[43m \u001B[49m\u001B[43mreturn_index\u001B[49m\u001B[43m \u001B[49m\u001B[38;5;28;43;01melse\u001B[39;49;00m\u001B[43m \u001B[49m\u001B[38;5;124;43m'\u001B[39;49m\u001B[38;5;124;43mquicksort\u001B[39;49m\u001B[38;5;124;43m'\u001B[39;49m\u001B[43m)\u001B[49m\n\u001B[0;32m    334\u001B[0m     aux \u001B[38;5;241m=\u001B[39m ar[perm]\n\u001B[0;32m    335\u001B[0m \u001B[38;5;28;01melse\u001B[39;00m:\n",
      "\u001B[1;31mKeyboardInterrupt\u001B[0m: "
     ]
    }
   ],
   "execution_count": 73
  },
  {
   "cell_type": "code",
   "id": "7b9702f9",
   "metadata": {
    "execution": {
     "iopub.execute_input": "2023-11-04T22:46:08.004763Z",
     "iopub.status.busy": "2023-11-04T22:46:08.004238Z",
     "iopub.status.idle": "2023-11-04T22:46:08.010679Z",
     "shell.execute_reply": "2023-11-04T22:46:08.009430Z"
    },
    "papermill": {
     "duration": 0.06601,
     "end_time": "2023-11-04T22:46:08.013356",
     "exception": false,
     "start_time": "2023-11-04T22:46:07.947346",
     "status": "completed"
    },
    "tags": []
   },
   "source": [
    "print(CV_rfc.best_params_)\n",
    "print(CV_rfc.best_score_)"
   ],
   "outputs": [],
   "execution_count": null
  },
  {
   "cell_type": "code",
   "id": "a2f8422b",
   "metadata": {
    "execution": {
     "iopub.execute_input": "2023-11-04T22:46:08.125405Z",
     "iopub.status.busy": "2023-11-04T22:46:08.124474Z",
     "iopub.status.idle": "2023-11-04T22:46:08.130740Z",
     "shell.execute_reply": "2023-11-04T22:46:08.129351Z"
    },
    "papermill": {
     "duration": 0.066492,
     "end_time": "2023-11-04T22:46:08.133767",
     "exception": false,
     "start_time": "2023-11-04T22:46:08.067275",
     "status": "completed"
    },
    "tags": []
   },
   "source": [
    "dtc = DecisionTreeClassifier()"
   ],
   "outputs": [],
   "execution_count": null
  },
  {
   "cell_type": "code",
   "id": "48302bd3",
   "metadata": {
    "execution": {
     "iopub.execute_input": "2023-11-04T22:46:08.246320Z",
     "iopub.status.busy": "2023-11-04T22:46:08.245862Z",
     "iopub.status.idle": "2023-11-04T22:46:08.252233Z",
     "shell.execute_reply": "2023-11-04T22:46:08.250935Z"
    },
    "papermill": {
     "duration": 0.065983,
     "end_time": "2023-11-04T22:46:08.254909",
     "exception": false,
     "start_time": "2023-11-04T22:46:08.188926",
     "status": "completed"
    },
    "tags": []
   },
   "source": [
    "param_grid = {\n",
    "    'min_samples_split': [5, 10, 15],\n",
    "    'max_depth': [10, 20, 30],\n",
    "    'min_samples_leaf': [1, 2, 4],\n",
    "    'criterion': ['gini', 'entropy'],\n",
    "}"
   ],
   "outputs": [],
   "execution_count": null
  },
  {
   "cell_type": "code",
   "id": "2feeda97",
   "metadata": {
    "execution": {
     "iopub.execute_input": "2023-11-04T22:46:08.368211Z",
     "iopub.status.busy": "2023-11-04T22:46:08.367776Z",
     "iopub.status.idle": "2023-11-04T22:46:08.372964Z",
     "shell.execute_reply": "2023-11-04T22:46:08.372025Z"
    },
    "papermill": {
     "duration": 0.064674,
     "end_time": "2023-11-04T22:46:08.375181",
     "exception": false,
     "start_time": "2023-11-04T22:46:08.310507",
     "status": "completed"
    },
    "tags": []
   },
   "source": [
    "CV_dtc = GridSearchCV(estimator=dtc, param_grid=param_grid, cv=StratifiedKFold(n_splits=5))"
   ],
   "outputs": [],
   "execution_count": null
  },
  {
   "cell_type": "code",
   "id": "7d1925fe",
   "metadata": {
    "execution": {
     "iopub.execute_input": "2023-11-04T22:46:08.492868Z",
     "iopub.status.busy": "2023-11-04T22:46:08.492426Z",
     "iopub.status.idle": "2023-11-04T22:46:11.421295Z",
     "shell.execute_reply": "2023-11-04T22:46:11.420326Z"
    },
    "papermill": {
     "duration": 2.989474,
     "end_time": "2023-11-04T22:46:11.423877",
     "exception": false,
     "start_time": "2023-11-04T22:46:08.434403",
     "status": "completed"
    },
    "tags": []
   },
   "source": [
    "pipefinaldtc = make_pipeline(col_trans, CV_dtc)\n",
    "pipefinaldtc.fit(X_train, y_train)"
   ],
   "outputs": [],
   "execution_count": null
  },
  {
   "cell_type": "code",
   "id": "033dc476",
   "metadata": {
    "execution": {
     "iopub.execute_input": "2023-11-04T22:46:11.542546Z",
     "iopub.status.busy": "2023-11-04T22:46:11.541410Z",
     "iopub.status.idle": "2023-11-04T22:46:11.548433Z",
     "shell.execute_reply": "2023-11-04T22:46:11.546733Z"
    },
    "papermill": {
     "duration": 0.069067,
     "end_time": "2023-11-04T22:46:11.551166",
     "exception": false,
     "start_time": "2023-11-04T22:46:11.482099",
     "status": "completed"
    },
    "tags": []
   },
   "source": [
    "print(CV_dtc.best_params_)\n",
    "print(CV_dtc.best_score_)"
   ],
   "outputs": [],
   "execution_count": null
  },
  {
   "cell_type": "code",
   "id": "cb70fde7",
   "metadata": {
    "execution": {
     "iopub.execute_input": "2023-11-04T22:46:11.669505Z",
     "iopub.status.busy": "2023-11-04T22:46:11.668905Z",
     "iopub.status.idle": "2023-11-04T22:46:11.675353Z",
     "shell.execute_reply": "2023-11-04T22:46:11.673818Z"
    },
    "papermill": {
     "duration": 0.068721,
     "end_time": "2023-11-04T22:46:11.677983",
     "exception": false,
     "start_time": "2023-11-04T22:46:11.609262",
     "status": "completed"
    },
    "tags": []
   },
   "source": [
    "knn = KNeighborsClassifier()"
   ],
   "outputs": [],
   "execution_count": null
  },
  {
   "cell_type": "code",
   "id": "c8784c70",
   "metadata": {
    "execution": {
     "iopub.execute_input": "2023-11-04T22:46:11.789747Z",
     "iopub.status.busy": "2023-11-04T22:46:11.788911Z",
     "iopub.status.idle": "2023-11-04T22:46:11.795889Z",
     "shell.execute_reply": "2023-11-04T22:46:11.794706Z"
    },
    "papermill": {
     "duration": 0.065744,
     "end_time": "2023-11-04T22:46:11.798671",
     "exception": false,
     "start_time": "2023-11-04T22:46:11.732927",
     "status": "completed"
    },
    "tags": []
   },
   "source": [
    "param_grid = {\n",
    "    'n_neighbors': [3, 5, 7, 9, 11],\n",
    "    'weights': ['uniform', 'distance'],\n",
    "    'algorithm': ['auto', 'ball_tree', 'kd_tree', 'brute'],\n",
    "    'p': [1,2],\n",
    "}"
   ],
   "outputs": [],
   "execution_count": null
  },
  {
   "cell_type": "code",
   "id": "45f0b32d",
   "metadata": {
    "execution": {
     "iopub.execute_input": "2023-11-04T22:46:11.920203Z",
     "iopub.status.busy": "2023-11-04T22:46:11.919423Z",
     "iopub.status.idle": "2023-11-04T22:46:11.924352Z",
     "shell.execute_reply": "2023-11-04T22:46:11.923403Z"
    },
    "papermill": {
     "duration": 0.069811,
     "end_time": "2023-11-04T22:46:11.927397",
     "exception": false,
     "start_time": "2023-11-04T22:46:11.857586",
     "status": "completed"
    },
    "tags": []
   },
   "source": [
    "CV_knn = GridSearchCV(estimator=knn, param_grid=param_grid, cv=StratifiedKFold(n_splits=5))"
   ],
   "outputs": [],
   "execution_count": null
  },
  {
   "cell_type": "code",
   "id": "77d276e6",
   "metadata": {
    "execution": {
     "iopub.execute_input": "2023-11-04T22:46:12.053811Z",
     "iopub.status.busy": "2023-11-04T22:46:12.052965Z",
     "iopub.status.idle": "2023-11-04T22:46:16.773324Z",
     "shell.execute_reply": "2023-11-04T22:46:16.772107Z"
    },
    "papermill": {
     "duration": 4.788967,
     "end_time": "2023-11-04T22:46:16.776064",
     "exception": false,
     "start_time": "2023-11-04T22:46:11.987097",
     "status": "completed"
    },
    "tags": []
   },
   "source": [
    "pipefinalknn = make_pipeline(col_trans, CV_knn)\n",
    "pipefinalknn.fit(X_train, y_train)"
   ],
   "outputs": [],
   "execution_count": null
  },
  {
   "cell_type": "code",
   "id": "dc9d3f54",
   "metadata": {
    "execution": {
     "iopub.execute_input": "2023-11-04T22:46:16.894379Z",
     "iopub.status.busy": "2023-11-04T22:46:16.893955Z",
     "iopub.status.idle": "2023-11-04T22:46:16.899925Z",
     "shell.execute_reply": "2023-11-04T22:46:16.898713Z"
    },
    "papermill": {
     "duration": 0.068028,
     "end_time": "2023-11-04T22:46:16.903039",
     "exception": false,
     "start_time": "2023-11-04T22:46:16.835011",
     "status": "completed"
    },
    "tags": []
   },
   "source": [
    "print(CV_knn.best_params_)\n",
    "print(CV_knn.best_score_)"
   ],
   "outputs": [],
   "execution_count": null
  },
  {
   "cell_type": "code",
   "id": "19c2f6e1",
   "metadata": {
    "execution": {
     "iopub.execute_input": "2023-11-04T22:46:17.016711Z",
     "iopub.status.busy": "2023-11-04T22:46:17.016263Z",
     "iopub.status.idle": "2023-11-04T22:46:17.021536Z",
     "shell.execute_reply": "2023-11-04T22:46:17.020159Z"
    },
    "papermill": {
     "duration": 0.065572,
     "end_time": "2023-11-04T22:46:17.024240",
     "exception": false,
     "start_time": "2023-11-04T22:46:16.958668",
     "status": "completed"
    },
    "tags": []
   },
   "source": [
    "svc = SVC(probability=True)"
   ],
   "outputs": [],
   "execution_count": null
  },
  {
   "cell_type": "code",
   "id": "fc3f0cd6",
   "metadata": {
    "execution": {
     "iopub.execute_input": "2023-11-04T22:46:17.137696Z",
     "iopub.status.busy": "2023-11-04T22:46:17.136929Z",
     "iopub.status.idle": "2023-11-04T22:46:17.142613Z",
     "shell.execute_reply": "2023-11-04T22:46:17.141752Z"
    },
    "papermill": {
     "duration": 0.065199,
     "end_time": "2023-11-04T22:46:17.145279",
     "exception": false,
     "start_time": "2023-11-04T22:46:17.080080",
     "status": "completed"
    },
    "tags": []
   },
   "source": [
    "param_grid = {\n",
    "    'C': [100,10, 1.0, 0.1, 0.001, 0.001],\n",
    "    'kernel':['linear', 'poly', 'rbf', 'sigmoid'],\n",
    "}"
   ],
   "outputs": [],
   "execution_count": null
  },
  {
   "cell_type": "code",
   "id": "ba16ec2f",
   "metadata": {
    "execution": {
     "iopub.execute_input": "2023-11-04T22:46:17.257945Z",
     "iopub.status.busy": "2023-11-04T22:46:17.257482Z",
     "iopub.status.idle": "2023-11-04T22:46:17.263201Z",
     "shell.execute_reply": "2023-11-04T22:46:17.261802Z"
    },
    "papermill": {
     "duration": 0.064119,
     "end_time": "2023-11-04T22:46:17.265411",
     "exception": false,
     "start_time": "2023-11-04T22:46:17.201292",
     "status": "completed"
    },
    "tags": []
   },
   "source": [
    "CV_svc = GridSearchCV(estimator=svc, param_grid=param_grid, cv=StratifiedKFold(n_splits=5))"
   ],
   "outputs": [],
   "execution_count": null
  },
  {
   "cell_type": "code",
   "id": "e4ae89b0",
   "metadata": {
    "execution": {
     "iopub.execute_input": "2023-11-04T22:46:17.377715Z",
     "iopub.status.busy": "2023-11-04T22:46:17.376743Z",
     "iopub.status.idle": "2023-11-04T22:50:22.110427Z",
     "shell.execute_reply": "2023-11-04T22:50:22.109265Z"
    },
    "papermill": {
     "duration": 244.847949,
     "end_time": "2023-11-04T22:50:22.167813",
     "exception": false,
     "start_time": "2023-11-04T22:46:17.319864",
     "status": "completed"
    },
    "tags": []
   },
   "source": [
    "pipefinalsvc = make_pipeline(col_trans, CV_svc)\n",
    "pipefinalsvc.fit(X_train, y_train)"
   ],
   "outputs": [],
   "execution_count": null
  },
  {
   "cell_type": "code",
   "id": "81a8d536",
   "metadata": {
    "execution": {
     "iopub.execute_input": "2023-11-04T22:50:22.281477Z",
     "iopub.status.busy": "2023-11-04T22:50:22.280963Z",
     "iopub.status.idle": "2023-11-04T22:50:22.289164Z",
     "shell.execute_reply": "2023-11-04T22:50:22.287200Z"
    },
    "papermill": {
     "duration": 0.068088,
     "end_time": "2023-11-04T22:50:22.291869",
     "exception": false,
     "start_time": "2023-11-04T22:50:22.223781",
     "status": "completed"
    },
    "tags": []
   },
   "source": [
    "print(CV_svc.best_params_)\n",
    "print(CV_svc.best_score_)"
   ],
   "outputs": [],
   "execution_count": null
  },
  {
   "cell_type": "code",
   "id": "37100e95",
   "metadata": {
    "execution": {
     "iopub.execute_input": "2023-11-04T22:50:22.406150Z",
     "iopub.status.busy": "2023-11-04T22:50:22.405769Z",
     "iopub.status.idle": "2023-11-04T22:50:22.411316Z",
     "shell.execute_reply": "2023-11-04T22:50:22.410000Z"
    },
    "papermill": {
     "duration": 0.06542,
     "end_time": "2023-11-04T22:50:22.414136",
     "exception": false,
     "start_time": "2023-11-04T22:50:22.348716",
     "status": "completed"
    },
    "tags": []
   },
   "source": [
    "lr = LogisticRegression()"
   ],
   "outputs": [],
   "execution_count": null
  },
  {
   "cell_type": "code",
   "id": "79547916",
   "metadata": {
    "execution": {
     "iopub.execute_input": "2023-11-04T22:50:22.527103Z",
     "iopub.status.busy": "2023-11-04T22:50:22.526596Z",
     "iopub.status.idle": "2023-11-04T22:50:22.532987Z",
     "shell.execute_reply": "2023-11-04T22:50:22.531560Z"
    },
    "papermill": {
     "duration": 0.065859,
     "end_time": "2023-11-04T22:50:22.535455",
     "exception": false,
     "start_time": "2023-11-04T22:50:22.469596",
     "status": "completed"
    },
    "tags": []
   },
   "source": [
    "param_grid = {\n",
    "    'C': [100,10, 1.0, 0.1, 0.001, 0.001],\n",
    "}"
   ],
   "outputs": [],
   "execution_count": null
  },
  {
   "cell_type": "code",
   "id": "0ca4db73",
   "metadata": {
    "execution": {
     "iopub.execute_input": "2023-11-04T22:50:22.648603Z",
     "iopub.status.busy": "2023-11-04T22:50:22.648222Z",
     "iopub.status.idle": "2023-11-04T22:50:22.654043Z",
     "shell.execute_reply": "2023-11-04T22:50:22.652690Z"
    },
    "papermill": {
     "duration": 0.065641,
     "end_time": "2023-11-04T22:50:22.657025",
     "exception": false,
     "start_time": "2023-11-04T22:50:22.591384",
     "status": "completed"
    },
    "tags": []
   },
   "source": [
    "CV_lr = GridSearchCV(estimator=lr, param_grid=param_grid, cv=StratifiedKFold(n_splits=5))"
   ],
   "outputs": [],
   "execution_count": null
  },
  {
   "cell_type": "code",
   "id": "cd8ad12a",
   "metadata": {
    "execution": {
     "iopub.execute_input": "2023-11-04T22:50:22.779143Z",
     "iopub.status.busy": "2023-11-04T22:50:22.778671Z",
     "iopub.status.idle": "2023-11-04T22:50:23.398686Z",
     "shell.execute_reply": "2023-11-04T22:50:23.397459Z"
    },
    "papermill": {
     "duration": 0.685411,
     "end_time": "2023-11-04T22:50:23.401711",
     "exception": false,
     "start_time": "2023-11-04T22:50:22.716300",
     "status": "completed"
    },
    "tags": []
   },
   "source": [
    "pipefinallr= make_pipeline(col_trans, CV_lr)\n",
    "pipefinallr.fit(X_train, y_train)"
   ],
   "outputs": [],
   "execution_count": null
  },
  {
   "cell_type": "code",
   "id": "22b57567",
   "metadata": {
    "execution": {
     "iopub.execute_input": "2023-11-04T22:50:23.523043Z",
     "iopub.status.busy": "2023-11-04T22:50:23.522612Z",
     "iopub.status.idle": "2023-11-04T22:50:23.529251Z",
     "shell.execute_reply": "2023-11-04T22:50:23.527983Z"
    },
    "papermill": {
     "duration": 0.070347,
     "end_time": "2023-11-04T22:50:23.531989",
     "exception": false,
     "start_time": "2023-11-04T22:50:23.461642",
     "status": "completed"
    },
    "tags": []
   },
   "source": [
    "print(CV_lr.best_params_)\n",
    "print(CV_lr.best_score_)"
   ],
   "outputs": [],
   "execution_count": null
  },
  {
   "cell_type": "code",
   "id": "6918958f",
   "metadata": {
    "execution": {
     "iopub.execute_input": "2023-11-04T22:50:23.649023Z",
     "iopub.status.busy": "2023-11-04T22:50:23.647593Z",
     "iopub.status.idle": "2023-11-04T22:50:23.654120Z",
     "shell.execute_reply": "2023-11-04T22:50:23.652904Z"
    },
    "papermill": {
     "duration": 0.067348,
     "end_time": "2023-11-04T22:50:23.656556",
     "exception": false,
     "start_time": "2023-11-04T22:50:23.589208",
     "status": "completed"
    },
    "tags": []
   },
   "source": [
    "gnb = GaussianNB()"
   ],
   "outputs": [],
   "execution_count": null
  },
  {
   "cell_type": "code",
   "id": "8f75aa4e",
   "metadata": {
    "execution": {
     "iopub.execute_input": "2023-11-04T22:50:23.770585Z",
     "iopub.status.busy": "2023-11-04T22:50:23.770080Z",
     "iopub.status.idle": "2023-11-04T22:50:23.776560Z",
     "shell.execute_reply": "2023-11-04T22:50:23.775231Z"
    },
    "papermill": {
     "duration": 0.06674,
     "end_time": "2023-11-04T22:50:23.779105",
     "exception": false,
     "start_time": "2023-11-04T22:50:23.712365",
     "status": "completed"
    },
    "tags": []
   },
   "source": [
    "param_grid = {\n",
    "    'var_smoothing': [0.00000001, 0.000000001, 0.00000001],\n",
    "}"
   ],
   "outputs": [],
   "execution_count": null
  },
  {
   "cell_type": "code",
   "id": "34b88508",
   "metadata": {
    "execution": {
     "iopub.execute_input": "2023-11-04T22:50:23.893731Z",
     "iopub.status.busy": "2023-11-04T22:50:23.892445Z",
     "iopub.status.idle": "2023-11-04T22:50:23.899879Z",
     "shell.execute_reply": "2023-11-04T22:50:23.898412Z"
    },
    "papermill": {
     "duration": 0.068268,
     "end_time": "2023-11-04T22:50:23.902991",
     "exception": false,
     "start_time": "2023-11-04T22:50:23.834723",
     "status": "completed"
    },
    "tags": []
   },
   "source": [
    "CV_gnb = GridSearchCV(estimator=gnb, param_grid=param_grid, cv=StratifiedKFold(n_splits=5))"
   ],
   "outputs": [],
   "execution_count": null
  },
  {
   "cell_type": "code",
   "id": "aacf7ba4",
   "metadata": {
    "execution": {
     "iopub.execute_input": "2023-11-04T22:50:24.031022Z",
     "iopub.status.busy": "2023-11-04T22:50:24.030568Z",
     "iopub.status.idle": "2023-11-04T22:50:24.242348Z",
     "shell.execute_reply": "2023-11-04T22:50:24.241385Z"
    },
    "papermill": {
     "duration": 0.279685,
     "end_time": "2023-11-04T22:50:24.244811",
     "exception": false,
     "start_time": "2023-11-04T22:50:23.965126",
     "status": "completed"
    },
    "tags": []
   },
   "source": [
    "pipefinalgnb= make_pipeline(col_trans, CV_gnb)\n",
    "pipefinalgnb.fit(X_train, y_train)"
   ],
   "outputs": [],
   "execution_count": null
  },
  {
   "cell_type": "code",
   "id": "17fa8102",
   "metadata": {
    "execution": {
     "iopub.execute_input": "2023-11-04T22:50:24.374009Z",
     "iopub.status.busy": "2023-11-04T22:50:24.373532Z",
     "iopub.status.idle": "2023-11-04T22:50:24.380925Z",
     "shell.execute_reply": "2023-11-04T22:50:24.379376Z"
    },
    "papermill": {
     "duration": 0.077668,
     "end_time": "2023-11-04T22:50:24.384036",
     "exception": false,
     "start_time": "2023-11-04T22:50:24.306368",
     "status": "completed"
    },
    "tags": []
   },
   "source": [
    "print(CV_gnb.best_params_)\n",
    "print(CV_gnb.best_score_)"
   ],
   "outputs": [],
   "execution_count": null
  },
  {
   "cell_type": "code",
   "id": "1374ba4c",
   "metadata": {
    "execution": {
     "iopub.execute_input": "2023-11-04T22:50:24.512808Z",
     "iopub.status.busy": "2023-11-04T22:50:24.511761Z",
     "iopub.status.idle": "2023-11-04T22:50:24.517808Z",
     "shell.execute_reply": "2023-11-04T22:50:24.516475Z"
    },
    "papermill": {
     "duration": 0.074017,
     "end_time": "2023-11-04T22:50:24.520400",
     "exception": false,
     "start_time": "2023-11-04T22:50:24.446383",
     "status": "completed"
    },
    "tags": []
   },
   "source": [
    "xg = XGBClassifier()"
   ],
   "outputs": [],
   "execution_count": null
  },
  {
   "cell_type": "code",
   "id": "bb3d32fb",
   "metadata": {
    "execution": {
     "iopub.execute_input": "2023-11-04T22:50:24.641488Z",
     "iopub.status.busy": "2023-11-04T22:50:24.640997Z",
     "iopub.status.idle": "2023-11-04T22:50:24.647080Z",
     "shell.execute_reply": "2023-11-04T22:50:24.645949Z"
    },
    "papermill": {
     "duration": 0.066539,
     "end_time": "2023-11-04T22:50:24.649376",
     "exception": false,
     "start_time": "2023-11-04T22:50:24.582837",
     "status": "completed"
    },
    "tags": []
   },
   "source": [
    "param_grid = {\n",
    "     'booster': ['gbtree', 'gblinear','dart'],\n",
    "}"
   ],
   "outputs": [],
   "execution_count": null
  },
  {
   "cell_type": "code",
   "id": "75beb3bc",
   "metadata": {
    "execution": {
     "iopub.execute_input": "2023-11-04T22:50:24.764727Z",
     "iopub.status.busy": "2023-11-04T22:50:24.763983Z",
     "iopub.status.idle": "2023-11-04T22:50:24.771349Z",
     "shell.execute_reply": "2023-11-04T22:50:24.769966Z"
    },
    "papermill": {
     "duration": 0.068215,
     "end_time": "2023-11-04T22:50:24.774116",
     "exception": false,
     "start_time": "2023-11-04T22:50:24.705901",
     "status": "completed"
    },
    "tags": []
   },
   "source": [
    "CV_xg = GridSearchCV(estimator=xg, param_grid=param_grid, cv=StratifiedKFold(n_splits=5))"
   ],
   "outputs": [],
   "execution_count": null
  },
  {
   "cell_type": "code",
   "id": "7fdfd0a2",
   "metadata": {
    "execution": {
     "iopub.execute_input": "2023-11-04T22:50:24.892811Z",
     "iopub.status.busy": "2023-11-04T22:50:24.891971Z",
     "iopub.status.idle": "2023-11-04T22:50:28.184608Z",
     "shell.execute_reply": "2023-11-04T22:50:28.183055Z"
    },
    "papermill": {
     "duration": 3.357726,
     "end_time": "2023-11-04T22:50:28.188009",
     "exception": false,
     "start_time": "2023-11-04T22:50:24.830283",
     "status": "completed"
    },
    "tags": []
   },
   "source": [
    "pipefinalxg= make_pipeline(col_trans, CV_xg)\n",
    "pipefinalxg.fit(X_train, y_train)"
   ],
   "outputs": [],
   "execution_count": null
  },
  {
   "cell_type": "code",
   "id": "cdb5991b",
   "metadata": {
    "execution": {
     "iopub.execute_input": "2023-11-04T22:50:28.316298Z",
     "iopub.status.busy": "2023-11-04T22:50:28.315860Z",
     "iopub.status.idle": "2023-11-04T22:50:28.323483Z",
     "shell.execute_reply": "2023-11-04T22:50:28.321834Z"
    },
    "papermill": {
     "duration": 0.073853,
     "end_time": "2023-11-04T22:50:28.326654",
     "exception": false,
     "start_time": "2023-11-04T22:50:28.252801",
     "status": "completed"
    },
    "tags": []
   },
   "source": [
    "print(CV_xg.best_params_)\n",
    "print(CV_xg.best_score_)"
   ],
   "outputs": [],
   "execution_count": null
  },
  {
   "cell_type": "code",
   "id": "e925fca0",
   "metadata": {
    "execution": {
     "iopub.execute_input": "2023-11-04T22:50:28.453404Z",
     "iopub.status.busy": "2023-11-04T22:50:28.452978Z",
     "iopub.status.idle": "2023-11-04T22:50:28.458447Z",
     "shell.execute_reply": "2023-11-04T22:50:28.457020Z"
    },
    "papermill": {
     "duration": 0.069682,
     "end_time": "2023-11-04T22:50:28.461032",
     "exception": false,
     "start_time": "2023-11-04T22:50:28.391350",
     "status": "completed"
    },
    "tags": []
   },
   "source": [
    "abc = AdaBoostClassifier()"
   ],
   "outputs": [],
   "execution_count": null
  },
  {
   "cell_type": "code",
   "id": "c07e5a72",
   "metadata": {
    "execution": {
     "iopub.execute_input": "2023-11-04T22:50:28.587989Z",
     "iopub.status.busy": "2023-11-04T22:50:28.587565Z",
     "iopub.status.idle": "2023-11-04T22:50:28.594727Z",
     "shell.execute_reply": "2023-11-04T22:50:28.593196Z"
    },
    "papermill": {
     "duration": 0.072998,
     "end_time": "2023-11-04T22:50:28.597466",
     "exception": false,
     "start_time": "2023-11-04T22:50:28.524468",
     "status": "completed"
    },
    "tags": []
   },
   "source": [
    "dtc_2 = DecisionTreeClassifier(criterion = 'entropy', max_depth=10,min_samples_leaf=4, min_samples_split=10)  \n",
    "svc_2 = SVC(probability=True, C=10, kernel='rbf') \n",
    "lr_2 = LogisticRegression(C=0.1) \n",
    "lr_3 = LogisticRegression(C=0.2) \n",
    "lr_4 = LogisticRegression(C=0.05) "
   ],
   "outputs": [],
   "execution_count": null
  },
  {
   "cell_type": "code",
   "id": "b66e12ec",
   "metadata": {
    "execution": {
     "iopub.execute_input": "2023-11-04T22:50:28.720979Z",
     "iopub.status.busy": "2023-11-04T22:50:28.720511Z",
     "iopub.status.idle": "2023-11-04T22:50:28.727466Z",
     "shell.execute_reply": "2023-11-04T22:50:28.725985Z"
    },
    "papermill": {
     "duration": 0.070316,
     "end_time": "2023-11-04T22:50:28.730026",
     "exception": false,
     "start_time": "2023-11-04T22:50:28.659710",
     "status": "completed"
    },
    "tags": []
   },
   "source": [
    "param_grid = {\n",
    "    'estimator': [dtc_2, svc_2, lr_2], \n",
    "    'n_estimators':  [5, 10, 25, 50, 100],\n",
    "    'algorithm': ['SAMME', 'SAMME.R'],\n",
    "    'learning_rate': [(0.97 + x / 100) for x in range(1, 7)]  \n",
    "}\n"
   ],
   "outputs": [],
   "execution_count": null
  },
  {
   "cell_type": "code",
   "id": "5adfb95c",
   "metadata": {
    "execution": {
     "iopub.execute_input": "2023-11-04T22:50:28.847304Z",
     "iopub.status.busy": "2023-11-04T22:50:28.846833Z",
     "iopub.status.idle": "2023-11-04T22:50:28.852639Z",
     "shell.execute_reply": "2023-11-04T22:50:28.851349Z"
    },
    "papermill": {
     "duration": 0.067137,
     "end_time": "2023-11-04T22:50:28.854872",
     "exception": false,
     "start_time": "2023-11-04T22:50:28.787735",
     "status": "completed"
    },
    "tags": []
   },
   "source": [
    "CV_abc = GridSearchCV(estimator=abc, param_grid=param_grid, cv=StratifiedKFold(n_splits=5))"
   ],
   "outputs": [],
   "execution_count": null
  },
  {
   "cell_type": "code",
   "id": "3efce0f6",
   "metadata": {
    "execution": {
     "iopub.execute_input": "2023-11-04T22:50:28.970804Z",
     "iopub.status.busy": "2023-11-04T22:50:28.970379Z",
     "iopub.status.idle": "2023-11-04T23:08:07.132898Z",
     "shell.execute_reply": "2023-11-04T23:08:07.131656Z"
    },
    "papermill": {
     "duration": 1058.281483,
     "end_time": "2023-11-04T23:08:07.193904",
     "exception": false,
     "start_time": "2023-11-04T22:50:28.912421",
     "status": "completed"
    },
    "tags": []
   },
   "source": [
    "pipefinalabc= make_pipeline(col_trans, CV_abc)\n",
    "pipefinalabc.fit(X_train, y_train)"
   ],
   "outputs": [],
   "execution_count": null
  },
  {
   "cell_type": "code",
   "id": "345afb5c",
   "metadata": {
    "execution": {
     "iopub.execute_input": "2023-11-04T23:08:07.311695Z",
     "iopub.status.busy": "2023-11-04T23:08:07.311322Z",
     "iopub.status.idle": "2023-11-04T23:08:07.317743Z",
     "shell.execute_reply": "2023-11-04T23:08:07.316595Z"
    },
    "papermill": {
     "duration": 0.067694,
     "end_time": "2023-11-04T23:08:07.320081",
     "exception": false,
     "start_time": "2023-11-04T23:08:07.252387",
     "status": "completed"
    },
    "tags": []
   },
   "source": [
    "print(CV_abc.best_params_)\n",
    "print(CV_abc.best_score_)"
   ],
   "outputs": [],
   "execution_count": null
  },
  {
   "cell_type": "code",
   "id": "89ab557f",
   "metadata": {
    "execution": {
     "iopub.execute_input": "2023-11-04T23:08:07.437799Z",
     "iopub.status.busy": "2023-11-04T23:08:07.437352Z",
     "iopub.status.idle": "2023-11-04T23:08:07.442342Z",
     "shell.execute_reply": "2023-11-04T23:08:07.441162Z"
    },
    "papermill": {
     "duration": 0.06739,
     "end_time": "2023-11-04T23:08:07.444765",
     "exception": false,
     "start_time": "2023-11-04T23:08:07.377375",
     "status": "completed"
    },
    "tags": []
   },
   "source": [
    "etc = ExtraTreesClassifier()"
   ],
   "outputs": [],
   "execution_count": null
  },
  {
   "cell_type": "code",
   "id": "5a26c997",
   "metadata": {
    "execution": {
     "iopub.execute_input": "2023-11-04T23:08:07.567177Z",
     "iopub.status.busy": "2023-11-04T23:08:07.566236Z",
     "iopub.status.idle": "2023-11-04T23:08:07.572471Z",
     "shell.execute_reply": "2023-11-04T23:08:07.571687Z"
    },
    "papermill": {
     "duration": 0.070212,
     "end_time": "2023-11-04T23:08:07.574814",
     "exception": false,
     "start_time": "2023-11-04T23:08:07.504602",
     "status": "completed"
    },
    "tags": []
   },
   "source": [
    "param_grid = {\n",
    "              \"max_features\": [1, 3, 10],\n",
    "              \"min_samples_split\": [2, 3, 10],\n",
    "              \"min_samples_leaf\": [1, 3, 10],\n",
    "              \"n_estimators\" :[100,300],\n",
    "}"
   ],
   "outputs": [],
   "execution_count": null
  },
  {
   "cell_type": "code",
   "id": "af46f9c0",
   "metadata": {
    "execution": {
     "iopub.execute_input": "2023-11-04T23:08:07.697898Z",
     "iopub.status.busy": "2023-11-04T23:08:07.696988Z",
     "iopub.status.idle": "2023-11-04T23:08:07.703097Z",
     "shell.execute_reply": "2023-11-04T23:08:07.701989Z"
    },
    "papermill": {
     "duration": 0.069653,
     "end_time": "2023-11-04T23:08:07.705545",
     "exception": false,
     "start_time": "2023-11-04T23:08:07.635892",
     "status": "completed"
    },
    "tags": []
   },
   "source": [
    "CV_etc = GridSearchCV(estimator=etc, param_grid=param_grid, cv=StratifiedKFold(n_splits=5))"
   ],
   "outputs": [],
   "execution_count": null
  },
  {
   "cell_type": "code",
   "id": "df2759c1",
   "metadata": {
    "execution": {
     "iopub.execute_input": "2023-11-04T23:08:07.826407Z",
     "iopub.status.busy": "2023-11-04T23:08:07.825974Z",
     "iopub.status.idle": "2023-11-04T23:09:53.337727Z",
     "shell.execute_reply": "2023-11-04T23:09:53.336380Z"
    },
    "papermill": {
     "duration": 105.633758,
     "end_time": "2023-11-04T23:09:53.398913",
     "exception": false,
     "start_time": "2023-11-04T23:08:07.765155",
     "status": "completed"
    },
    "tags": []
   },
   "source": [
    "pipefinaletc= make_pipeline(col_trans, CV_etc)\n",
    "pipefinaletc.fit(X_train, y_train)"
   ],
   "outputs": [],
   "execution_count": null
  },
  {
   "cell_type": "code",
   "id": "4d475b14",
   "metadata": {
    "execution": {
     "iopub.execute_input": "2023-11-04T23:09:53.517840Z",
     "iopub.status.busy": "2023-11-04T23:09:53.516604Z",
     "iopub.status.idle": "2023-11-04T23:09:53.522930Z",
     "shell.execute_reply": "2023-11-04T23:09:53.521615Z"
    },
    "papermill": {
     "duration": 0.067984,
     "end_time": "2023-11-04T23:09:53.525013",
     "exception": false,
     "start_time": "2023-11-04T23:09:53.457029",
     "status": "completed"
    },
    "tags": []
   },
   "source": [
    "print(CV_etc.best_params_)\n",
    "print(CV_etc.best_score_)"
   ],
   "outputs": [],
   "execution_count": null
  },
  {
   "cell_type": "code",
   "id": "4a84b9d9",
   "metadata": {
    "execution": {
     "iopub.execute_input": "2023-11-04T23:09:53.643911Z",
     "iopub.status.busy": "2023-11-04T23:09:53.643217Z",
     "iopub.status.idle": "2023-11-04T23:09:53.647754Z",
     "shell.execute_reply": "2023-11-04T23:09:53.646826Z"
    },
    "papermill": {
     "duration": 0.066952,
     "end_time": "2023-11-04T23:09:53.649994",
     "exception": false,
     "start_time": "2023-11-04T23:09:53.583042",
     "status": "completed"
    },
    "tags": []
   },
   "source": [
    "GBC = GradientBoostingClassifier()"
   ],
   "outputs": [],
   "execution_count": null
  },
  {
   "cell_type": "code",
   "id": "3fd775e7",
   "metadata": {
    "execution": {
     "iopub.execute_input": "2023-11-04T23:09:53.768824Z",
     "iopub.status.busy": "2023-11-04T23:09:53.767661Z",
     "iopub.status.idle": "2023-11-04T23:09:53.773617Z",
     "shell.execute_reply": "2023-11-04T23:09:53.772791Z"
    },
    "papermill": {
     "duration": 0.067905,
     "end_time": "2023-11-04T23:09:53.775957",
     "exception": false,
     "start_time": "2023-11-04T23:09:53.708052",
     "status": "completed"
    },
    "tags": []
   },
   "source": [
    "param_grid = {\n",
    "              'n_estimators' : [300, 400, 500],\n",
    "              'learning_rate': [ 0.1, 0.3, 0.6, 1.0],\n",
    "              'max_depth': [8, 10, 12],\n",
    "              'min_samples_leaf': [50, 100, 120, 150],\n",
    "              'max_features': [0.1, 0.3, 0.5] \n",
    "              }\n"
   ],
   "outputs": [],
   "execution_count": null
  },
  {
   "cell_type": "code",
   "id": "2c96fb70",
   "metadata": {
    "execution": {
     "iopub.execute_input": "2023-11-04T23:09:53.896140Z",
     "iopub.status.busy": "2023-11-04T23:09:53.895084Z",
     "iopub.status.idle": "2023-11-04T23:09:53.900771Z",
     "shell.execute_reply": "2023-11-04T23:09:53.899897Z"
    },
    "papermill": {
     "duration": 0.068099,
     "end_time": "2023-11-04T23:09:53.903088",
     "exception": false,
     "start_time": "2023-11-04T23:09:53.834989",
     "status": "completed"
    },
    "tags": []
   },
   "source": [
    "CV_gbc = GridSearchCV(estimator=GBC, param_grid=param_grid, cv=StratifiedKFold(n_splits=5))"
   ],
   "outputs": [],
   "execution_count": null
  },
  {
   "cell_type": "code",
   "id": "3f96c62f",
   "metadata": {
    "execution": {
     "iopub.execute_input": "2023-11-04T23:09:54.020828Z",
     "iopub.status.busy": "2023-11-04T23:09:54.020111Z",
     "iopub.status.idle": "2023-11-04T23:23:36.678050Z",
     "shell.execute_reply": "2023-11-04T23:23:36.676899Z"
    },
    "papermill": {
     "duration": 822.777629,
     "end_time": "2023-11-04T23:23:36.738699",
     "exception": false,
     "start_time": "2023-11-04T23:09:53.961070",
     "status": "completed"
    },
    "tags": []
   },
   "source": [
    "pipefinalgbc= make_pipeline(col_trans, CV_gbc)\n",
    "pipefinalgbc.fit(X_train, y_train)"
   ],
   "outputs": [],
   "execution_count": null
  },
  {
   "cell_type": "code",
   "id": "206d84b9",
   "metadata": {
    "execution": {
     "iopub.execute_input": "2023-11-04T23:23:36.857621Z",
     "iopub.status.busy": "2023-11-04T23:23:36.856991Z",
     "iopub.status.idle": "2023-11-04T23:23:36.863151Z",
     "shell.execute_reply": "2023-11-04T23:23:36.861871Z"
    },
    "papermill": {
     "duration": 0.068339,
     "end_time": "2023-11-04T23:23:36.865443",
     "exception": false,
     "start_time": "2023-11-04T23:23:36.797104",
     "status": "completed"
    },
    "tags": []
   },
   "source": [
    "print(CV_gbc.best_params_)\n",
    "print(CV_gbc.best_score_)"
   ],
   "outputs": [],
   "execution_count": null
  },
  {
   "cell_type": "code",
   "id": "499f18c4",
   "metadata": {
    "execution": {
     "iopub.execute_input": "2023-11-04T23:23:36.986154Z",
     "iopub.status.busy": "2023-11-04T23:23:36.985700Z",
     "iopub.status.idle": "2023-11-04T23:23:36.991779Z",
     "shell.execute_reply": "2023-11-04T23:23:36.990439Z"
    },
    "papermill": {
     "duration": 0.070386,
     "end_time": "2023-11-04T23:23:36.994414",
     "exception": false,
     "start_time": "2023-11-04T23:23:36.924028",
     "status": "completed"
    },
    "tags": []
   },
   "source": [
    "vc1 = VotingClassifier([('gbc', CV_gbc.best_estimator_),\n",
    "                        ('etc', CV_etc.best_estimator_),\n",
    "                          ('nb', CV_gnb.best_estimator_)\n",
    "                         ], voting='hard', weights=[1,2,3] )"
   ],
   "outputs": [],
   "execution_count": null
  },
  {
   "cell_type": "code",
   "id": "a77cadbb",
   "metadata": {
    "execution": {
     "iopub.execute_input": "2023-11-04T23:23:37.115876Z",
     "iopub.status.busy": "2023-11-04T23:23:37.115391Z",
     "iopub.status.idle": "2023-11-04T23:23:37.121404Z",
     "shell.execute_reply": "2023-11-04T23:23:37.120198Z"
    },
    "papermill": {
     "duration": 0.069994,
     "end_time": "2023-11-04T23:23:37.124406",
     "exception": false,
     "start_time": "2023-11-04T23:23:37.054412",
     "status": "completed"
    },
    "tags": []
   },
   "source": [
    "vc2 = VotingClassifier([('abc', CV_abc.best_estimator_),\n",
    "                        ('etc', CV_etc.best_estimator_),\n",
    "                          ('nb', CV_gnb.best_estimator_)\n",
    "                         ], voting='hard', weights=[1,2,3] )\n",
    "#1,2,3 is the best performing one"
   ],
   "outputs": [],
   "execution_count": null
  },
  {
   "cell_type": "code",
   "id": "eb7b16bc",
   "metadata": {
    "execution": {
     "iopub.execute_input": "2023-11-04T23:23:37.242499Z",
     "iopub.status.busy": "2023-11-04T23:23:37.242092Z",
     "iopub.status.idle": "2023-11-04T23:23:37.247332Z",
     "shell.execute_reply": "2023-11-04T23:23:37.246181Z"
    },
    "papermill": {
     "duration": 0.066733,
     "end_time": "2023-11-04T23:23:37.249573",
     "exception": false,
     "start_time": "2023-11-04T23:23:37.182840",
     "status": "completed"
    },
    "tags": []
   },
   "source": [
    "pipefinalcv1 = make_pipeline(col_trans, vc1)"
   ],
   "outputs": [],
   "execution_count": null
  },
  {
   "cell_type": "code",
   "id": "55bc8d19",
   "metadata": {
    "execution": {
     "iopub.execute_input": "2023-11-04T23:23:37.370687Z",
     "iopub.status.busy": "2023-11-04T23:23:37.369969Z",
     "iopub.status.idle": "2023-11-04T23:23:37.375232Z",
     "shell.execute_reply": "2023-11-04T23:23:37.373999Z"
    },
    "papermill": {
     "duration": 0.069243,
     "end_time": "2023-11-04T23:23:37.377649",
     "exception": false,
     "start_time": "2023-11-04T23:23:37.308406",
     "status": "completed"
    },
    "tags": []
   },
   "source": [
    "pipefinalcv2 = make_pipeline(col_trans, vc2)"
   ],
   "outputs": [],
   "execution_count": null
  },
  {
   "cell_type": "code",
   "id": "7ca76ddd",
   "metadata": {
    "execution": {
     "iopub.execute_input": "2023-11-04T23:23:37.499233Z",
     "iopub.status.busy": "2023-11-04T23:23:37.498841Z",
     "iopub.status.idle": "2023-11-04T23:23:40.012306Z",
     "shell.execute_reply": "2023-11-04T23:23:40.010775Z"
    },
    "papermill": {
     "duration": 2.576801,
     "end_time": "2023-11-04T23:23:40.015163",
     "exception": false,
     "start_time": "2023-11-04T23:23:37.438362",
     "status": "completed"
    },
    "tags": []
   },
   "source": [
    "pipefinalcv1.fit(X_train, y_train)"
   ],
   "outputs": [],
   "execution_count": null
  },
  {
   "cell_type": "code",
   "id": "6fc37ccd",
   "metadata": {
    "execution": {
     "iopub.execute_input": "2023-11-04T23:23:40.135590Z",
     "iopub.status.busy": "2023-11-04T23:23:40.135140Z",
     "iopub.status.idle": "2023-11-04T23:23:40.930247Z",
     "shell.execute_reply": "2023-11-04T23:23:40.929084Z"
    },
    "papermill": {
     "duration": 0.858197,
     "end_time": "2023-11-04T23:23:40.932801",
     "exception": false,
     "start_time": "2023-11-04T23:23:40.074604",
     "status": "completed"
    },
    "tags": []
   },
   "source": [
    "pipefinalcv2.fit(X_train, y_train)"
   ],
   "outputs": [],
   "execution_count": null
  },
  {
   "cell_type": "code",
   "id": "b202c158",
   "metadata": {
    "execution": {
     "iopub.execute_input": "2023-11-04T23:23:41.057178Z",
     "iopub.status.busy": "2023-11-04T23:23:41.056721Z",
     "iopub.status.idle": "2023-11-04T23:23:41.587379Z",
     "shell.execute_reply": "2023-11-04T23:23:41.585983Z"
    },
    "papermill": {
     "duration": 0.597164,
     "end_time": "2023-11-04T23:23:41.590127",
     "exception": false,
     "start_time": "2023-11-04T23:23:40.992963",
     "status": "completed"
    },
    "tags": []
   },
   "source": [
    "Y_pred = pipefinalrfc.predict(X_test)\n",
    "Y_pred2 = pipefinaldtc.predict(X_test)\n",
    "Y_pred3 = pipefinalknn.predict(X_test)\n",
    "Y_pred4 = pipefinalsvc.predict(X_test)\n",
    "Y_pred5 = pipefinallr.predict(X_test)\n",
    "Y_pred6 = pipefinalgnb.predict(X_test)\n",
    "Y_pred7 = pipefinalxg.predict(X_test)\n",
    "Y_pred8 = pipefinalabc.predict(X_test)\n",
    "Y_pred9 = pipefinaletc.predict(X_test)\n",
    "Y_pred10 = pipefinalgbc.predict(X_test)\n",
    "Y_pred11 = pipefinalcv1.predict(X_test)\n",
    "Y_pred12 = pipefinalcv2.predict(X_test)"
   ],
   "outputs": [],
   "execution_count": null
  },
  {
   "cell_type": "code",
   "id": "4f99c919",
   "metadata": {
    "execution": {
     "iopub.execute_input": "2023-11-04T23:23:41.712510Z",
     "iopub.status.busy": "2023-11-04T23:23:41.712114Z",
     "iopub.status.idle": "2023-11-04T23:23:41.726302Z",
     "shell.execute_reply": "2023-11-04T23:23:41.725171Z"
    },
    "papermill": {
     "duration": 0.078481,
     "end_time": "2023-11-04T23:23:41.728815",
     "exception": false,
     "start_time": "2023-11-04T23:23:41.650334",
     "status": "completed"
    },
    "tags": []
   },
   "source": [
    "submission = pd.DataFrame({\n",
    "    'PassengerId': test_df['PassengerId'],\n",
    "    'Survived': Y_pred\n",
    "})\n",
    "\n",
    "submission2 = pd.DataFrame({\n",
    "    'PassengerId': test_df['PassengerId'],\n",
    "    'Survived': Y_pred2\n",
    "})\n",
    "\n",
    "submission3 = pd.DataFrame({\n",
    "    'PassengerId': test_df['PassengerId'],\n",
    "    'Survived': Y_pred3\n",
    "})\n",
    "\n",
    "submission4 = pd.DataFrame({\n",
    "    'PassengerId': test_df['PassengerId'],\n",
    "    'Survived': Y_pred4\n",
    "})\n",
    "\n",
    "submission5 = pd.DataFrame({\n",
    "    'PassengerId': test_df['PassengerId'],\n",
    "    'Survived': Y_pred5\n",
    "})\n",
    "\n",
    "submission6 = pd.DataFrame({\n",
    "    'PassengerId': test_df['PassengerId'],\n",
    "    'Survived': Y_pred6\n",
    "})\n",
    "\n",
    "submission7 = pd.DataFrame({\n",
    "    'PassengerId': test_df['PassengerId'],\n",
    "    'Survived': Y_pred7\n",
    "})\n",
    "\n",
    "submission8 = pd.DataFrame({\n",
    "    'PassengerId': test_df['PassengerId'],\n",
    "    'Survived': Y_pred8\n",
    "})\n",
    "\n",
    "submission9 = pd.DataFrame({\n",
    "    'PassengerId': test_df['PassengerId'],\n",
    "    'Survived': Y_pred9\n",
    "})\n",
    "\n",
    "submission10 = pd.DataFrame({\n",
    "    'PassengerId': test_df['PassengerId'],\n",
    "    'Survived': Y_pred10\n",
    "})\n",
    "\n",
    "submission11 = pd.DataFrame({\n",
    "        \"PassengerId\": test_df[\"PassengerId\"],\n",
    "        \"Survived\": Y_pred11\n",
    "})\n",
    "\n",
    "submission12 = pd.DataFrame({\n",
    "        \"PassengerId\": test_df[\"PassengerId\"],\n",
    "        \"Survived\": Y_pred12\n",
    "})"
   ],
   "outputs": [],
   "execution_count": null
  },
  {
   "cell_type": "code",
   "id": "85d39ee1",
   "metadata": {
    "execution": {
     "iopub.execute_input": "2023-11-04T23:23:41.855879Z",
     "iopub.status.busy": "2023-11-04T23:23:41.855025Z",
     "iopub.status.idle": "2023-11-04T23:23:41.887322Z",
     "shell.execute_reply": "2023-11-04T23:23:41.886027Z"
    },
    "papermill": {
     "duration": 0.099883,
     "end_time": "2023-11-04T23:23:41.890157",
     "exception": false,
     "start_time": "2023-11-04T23:23:41.790274",
     "status": "completed"
    },
    "tags": []
   },
   "source": [
    "# submission.to_csv('/kaggle/working/submission929_1.csv', index=False)\n",
    "# submission2.to_csv('/kaggle/working/submission929_2.csv', index=False)\n",
    "# submission3.to_csv('/kaggle/working/submission929_3.csv', index=False)\n",
    "# submission4.to_csv('/kaggle/working/submission929_4.csv', index=False)\n",
    "# submission5.to_csv('/kaggle/working/submission929_5.csv', index=False)\n",
    "# submission6.to_csv('/kaggle/working/submission929_6.csv', index=False)\n",
    "# submission7.to_csv('/kaggle/working/submission929_7.csv', index=False)\n",
    "# submission8.to_csv('/kaggle/working/submission101_8.csv', index=False)\n",
    "# submission9.to_csv('/kaggle/working/submission101_9.csv', index=False)\n",
    "# submission10.to_csv('/kaggle/working/submission101_10.csv', index=False)\n",
    "# submission11.to_csv('/kaggle/working/submission101_11.csv', index=False)\n",
    "# submission12.to_csv('/kaggle/working/submission101_12.csv', index=False)\n",
    "\n",
    "submission.to_csv('submission929_1.csv', index=False)\n",
    "submission2.to_csv('submission929_2.csv', index=False)\n",
    "submission3.to_csv('submission929_3.csv', index=False)\n",
    "submission4.to_csv('submission929_4.csv', index=False)\n",
    "submission5.to_csv('submission929_5.csv', index=False)\n",
    "submission6.to_csv('submission929_6.csv', index=False)\n",
    "submission7.to_csv('submission929_7.csv', index=False)\n",
    "submission8.to_csv('submission101_8.csv', index=False)\n",
    "submission9.to_csv('submission101_9.csv', index=False)\n",
    "submission10.to_csv('submission101_10.csv', index=False)\n",
    "submission11.to_csv('submission101_11.csv', index=False)\n",
    "submission12.to_csv('submission101_12.csv', index=False)"
   ],
   "outputs": [],
   "execution_count": null
  },
  {
   "cell_type": "code",
   "id": "c577d573",
   "metadata": {
    "papermill": {
     "duration": 0.060522,
     "end_time": "2023-11-04T23:23:42.011229",
     "exception": false,
     "start_time": "2023-11-04T23:23:41.950707",
     "status": "completed"
    },
    "tags": []
   },
   "source": [],
   "outputs": [],
   "execution_count": null
  }
 ],
 "metadata": {
  "kernelspec": {
   "display_name": "Python 3",
   "language": "python",
   "name": "python3"
  },
  "language_info": {
   "codemirror_mode": {
    "name": "ipython",
    "version": 3
   },
   "file_extension": ".py",
   "mimetype": "text/x-python",
   "name": "python",
   "nbconvert_exporter": "python",
   "pygments_lexer": "ipython3",
   "version": "3.10.12"
  },
  "papermill": {
   "default_parameters": {},
   "duration": 3968.415974,
   "end_time": "2023-11-04T23:23:44.710157",
   "environment_variables": {},
   "exception": null,
   "input_path": "__notebook__.ipynb",
   "output_path": "__notebook__.ipynb",
   "parameters": {},
   "start_time": "2023-11-04T22:17:36.294183",
   "version": "2.4.0"
  }
 },
 "nbformat": 4,
 "nbformat_minor": 5
}
